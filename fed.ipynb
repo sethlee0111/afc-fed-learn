{
 "cells": [
  {
   "cell_type": "markdown",
   "metadata": {
    "colab_type": "text",
    "id": "d6n47ueeqbXb"
   },
   "source": [
    "## Personalized Learning (Localized Learning?)\n",
    "\n",
    "#### This notebook includes the following online models;\n",
    "1. A single global model with all data\n",
    "2. Multiple local models (starting from a single global model)\n",
    "   1. that are updated with new data\n",
    "   2. that exchanges data in clusters\n",
    "   3. that exchanges parameters in clusters\n",
    "\n",
    "  \n",
    "#### The dataset that is used for this project is [CIFAR-100 dataset][1]\n",
    "* Has 100 classes containing 600 images each\n",
    "\n",
    "#### New data are fed by the following rules;\n",
    "1. Distributed, according to superclasses\n",
    "  * Clusters will only be updated with data that belongs to a specific superclass\n",
    "  * We update the NN by\n",
    "    1. Changing all parameters of the NN\n",
    "    2. Only changing the last few layers, as in many MTL models\n",
    "2. Randomly (why?)\n",
    "\n",
    "#### We expect to find an answer to the following research questions with this project;\n",
    "1. If models are updated with data (or parameters) that are shared within a cluster, can the model perform good enough with the labels that count?\n",
    "  * For example, the performance of the cluster that are updated with \"Vehicles\" superclass is only assessed with the labels that corresponds to the superclass.\n",
    "  \n",
    "[1]: https://www.cs.toronto.edu/~kriz/cifar.html"
   ]
  },
  {
   "cell_type": "markdown",
   "metadata": {
    "colab_type": "text",
    "id": "Oji0BTfoqbXc"
   },
   "source": [
    "#### Questions\n",
    "\n",
    "Retraining: how does it work <br>\n",
    "How do we compare these models?\n"
   ]
  },
  {
   "cell_type": "markdown",
   "metadata": {
    "colab_type": "text",
    "id": "mr4-uY0LqbXd"
   },
   "source": [
    "### Implementation with Custom Neural Network and EMNIST dataset"
   ]
  },
  {
   "cell_type": "code",
   "execution_count": 44,
   "metadata": {
    "scrolled": true
   },
   "outputs": [
    {
     "name": "stdout",
     "output_type": "stream",
     "text": [
      "The tensorboard extension is already loaded. To reload it, use:\n",
      "  %reload_ext tensorboard\n"
     ]
    }
   ],
   "source": [
    "%load_ext tensorboard"
   ]
  },
  {
   "cell_type": "code",
   "execution_count": 1,
   "metadata": {
    "colab": {
     "base_uri": "https://localhost:8080/",
     "height": 34
    },
    "colab_type": "code",
    "id": "tGoXLnOyqbXe",
    "outputId": "9ccd7215-80bf-4a0a-b852-8896b17c38f1",
    "scrolled": true
   },
   "outputs": [],
   "source": [
    "from __future__ import print_function\n",
    "import tensorflow.keras as keras\n",
    "from tensorflow.keras.datasets import mnist\n",
    "from tensorflow.keras.models import Sequential\n",
    "from tensorflow.keras.layers import Dense, Dropout, Flatten\n",
    "from tensorflow.keras.layers import Conv2D, MaxPooling2D\n",
    "from tensorflow.keras import backend as K"
   ]
  },
  {
   "cell_type": "code",
   "execution_count": 2,
   "metadata": {},
   "outputs": [],
   "source": [
    "import matplotlib"
   ]
  },
  {
   "cell_type": "code",
   "execution_count": 3,
   "metadata": {
    "scrolled": true
   },
   "outputs": [],
   "source": [
    "import datetime\n",
    "import numpy as np\n",
    "import matplotlib.pyplot as plt\n",
    "import seaborn as sns\n",
    "import matplotlib.lines as mlines"
   ]
  },
  {
   "cell_type": "code",
   "execution_count": 4,
   "metadata": {},
   "outputs": [],
   "source": [
    "import tensorflow as tf\n",
    "log_dir = \"logs/fit/\" + datetime.datetime.now().strftime(\"%Y%m%d-%H%M%S\")\n",
    "tensorboard_callback = tf.keras.callbacks.TensorBoard(log_dir=log_dir, histogram_freq=1)"
   ]
  },
  {
   "cell_type": "code",
   "execution_count": 49,
   "metadata": {},
   "outputs": [
    {
     "data": {
      "text/plain": [
       "'1.15.2'"
      ]
     },
     "execution_count": 49,
     "metadata": {},
     "output_type": "execute_result"
    }
   ],
   "source": [
    "tf.__version__"
   ]
  },
  {
   "cell_type": "code",
   "execution_count": 5,
   "metadata": {
    "colab": {},
    "colab_type": "code",
    "id": "E2faBs1yqbXj"
   },
   "outputs": [],
   "source": [
    "# Hyperparameters\n",
    "batch_size = 50\n",
    "epochs = 20\n",
    "\n",
    "# input image dimensions\n",
    "img_rows, img_cols = 28, 28"
   ]
  },
  {
   "cell_type": "markdown",
   "metadata": {
    "colab_type": "text",
    "id": "QXfylSWLqbXl"
   },
   "source": [
    "#### Load MNIST dataset"
   ]
  },
  {
   "cell_type": "code",
   "execution_count": 6,
   "metadata": {},
   "outputs": [],
   "source": [
    "# the data, split between train and test sets\n",
    "(x_train, y_train), (x_test, y_test) = mnist.load_data()"
   ]
  },
  {
   "cell_type": "code",
   "execution_count": 7,
   "metadata": {},
   "outputs": [],
   "source": [
    "if K.image_data_format() == 'channels_first':\n",
    "    x_train = x_train.reshape(x_train.shape[0], 1, img_rows, img_cols)\n",
    "    x_test = x_test.reshape(x_test.shape[0], 1, img_rows, img_cols)\n",
    "    input_shape = (1, img_rows, img_cols)\n",
    "else:\n",
    "    x_train = x_train.reshape(x_train.shape[0], img_rows, img_cols, 1)\n",
    "    x_test = x_test.reshape(x_test.shape[0], img_rows, img_cols, 1)\n",
    "    input_shape = (img_rows, img_cols, 1)"
   ]
  },
  {
   "cell_type": "code",
   "execution_count": 8,
   "metadata": {},
   "outputs": [
    {
     "data": {
      "text/plain": [
       "(60000, 28, 28, 1)"
      ]
     },
     "execution_count": 8,
     "metadata": {},
     "output_type": "execute_result"
    }
   ],
   "source": [
    "x_train.shape"
   ]
  },
  {
   "cell_type": "code",
   "execution_count": 9,
   "metadata": {},
   "outputs": [],
   "source": [
    "x_train = x_train.astype('float32')\n",
    "x_test = x_test.astype('float32')\n",
    "x_train /= 255\n",
    "x_test /= 255"
   ]
  },
  {
   "cell_type": "code",
   "execution_count": 12,
   "metadata": {},
   "outputs": [
    {
     "data": {
      "text/plain": [
       "10"
      ]
     },
     "execution_count": 12,
     "metadata": {},
     "output_type": "execute_result"
    }
   ],
   "source": [
    "len(np.unique(y_train))"
   ]
  },
  {
   "cell_type": "code",
   "execution_count": 29,
   "metadata": {},
   "outputs": [],
   "source": [
    "import utils"
   ]
  },
  {
   "cell_type": "code",
   "execution_count": 47,
   "metadata": {},
   "outputs": [
    {
     "data": {
      "text/plain": [
       "<module 'utils' from '/home/seth/projects/fed-learn-experiment/utils.py'>"
      ]
     },
     "execution_count": 47,
     "metadata": {},
     "output_type": "execute_result"
    }
   ],
   "source": [
    "import importlib\n",
    "importlib.reload(utils)"
   ]
  },
  {
   "cell_type": "code",
   "execution_count": 55,
   "metadata": {},
   "outputs": [],
   "source": [
    "X_local_list, Y_local_list = utils.split_training_set_by_number(30, x_train, y_train)"
   ]
  },
  {
   "cell_type": "code",
   "execution_count": 57,
   "metadata": {},
   "outputs": [],
   "source": [
    "y_test = keras.utils.to_categorical(y_test, num_classes)"
   ]
  },
  {
   "cell_type": "markdown",
   "metadata": {},
   "source": [
    "### Define models and compile & fit function"
   ]
  },
  {
   "cell_type": "code",
   "execution_count": 59,
   "metadata": {},
   "outputs": [],
   "source": [
    "def custom_model():\n",
    "    model = Sequential()\n",
    "    model.add(Flatten(input_shape=input_shape))\n",
    "    model.add(Dense(200, activation='relu'))\n",
    "    model.add(Dense(200, activation='relu'))\n",
    "    model.add(Dense(num_classes, activation='softmax'))\n",
    "    return model"
   ]
  },
  {
   "cell_type": "code",
   "execution_count": 60,
   "metadata": {},
   "outputs": [],
   "source": [
    "def compile_model(model):  \n",
    "    # initiate SGD optimizer\n",
    "    opt = keras.optimizers.SGD(lr=0.1)\n",
    "    model.compile(loss='mean_squared_error', optimizer=opt, metrics=['accuracy'])"
   ]
  },
  {
   "cell_type": "code",
   "execution_count": 61,
   "metadata": {},
   "outputs": [],
   "source": [
    "def compile_model_lr(model):  \n",
    "    # initiate SGD optimizer\n",
    "    opt = keras.optimizers.SGD(lr=lr, decay=1e-6, momentum=0.9, nesterov=True)\n",
    "    model.compile(loss='mean_squared_error', optimizer=opt, metrics=['accuracy'])"
   ]
  },
  {
   "cell_type": "code",
   "execution_count": 62,
   "metadata": {},
   "outputs": [],
   "source": [
    "def fit_model_global(model, epochs):\n",
    "    now = datetime.datetime.now()\n",
    "    print (\"Training date and time : \")\n",
    "    print (now.strftime(\"%Y-%m-%d %H:%M:%S\"))\n",
    "    return model.fit(X_global, Y_global,\n",
    "                      batch_size=100,\n",
    "                      epochs=40,\n",
    "                      shuffle=True, callbacks=[tensorboard_callback])"
   ]
  },
  {
   "cell_type": "code",
   "execution_count": 63,
   "metadata": {},
   "outputs": [],
   "source": [
    "def fit_model_with_datasets(model, epochs, x_train, y_train):\n",
    "    now = datetime.datetime.now()\n",
    "    print (\"Training date and time : \")\n",
    "    print (now.strftime(\"%Y-%m-%d %H:%M:%S\"))\n",
    "    return model.fit(x_train, y_train,\n",
    "                      batch_size=batch_size,\n",
    "                      epochs=epochs,\n",
    "                      shuffle=True, validation_split=0.1, verbose=0)"
   ]
  },
  {
   "cell_type": "code",
   "execution_count": 64,
   "metadata": {
    "scrolled": true
   },
   "outputs": [
    {
     "name": "stdout",
     "output_type": "stream",
     "text": [
      "WARNING:tensorflow:From /home/seth/.local/lib/python3.6/site-packages/tensorflow_core/python/ops/resource_variable_ops.py:1630: calling BaseResourceVariable.__init__ (from tensorflow.python.ops.resource_variable_ops) with constraint is deprecated and will be removed in a future version.\n",
      "Instructions for updating:\n",
      "If using Keras pass *_constraint arguments to layers.\n",
      "Training date and time : \n",
      "2020-05-13 15:39:57\n"
     ]
    },
    {
     "data": {
      "text/plain": [
       "<tensorflow.python.keras.callbacks.History at 0x7efb6956b5c0>"
      ]
     },
     "execution_count": 64,
     "metadata": {},
     "output_type": "execute_result"
    }
   ],
   "source": [
    "model1 = custom_model()"
   ]
  },
  {
   "cell_type": "code",
   "execution_count": 65,
   "metadata": {},
   "outputs": [
    {
     "name": "stdout",
     "output_type": "stream",
     "text": [
      "WARNING:tensorflow:From /home/seth/.local/lib/python3.6/site-packages/tensorflow_core/python/ops/init_ops.py:97: calling GlorotUniform.__init__ (from tensorflow.python.ops.init_ops) with dtype is deprecated and will be removed in a future version.\n",
      "Instructions for updating:\n",
      "Call initializer instance with the dtype argument instead of passing it to the constructor\n",
      "WARNING:tensorflow:From /home/seth/.local/lib/python3.6/site-packages/tensorflow_core/python/ops/init_ops.py:97: calling Zeros.__init__ (from tensorflow.python.ops.init_ops) with dtype is deprecated and will be removed in a future version.\n",
      "Instructions for updating:\n",
      "Call initializer instance with the dtype argument instead of passing it to the constructor\n"
     ]
    }
   ],
   "source": [
    "model_list = list()\n",
    "for _ in range(30):\n",
    "    model_list.append(tf.keras.models.clone_model(model1)) \n",
    "    model_list[_].set_weights(model1.get_weights())"
   ]
  },
  {
   "cell_type": "markdown",
   "metadata": {},
   "source": [
    "### Conduct transfer learning in local models using different datasets & epochs\n"
   ]
  },
  {
   "cell_type": "code",
   "execution_count": 69,
   "metadata": {
    "scrolled": true
   },
   "outputs": [
    {
     "name": "stdout",
     "output_type": "stream",
     "text": [
      "Training date and time : \n",
      "2020-05-13 15:40:16\n",
      "Training date and time : \n",
      "2020-05-13 15:40:16\n",
      "Training date and time : \n",
      "2020-05-13 15:40:17\n",
      "Training date and time : \n",
      "2020-05-13 15:40:17\n",
      "Training date and time : \n",
      "2020-05-13 15:40:18\n",
      "Training date and time : \n",
      "2020-05-13 15:40:18\n",
      "Training date and time : \n",
      "2020-05-13 15:40:19\n",
      "Training date and time : \n",
      "2020-05-13 15:40:19\n",
      "Training date and time : \n",
      "2020-05-13 15:40:20\n",
      "Training date and time : \n",
      "2020-05-13 15:40:20\n",
      "Training date and time : \n",
      "2020-05-13 15:40:21\n",
      "Training date and time : \n",
      "2020-05-13 15:40:21\n",
      "Training date and time : \n",
      "2020-05-13 15:40:22\n",
      "Training date and time : \n",
      "2020-05-13 15:40:22\n",
      "Training date and time : \n",
      "2020-05-13 15:40:23\n"
     ]
    }
   ],
   "source": [
    "for i in range(len(model_list)):\n",
    "    compile_model(model_list[i])\n",
    "    fit_model_with_datasets(model_list[i], 5, X_local_list[i], Y_local_list[i])"
   ]
  },
  {
   "cell_type": "code",
   "execution_count": null,
   "metadata": {},
   "outputs": [],
   "source": [
    "acc_list = list()\n",
    "for r in range(20):\n",
    "    loss=global_model.evaluate(x=x_test, y=y_test)\n",
    "    acc_list.append(loss[1])\n",
    "\n",
    "    for i in range(len(model_list)):\n",
    "        print('Round: {}, Model #{}'.format(r, i))\n",
    "        model_list[i].set_weights(global_model.get_weights())\n",
    "        model_list[i].fit(x = X_train_list[i],\n",
    "                            y = X_train_list[i],\n",
    "                            batch_size = batch_size,\n",
    "                            validation_data = (X_validation, X_validation),\n",
    "                            epochs=E)\n",
    "\n",
    "    # aggregate\n",
    "    avg_weight = np.average(np.array([np.array(m.get_weights()) for ae in model_list]), axis=0)\n",
    "    global_model.set_weights(avg_weight)"
   ]
  },
  {
   "cell_type": "markdown",
   "metadata": {},
   "source": [
    "### Let's see how these models are different from each other, compared to the base model(before training)\n"
   ]
  },
  {
   "cell_type": "code",
   "execution_count": 70,
   "metadata": {},
   "outputs": [
    {
     "name": "stdout",
     "output_type": "stream",
     "text": [
      "[0.2728885, 0.27296543, 0.2729226, 0.27297133, 0.27288622, 0.27302328, 0.27307254, 0.27301386, 0.2728413, 0.27303883, 0.2729937, 0.2728942, 0.27295867, 0.27307215, 0.2728081]\n"
     ]
    }
   ],
   "source": [
    "dists = [semantic_drift.l2_distance(standard_model, m) for m in model_list]\n",
    "print(dists)"
   ]
  },
  {
   "cell_type": "code",
   "execution_count": 71,
   "metadata": {},
   "outputs": [
    {
     "data": {
      "text/plain": [
       "array([ 5, 10, 15, 20, 25, 30, 35, 40, 45, 50, 55, 60, 65, 70, 75, 80])"
      ]
     },
     "execution_count": 71,
     "metadata": {},
     "output_type": "execute_result"
    }
   ],
   "source": [
    "np.arange(5, (len(dists)+2)*5, 5)"
   ]
  },
  {
   "cell_type": "code",
   "execution_count": 79,
   "metadata": {},
   "outputs": [],
   "source": [
    "def model_combs(model_list, model_dists):\n",
    "    combs = list()\n",
    "    dists = list()\n",
    "    l = len(model_list)\n",
    "    for i in range(l):\n",
    "        for j in range(l):\n",
    "            if i > j:\n",
    "                combs.append([model_list[i], model_list[j]])\n",
    "                dists.append(np.abs(model_dists[i]-model_dists[j]))\n",
    "    combs_sorted = [x for _,x in sorted(zip(dists, combs))]\n",
    "    return combs_sorted, sorted(dists)"
   ]
  },
  {
   "cell_type": "markdown",
   "metadata": {},
   "source": [
    "### The l2-distance increases with respect to the number of dataset"
   ]
  },
  {
   "cell_type": "code",
   "execution_count": 72,
   "metadata": {},
   "outputs": [
    {
     "data": {
      "image/png": "[encoded data removed]",
      "text/plain": [
       "<Figure size 432x288 with 1 Axes>"
      ]
     },
     "metadata": {
      "needs_background": "light"
     },
     "output_type": "display_data"
    }
   ],
   "source": [
    "import matplotlib.pyplot as plt\n",
    "plt.plot(np.arange(5, (len(dists)+1)*5, 5), np.array(dists))\n",
    "plt.ylabel(\"l2 distance\")\n",
    "plt.xlabel(\"epochs\")\n",
    "plt.show()"
   ]
  },
  {
   "cell_type": "markdown",
   "metadata": {},
   "source": [
    "### Get model combinations"
   ]
  },
  {
   "cell_type": "code",
   "execution_count": 81,
   "metadata": {},
   "outputs": [],
   "source": [
    "combs, model_dists = model_combs(model_list, dists)"
   ]
  },
  {
   "cell_type": "code",
   "execution_count": 82,
   "metadata": {},
   "outputs": [],
   "source": [
    "theta_list = [0, 0.6, 1]\n",
    "agg_weights_list_per_pi = list()\n",
    "dist_list = list()\n",
    "\n",
    "for comb in combs:\n",
    "    weights = [comb[0].get_weights(), comb[1].get_weights()]\n",
    "    agg_weights_list = list()\n",
    "    for theta in theta_list:\n",
    "        agg_weights = list()\n",
    "        for weights_list_tuple in zip(*weights):\n",
    "            agg_weights.append(np.array([np.average(np.array(w), axis=0, weights=[1. - theta, theta]) for w in zip(*weights_list_tuple)]))\n",
    "        agg_weights_list.append(agg_weights)\n",
    "    agg_weights_list_per_pi.append(agg_weights_list)"
   ]
  },
  {
   "cell_type": "code",
   "execution_count": 83,
   "metadata": {},
   "outputs": [
    {
     "name": "stdout",
     "output_type": "stream",
     "text": [
      "10th iteration\n",
      "20th iteration\n",
      "30th iteration\n",
      "40th iteration\n",
      "50th iteration\n",
      "60th iteration\n",
      "70th iteration\n",
      "80th iteration\n",
      "90th iteration\n",
      "100th iteration\n"
     ]
    }
   ],
   "source": [
    "B = np.zeros(len(agg_weights_list_per_pi))\n",
    "\n",
    "i = 0\n",
    "for agg_weights_list in agg_weights_list_per_pi:\n",
    "\n",
    "    aggr_model = keras.models.clone_model(model1)\n",
    "    aggr_model.set_weights(agg_weights_list[1])\n",
    "    compile_model(aggr_model)\n",
    "    score = aggr_model.evaluate(x=x_test, y=y_test, verbose=0)\n",
    "\n",
    "    aggr_model = keras.models.clone_model(model1)\n",
    "    aggr_model.set_weights(agg_weights_list[0])\n",
    "    compile_model(aggr_model)\n",
    "    comp_score1 = aggr_model.evaluate(x=x_test, y=y_test, verbose=0)\n",
    "\n",
    "    aggr_model = keras.models.clone_model(model1)\n",
    "    aggr_model.set_weights(agg_weights_list[2])\n",
    "    compile_model(aggr_model)\n",
    "    comp_score2 = aggr_model.evaluate(x=x_test, y=y_test, verbose=0)\n",
    "\n",
    "    B[i] = min(comp_score1[0], comp_score2[0]) - score[0]\n",
    "    K.clear_session() #prevent memory leak https://github.com/keras-team/keras/issues/13118\n",
    "    i += 1\n",
    "    if i % 10 == 0:\n",
    "        print(\"{}th iteration\".format(i))"
   ]
  },
  {
   "cell_type": "code",
   "execution_count": 84,
   "metadata": {},
   "outputs": [
    {
     "data": {
      "image/png": "[encoded data removed]",
      "text/plain": [
       "<Figure size 432x288 with 1 Axes>"
      ]
     },
     "metadata": {
      "needs_background": "light"
     },
     "output_type": "display_data"
    }
   ],
   "source": [
    "plt.plot(np.array(model_dists), np.array(B))\n",
    "plt.ylabel(\"aggregation benefit in loss\")\n",
    "plt.xlabel(\"l2 distance\")\n",
    "plt.show()"
   ]
  },
  {
   "cell_type": "code",
   "execution_count": null,
   "metadata": {},
   "outputs": [],
   "source": []
  },
  {
   "cell_type": "code",
   "execution_count": null,
   "metadata": {},
   "outputs": [],
   "source": []
  },
  {
   "cell_type": "code",
   "execution_count": null,
   "metadata": {},
   "outputs": [],
   "source": []
  },
  {
   "cell_type": "code",
   "execution_count": null,
   "metadata": {},
   "outputs": [],
   "source": []
  },
  {
   "cell_type": "code",
   "execution_count": null,
   "metadata": {},
   "outputs": [],
   "source": []
  },
  {
   "cell_type": "markdown",
   "metadata": {},
   "source": [
    "### Change THETA_AS_VARIABLE to true to get a 3D graph"
   ]
  },
  {
   "cell_type": "code",
   "execution_count": 130,
   "metadata": {},
   "outputs": [],
   "source": [
    "THETA_AS_VARIABLE = False"
   ]
  },
  {
   "cell_type": "code",
   "execution_count": 131,
   "metadata": {},
   "outputs": [],
   "source": [
    "if not THETA_AS_VARIABLE:\n",
    "    theta_list = [0, 0.6, 1]\n",
    "    agg_weights_list_per_pi = list()\n",
    "    dist_list = list()\n",
    "\n",
    "    for model in model_list:\n",
    "        weights = [model1.get_weights(), model.get_weights()]\n",
    "        agg_weights_list = list()\n",
    "        for theta in theta_list:\n",
    "            agg_weights = list()\n",
    "            for weights_list_tuple in zip(*weights):\n",
    "                agg_weights.append(np.array([np.average(np.array(w), axis=0, weights=[1. - theta, theta]) for w in zip(*weights_list_tuple)]))\n",
    "            agg_weights_list.append(agg_weights)\n",
    "        dist_list.append(semantic_drift.l2_distance(model1, model))\n",
    "        agg_weights_list_per_pi.append(agg_weights_list)"
   ]
  },
  {
   "cell_type": "code",
   "execution_count": 132,
   "metadata": {},
   "outputs": [],
   "source": [
    "if THETA_AS_VARIABLE:\n",
    "    theta_list = list(np.arange(0, 1.05, 0.05))\n",
    "    agg_weights_list_per_pi = list()    # \\pi for perturbations\n",
    "    dist_list = list()\n",
    "    for model in model_list:\n",
    "        weights = [model1.get_weights(), model.get_weights()]\n",
    "        agg_weights_list = list()\n",
    "        for theta in theta_list:\n",
    "            agg_weights = list()\n",
    "            for weights_list_tuple in zip(*weights):\n",
    "                agg_weights.append(np.array([np.average(np.array(w), axis=0, weights=[1. - theta, theta]) for w in zip(*weights_list_tuple)]))\n",
    "            agg_weights_list.append(agg_weights)\n",
    "        dist_list.append(semantic_drift.l2_distance(model1, model))\n",
    "        agg_weights_list_per_pi.append(agg_weights_list)"
   ]
  },
  {
   "cell_type": "code",
   "execution_count": 133,
   "metadata": {},
   "outputs": [
    {
     "data": {
      "text/plain": [
       "40"
      ]
     },
     "execution_count": 133,
     "metadata": {},
     "output_type": "execute_result"
    }
   ],
   "source": [
    "len(dist_list)"
   ]
  },
  {
   "cell_type": "code",
   "execution_count": 134,
   "metadata": {},
   "outputs": [],
   "source": [
    "if not (np.diff(dist_list)>0).all():\n",
    "    print(\"The dist list does not monotonically increase!\")"
   ]
  },
  {
   "cell_type": "code",
   "execution_count": 135,
   "metadata": {},
   "outputs": [
    {
     "name": "stdout",
     "output_type": "stream",
     "text": [
      "10th iteration\n",
      "20th iteration\n",
      "30th iteration\n",
      "40th iteration\n"
     ]
    }
   ],
   "source": [
    "if not THETA_AS_VARIABLE:\n",
    "    B = np.zeros(len(agg_weights_list_per_pi))\n",
    "\n",
    "    i = 0\n",
    "    for agg_weights_list in agg_weights_list_per_pi:\n",
    "\n",
    "        aggr_model = keras.models.clone_model(model1)\n",
    "        aggr_model.set_weights(agg_weights_list[1])\n",
    "        compile_model(aggr_model)\n",
    "        score = aggr_model.evaluate(x=x_test, y=y_test, verbose=0)\n",
    "        \n",
    "        aggr_model = keras.models.clone_model(model1)\n",
    "        aggr_model.set_weights(agg_weights_list[0])\n",
    "        compile_model(aggr_model)\n",
    "        comp_score1 = aggr_model.evaluate(x=x_test, y=y_test, verbose=0)\n",
    "        \n",
    "        aggr_model = keras.models.clone_model(model1)\n",
    "        aggr_model.set_weights(agg_weights_list[2])\n",
    "        compile_model(aggr_model)\n",
    "        comp_score2 = aggr_model.evaluate(x=x_test, y=y_test, verbose=0)\n",
    "        \n",
    "        B[i] = score[0] - min(comp_score1[0], comp_score2[0])\n",
    "        K.clear_session() #prevent memory leak https://github.com/keras-team/keras/issues/13118\n",
    "        i += 1\n",
    "        if i % 10 == 0:\n",
    "            print(\"{}th iteration\".format(i))"
   ]
  },
  {
   "cell_type": "code",
   "execution_count": 136,
   "metadata": {},
   "outputs": [
    {
     "data": {
      "image/png": "[encoded data removed]",
      "text/plain": [
       "<Figure size 432x288 with 1 Axes>"
      ]
     },
     "metadata": {
      "needs_background": "light"
     },
     "output_type": "display_data"
    }
   ],
   "source": [
    "epoch_list = np.arange(5, (len(dist_list)+1)*5, 5)\n",
    "if not THETA_AS_VARIABLE:\n",
    "    plt.plot(np.array(dist_list), np.array(B))\n",
    "    plt.ylabel(\"aggregation benefit\")\n",
    "    plt.xlabel(\"l2 distance\")\n",
    "    plt.show()"
   ]
  },
  {
   "cell_type": "code",
   "execution_count": 93,
   "metadata": {
    "scrolled": true
   },
   "outputs": [
    {
     "name": "stdout",
     "output_type": "stream",
     "text": [
      "1th iteration\n",
      "2th iteration\n",
      "3th iteration\n",
      "4th iteration\n",
      "5th iteration\n",
      "6th iteration\n",
      "7th iteration\n",
      "8th iteration\n",
      "9th iteration\n",
      "10th iteration\n",
      "11th iteration\n",
      "12th iteration\n",
      "13th iteration\n",
      "14th iteration\n",
      "15th iteration\n",
      "16th iteration\n",
      "17th iteration\n",
      "18th iteration\n",
      "19th iteration\n",
      "20th iteration\n"
     ]
    }
   ],
   "source": [
    "if THETA_AS_VARIABLE:\n",
    "    X, Y = np.meshgrid(np.array(theta_list), np.array(dist_list))\n",
    "    Z = np.zeros(X.shape)\n",
    "    i = 0\n",
    "    for agg_weights_list in agg_weights_list_per_pi:\n",
    "        j = 0\n",
    "        for agg_weights in agg_weights_list:\n",
    "            aggr_model = keras.models.clone_model(model1)\n",
    "            aggr_model.set_weights(agg_weights)\n",
    "            compile_model(aggr_model)\n",
    "            score = aggr_model.evaluate(x=x_test, y=y_test, verbose=0)\n",
    "            Z[i][j] = score[0]\n",
    "            j += 1\n",
    "            K.clear_session() #prevent memory leak https://github.com/keras-team/keras/issues/13118\n",
    "        i += 1\n",
    "        print(\"{}th iteration\".format(i))"
   ]
  },
  {
   "cell_type": "code",
   "execution_count": 94,
   "metadata": {},
   "outputs": [],
   "source": [
    "from mpl_toolkits.mplot3d import Axes3D\n",
    "import matplotlib.pyplot as plt\n",
    "from matplotlib import cm\n",
    "from matplotlib.ticker import LinearLocator, FormatStrFormatter"
   ]
  },
  {
   "cell_type": "code",
   "execution_count": 98,
   "metadata": {},
   "outputs": [
    {
     "data": {
      "image/png": "[encoded data removed]",
      "text/plain": [
       "<Figure size 432x288 with 2 Axes>"
      ]
     },
     "metadata": {
      "needs_background": "light"
     },
     "output_type": "display_data"
    }
   ],
   "source": [
    "if THETA_AS_VARIABLE:\n",
    "    fig = plt.figure()\n",
    "    ax = fig.gca(projection='3d')\n",
    "    surf = ax.plot_surface(X, Y, Z, cmap=cm.rainbow,\n",
    "                           linewidth=0, antialiased=False)\n",
    "    ax.set_xlabel('$theta$')\n",
    "    ax.set_ylabel('$distance$')\n",
    "    ax.set_zlabel('$loss$')\n",
    "    # Customize the z axis.\n",
    "    # ax.set_xlim(0.051, 0.054)\n",
    "    # ax.zaxis.set_major_locator(LinearLocator(10))\n",
    "    # ax.zaxis.set_major_formatter(FormatStrFormatter('%.02f'))\n",
    "    ax.view_init(0, 45)\n",
    "    # ax.view_init(0, 0)\n",
    "    # Add a color bar which maps values to colors.\n",
    "    fig.colorbar(surf, shrink=0.5, aspect=5)\n",
    "    plt.savefig('fig1.png')\n",
    "    plt.show()"
   ]
  },
  {
   "cell_type": "code",
   "execution_count": null,
   "metadata": {},
   "outputs": [],
   "source": []
  },
  {
   "cell_type": "code",
   "execution_count": null,
   "metadata": {},
   "outputs": [],
   "source": []
  }
 ],
 "metadata": {
  "colab": {
   "name": "personalized.ipynb",
   "provenance": [],
   "version": "0.3.2"
  },
  "kernelspec": {
   "display_name": "Python 3",
   "language": "python",
   "name": "python3"
  },
  "language_info": {
   "codemirror_mode": {
    "name": "ipython",
    "version": 3
   },
   "file_extension": ".py",
   "mimetype": "text/x-python",
   "name": "python",
   "nbconvert_exporter": "python",
   "pygments_lexer": "ipython3",
   "version": "3.6.9"
  }
 },
 "nbformat": 4,
 "nbformat_minor": 1
}
