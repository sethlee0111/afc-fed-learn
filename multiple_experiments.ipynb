{
 "cells": [
  {
   "cell_type": "code",
   "execution_count": 1,
   "metadata": {},
   "outputs": [],
   "source": [
    "import numpy as np"
   ]
  },
  {
   "cell_type": "code",
   "execution_count": 2,
   "metadata": {},
   "outputs": [],
   "source": [
    "import importlib\n",
    "import aggregation_experiment_transferred as _exp"
   ]
  },
  {
   "cell_type": "code",
   "execution_count": 3,
   "metadata": {},
   "outputs": [
    {
     "data": {
      "text/plain": [
       "<module 'aggregation_experiment_transferred' from '/home/seth/projects/fed-learn-experiment/aggregation_experiment_transferred.py'>"
      ]
     },
     "execution_count": 3,
     "metadata": {},
     "output_type": "execute_result"
    }
   ],
   "source": [
    "importlib.reload(_exp)"
   ]
  },
  {
   "cell_type": "code",
   "execution_count": 4,
   "metadata": {
    "scrolled": true
   },
   "outputs": [
    {
     "name": "stdout",
     "output_type": "stream",
     "text": [
      "seed 0\n",
      "WARNING:tensorflow:From /home/seth/projects/fed-learn-experiment/flexp/lib/python3.6/site-packages/tensorflow_core/python/ops/resource_variable_ops.py:1630: calling BaseResourceVariable.__init__ (from tensorflow.python.ops.resource_variable_ops) with constraint is deprecated and will be removed in a future version.\n",
      "Instructions for updating:\n",
      "If using Keras pass *_constraint arguments to layers.\n",
      "WARNING:tensorflow:From /home/seth/projects/fed-learn-experiment/flexp/lib/python3.6/site-packages/tensorflow_core/python/ops/init_ops.py:97: calling GlorotUniform.__init__ (from tensorflow.python.ops.init_ops) with dtype is deprecated and will be removed in a future version.\n",
      "Instructions for updating:\n",
      "Call initializer instance with the dtype argument instead of passing it to the constructor\n",
      "WARNING:tensorflow:From /home/seth/projects/fed-learn-experiment/flexp/lib/python3.6/site-packages/tensorflow_core/python/ops/init_ops.py:97: calling Zeros.__init__ (from tensorflow.python.ops.init_ops) with dtype is deprecated and will be removed in a future version.\n",
      "Instructions for updating:\n",
      "Call initializer instance with the dtype argument instead of passing it to the constructor\n",
      "10th iteration\n",
      "20th iteration\n",
      "30th iteration\n",
      "40th iteration\n",
      "50th iteration\n",
      "60th iteration\n",
      "70th iteration\n",
      "80th iteration\n",
      "90th iteration\n",
      "100th iteration\n",
      "110th iteration\n",
      "120th iteration\n",
      "130th iteration\n",
      "140th iteration\n",
      "150th iteration\n",
      "160th iteration\n",
      "170th iteration\n",
      "180th iteration\n",
      "190th iteration\n",
      "seed 1\n",
      "10th iteration\n",
      "20th iteration\n",
      "30th iteration\n",
      "40th iteration\n",
      "50th iteration\n",
      "60th iteration\n",
      "70th iteration\n",
      "80th iteration\n",
      "90th iteration\n",
      "100th iteration\n",
      "110th iteration\n",
      "120th iteration\n",
      "130th iteration\n",
      "140th iteration\n",
      "150th iteration\n",
      "160th iteration\n",
      "170th iteration\n",
      "180th iteration\n",
      "190th iteration\n",
      "seed 2\n",
      "10th iteration\n",
      "20th iteration\n",
      "30th iteration\n",
      "40th iteration\n",
      "50th iteration\n",
      "60th iteration\n",
      "70th iteration\n",
      "80th iteration\n",
      "90th iteration\n",
      "100th iteration\n",
      "110th iteration\n",
      "120th iteration\n",
      "130th iteration\n",
      "140th iteration\n",
      "150th iteration\n",
      "160th iteration\n",
      "170th iteration\n",
      "180th iteration\n",
      "190th iteration\n",
      "seed 3\n",
      "10th iteration\n",
      "20th iteration\n",
      "30th iteration\n",
      "40th iteration\n",
      "50th iteration\n",
      "60th iteration\n",
      "70th iteration\n",
      "80th iteration\n",
      "90th iteration\n",
      "100th iteration\n",
      "110th iteration\n",
      "120th iteration\n",
      "130th iteration\n",
      "140th iteration\n",
      "150th iteration\n",
      "160th iteration\n",
      "170th iteration\n",
      "180th iteration\n",
      "190th iteration\n",
      "seed 4\n",
      "10th iteration\n",
      "20th iteration\n",
      "30th iteration\n",
      "40th iteration\n",
      "50th iteration\n",
      "60th iteration\n",
      "70th iteration\n",
      "80th iteration\n",
      "90th iteration\n",
      "100th iteration\n",
      "110th iteration\n",
      "120th iteration\n",
      "130th iteration\n",
      "140th iteration\n",
      "150th iteration\n",
      "160th iteration\n",
      "170th iteration\n",
      "180th iteration\n",
      "190th iteration\n",
      "seed 5\n",
      "10th iteration\n",
      "20th iteration\n",
      "30th iteration\n",
      "40th iteration\n",
      "50th iteration\n",
      "60th iteration\n",
      "70th iteration\n",
      "80th iteration\n",
      "90th iteration\n",
      "100th iteration\n",
      "110th iteration\n",
      "120th iteration\n",
      "130th iteration\n",
      "140th iteration\n",
      "150th iteration\n",
      "160th iteration\n",
      "170th iteration\n",
      "180th iteration\n",
      "190th iteration\n",
      "seed 6\n",
      "10th iteration\n",
      "20th iteration\n",
      "30th iteration\n",
      "40th iteration\n",
      "50th iteration\n",
      "60th iteration\n",
      "70th iteration\n",
      "80th iteration\n",
      "90th iteration\n",
      "100th iteration\n",
      "110th iteration\n",
      "120th iteration\n",
      "130th iteration\n",
      "140th iteration\n",
      "150th iteration\n",
      "160th iteration\n",
      "170th iteration\n",
      "180th iteration\n",
      "190th iteration\n",
      "seed 7\n",
      "10th iteration\n",
      "20th iteration\n",
      "30th iteration\n",
      "40th iteration\n",
      "50th iteration\n",
      "60th iteration\n",
      "70th iteration\n",
      "80th iteration\n",
      "90th iteration\n",
      "100th iteration\n",
      "110th iteration\n",
      "120th iteration\n",
      "130th iteration\n",
      "140th iteration\n",
      "150th iteration\n",
      "160th iteration\n",
      "170th iteration\n",
      "180th iteration\n",
      "190th iteration\n",
      "seed 8\n",
      "10th iteration\n",
      "20th iteration\n",
      "30th iteration\n",
      "40th iteration\n",
      "50th iteration\n",
      "60th iteration\n",
      "70th iteration\n",
      "80th iteration\n",
      "90th iteration\n",
      "100th iteration\n",
      "110th iteration\n",
      "120th iteration\n",
      "130th iteration\n",
      "140th iteration\n",
      "150th iteration\n",
      "160th iteration\n",
      "170th iteration\n",
      "180th iteration\n",
      "190th iteration\n",
      "seed 9\n",
      "10th iteration\n",
      "20th iteration\n",
      "30th iteration\n",
      "40th iteration\n",
      "50th iteration\n",
      "60th iteration\n",
      "70th iteration\n",
      "80th iteration\n",
      "90th iteration\n",
      "100th iteration\n",
      "110th iteration\n",
      "120th iteration\n",
      "130th iteration\n",
      "140th iteration\n",
      "150th iteration\n",
      "160th iteration\n",
      "170th iteration\n",
      "180th iteration\n",
      "190th iteration\n"
     ]
    }
   ],
   "source": [
    "blist = list()\n",
    "dlist = list()\n",
    "for i in range(10):\n",
    "    res = _exp.run(i)\n",
    "    blist.append(res[0])\n",
    "    dlist.append(res[1])"
   ]
  },
  {
   "cell_type": "code",
   "execution_count": 5,
   "metadata": {
    "scrolled": true
   },
   "outputs": [
    {
     "data": {
      "text/plain": [
       "190"
      ]
     },
     "execution_count": 5,
     "metadata": {},
     "output_type": "execute_result"
    }
   ],
   "source": [
    "len(dlist[0])"
   ]
  },
  {
   "cell_type": "code",
   "execution_count": 6,
   "metadata": {},
   "outputs": [],
   "source": [
    "B = np.array([item for sublist in blist for item in sublist])\n",
    "dist_list = np.array([item for sublist in dlist for item in sublist])"
   ]
  },
  {
   "cell_type": "code",
   "execution_count": 7,
   "metadata": {},
   "outputs": [
    {
     "data": {
      "text/plain": [
       "1900"
      ]
     },
     "execution_count": 7,
     "metadata": {},
     "output_type": "execute_result"
    }
   ],
   "source": [
    "len(dist_list)"
   ]
  },
  {
   "cell_type": "code",
   "execution_count": 8,
   "metadata": {},
   "outputs": [],
   "source": [
    "# make 20 buckets of distances to hold values\n",
    "bins = np.arange(np.min(dist_list), np.max(dist_list), (np.max(dist_list)-np.min(dist_list))/39)\n",
    "inds = np.digitize(dist_list, bins)"
   ]
  },
  {
   "cell_type": "code",
   "execution_count": 9,
   "metadata": {},
   "outputs": [],
   "source": [
    "buc = np.zeros(bins.shape[0] + 1)\n",
    "buc[inds] += dist_list"
   ]
  },
  {
   "cell_type": "code",
   "execution_count": 10,
   "metadata": {},
   "outputs": [],
   "source": [
    "_, idx, cnts = np.unique(inds, return_index=True, return_counts=True)"
   ]
  },
  {
   "cell_type": "code",
   "execution_count": 11,
   "metadata": {},
   "outputs": [],
   "source": [
    "buc[inds[idx]] /= cnts    # average bucket "
   ]
  },
  {
   "cell_type": "code",
   "execution_count": 12,
   "metadata": {},
   "outputs": [],
   "source": [
    "# insert 0 in front\n",
    "X = np.insert(bins, 0, 0)"
   ]
  },
  {
   "cell_type": "code",
   "execution_count": 13,
   "metadata": {},
   "outputs": [
    {
     "data": {
      "image/png": "[encoded data removed]",
      "text/plain": [
       "<Figure size 432x288 with 1 Axes>"
      ]
     },
     "metadata": {
      "needs_background": "light"
     },
     "output_type": "display_data"
    }
   ],
   "source": [
    "import matplotlib.pyplot as plt\n",
    "plt.plot(X, buc)\n",
    "plt.xlabel(\"l2 distance\")\n",
    "plt.ylabel(\"aggregation benefit\")\n",
    "plt.show()"
   ]
  },
  {
   "cell_type": "code",
   "execution_count": null,
   "metadata": {},
   "outputs": [],
   "source": []
  }
 ],
 "metadata": {
  "kernelspec": {
   "display_name": "Python 3",
   "language": "python",
   "name": "python3"
  },
  "language_info": {
   "codemirror_mode": {
    "name": "ipython",
    "version": 3
   },
   "file_extension": ".py",
   "mimetype": "text/x-python",
   "name": "python",
   "nbconvert_exporter": "python",
   "pygments_lexer": "ipython3",
   "version": "3.6.9"
  }
 },
 "nbformat": 4,
 "nbformat_minor": 4
}
