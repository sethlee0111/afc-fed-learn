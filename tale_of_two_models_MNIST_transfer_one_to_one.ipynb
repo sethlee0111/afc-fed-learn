{
 "cells": [
  {
   "cell_type": "markdown",
   "metadata": {
    "colab_type": "text",
    "id": "d6n47ueeqbXb"
   },
   "source": [
    "## Personalized Learning (Localized Learning?)\n",
    "\n",
    "#### This notebook includes the following online models;\n",
    "1. A single global model with all data\n",
    "2. Multiple local models (starting from a single global model)\n",
    "   1. that are updated with new data\n",
    "   2. that exchanges data in clusters\n",
    "   3. that exchanges parameters in clusters\n",
    "\n",
    "  \n",
    "#### The dataset that is used for this project is [CIFAR-100 dataset][1]\n",
    "* Has 100 classes containing 600 images each\n",
    "\n",
    "#### New data are fed by the following rules;\n",
    "1. Distributed, according to superclasses\n",
    "  * Clusters will only be updated with data that belongs to a specific superclass\n",
    "  * We update the NN by\n",
    "    1. Changing all parameters of the NN\n",
    "    2. Only changing the last few layers, as in many MTL models\n",
    "2. Randomly (why?)\n",
    "\n",
    "#### We expect to find an answer to the following research questions with this project;\n",
    "1. If models are updated with data (or parameters) that are shared within a cluster, can the model perform good enough with the labels that count?\n",
    "  * For example, the performance of the cluster that are updated with \"Vehicles\" superclass is only assessed with the labels that corresponds to the superclass.\n",
    "  \n",
    "[1]: https://www.cs.toronto.edu/~kriz/cifar.html"
   ]
  },
  {
   "cell_type": "markdown",
   "metadata": {
    "colab_type": "text",
    "id": "Oji0BTfoqbXc"
   },
   "source": [
    "#### Questions\n",
    "\n",
    "Retraining: how does it work <br>\n",
    "How do we compare these models?\n"
   ]
  },
  {
   "cell_type": "markdown",
   "metadata": {
    "colab_type": "text",
    "id": "mr4-uY0LqbXd"
   },
   "source": [
    "### Implementation with Custom Neural Network and EMNIST dataset"
   ]
  },
  {
   "cell_type": "code",
   "execution_count": 96,
   "metadata": {
    "scrolled": true
   },
   "outputs": [
    {
     "name": "stdout",
     "output_type": "stream",
     "text": [
      "The tensorboard extension is already loaded. To reload it, use:\n",
      "  %reload_ext tensorboard\n"
     ]
    }
   ],
   "source": [
    "%load_ext tensorboard"
   ]
  },
  {
   "cell_type": "code",
   "execution_count": 97,
   "metadata": {
    "colab": {
     "base_uri": "https://localhost:8080/",
     "height": 34
    },
    "colab_type": "code",
    "id": "tGoXLnOyqbXe",
    "outputId": "9ccd7215-80bf-4a0a-b852-8896b17c38f1",
    "scrolled": true
   },
   "outputs": [],
   "source": [
    "from __future__ import print_function\n",
    "import tensorflow.keras as keras\n",
    "from tensorflow.keras.datasets import mnist\n",
    "from tensorflow.keras.models import Sequential\n",
    "from tensorflow.keras.layers import Dense, Dropout, Flatten\n",
    "from tensorflow.keras.layers import Conv2D, MaxPooling2D\n",
    "from tensorflow.keras import backend as K"
   ]
  },
  {
   "cell_type": "code",
   "execution_count": 98,
   "metadata": {},
   "outputs": [],
   "source": [
    "import matplotlib"
   ]
  },
  {
   "cell_type": "code",
   "execution_count": 99,
   "metadata": {
    "scrolled": true
   },
   "outputs": [],
   "source": [
    "import datetime\n",
    "import numpy as np\n",
    "import matplotlib.pyplot as plt\n",
    "import seaborn as sns\n",
    "import matplotlib.lines as mlines"
   ]
  },
  {
   "cell_type": "code",
   "execution_count": 100,
   "metadata": {},
   "outputs": [],
   "source": [
    "import tensorflow as tf\n",
    "log_dir = \"logs/fit/\" + datetime.datetime.now().strftime(\"%Y%m%d-%H%M%S\")\n",
    "tensorboard_callback = tf.keras.callbacks.TensorBoard(log_dir=log_dir, histogram_freq=1)"
   ]
  },
  {
   "cell_type": "code",
   "execution_count": 101,
   "metadata": {},
   "outputs": [
    {
     "data": {
      "text/plain": [
       "'1.15.0'"
      ]
     },
     "execution_count": 101,
     "metadata": {},
     "output_type": "execute_result"
    }
   ],
   "source": [
    "tf.__version__"
   ]
  },
  {
   "cell_type": "code",
   "execution_count": 102,
   "metadata": {
    "colab": {},
    "colab_type": "code",
    "id": "E2faBs1yqbXj"
   },
   "outputs": [],
   "source": [
    "# Hyperparameters\n",
    "batch_size = 50\n",
    "epochs = 20\n",
    "\n",
    "# input image dimensions\n",
    "img_rows, img_cols = 28, 28"
   ]
  },
  {
   "cell_type": "markdown",
   "metadata": {
    "colab_type": "text",
    "id": "QXfylSWLqbXl"
   },
   "source": [
    "#### Load MNIST dataset"
   ]
  },
  {
   "cell_type": "code",
   "execution_count": 103,
   "metadata": {},
   "outputs": [],
   "source": [
    "# the data, split between train and test sets\n",
    "(x_train, y_train), (x_test, y_test) = mnist.load_data()"
   ]
  },
  {
   "cell_type": "code",
   "execution_count": 104,
   "metadata": {},
   "outputs": [],
   "source": [
    "if K.image_data_format() == 'channels_first':\n",
    "    x_train = x_train.reshape(x_train.shape[0], 1, img_rows, img_cols)\n",
    "    x_test = x_test.reshape(x_test.shape[0], 1, img_rows, img_cols)\n",
    "    input_shape = (1, img_rows, img_cols)\n",
    "else:\n",
    "    x_train = x_train.reshape(x_train.shape[0], img_rows, img_cols, 1)\n",
    "    x_test = x_test.reshape(x_test.shape[0], img_rows, img_cols, 1)\n",
    "    input_shape = (img_rows, img_cols, 1)"
   ]
  },
  {
   "cell_type": "code",
   "execution_count": 105,
   "metadata": {},
   "outputs": [
    {
     "data": {
      "text/plain": [
       "(60000, 28, 28, 1)"
      ]
     },
     "execution_count": 105,
     "metadata": {},
     "output_type": "execute_result"
    }
   ],
   "source": [
    "x_train.shape"
   ]
  },
  {
   "cell_type": "code",
   "execution_count": 106,
   "metadata": {},
   "outputs": [],
   "source": [
    "x_train = x_train.astype('float32')\n",
    "x_test = x_test.astype('float32')\n",
    "x_train /= 255\n",
    "x_test /= 255"
   ]
  },
  {
   "cell_type": "code",
   "execution_count": 107,
   "metadata": {},
   "outputs": [],
   "source": [
    "global_dataset_size = 20000\n",
    "local_dataset_size = 40000"
   ]
  },
  {
   "cell_type": "code",
   "execution_count": 108,
   "metadata": {},
   "outputs": [],
   "source": [
    "X_global = x_train[-global_dataset_size:]\n",
    "Y_global = y_train[-global_dataset_size:]\n",
    "X_local = x_train[:-global_dataset_size]\n",
    "Y_local = y_train[:-global_dataset_size]"
   ]
  },
  {
   "cell_type": "code",
   "execution_count": 109,
   "metadata": {},
   "outputs": [
    {
     "data": {
      "text/plain": [
       "10"
      ]
     },
     "execution_count": 109,
     "metadata": {},
     "output_type": "execute_result"
    }
   ],
   "source": [
    "len(np.unique(y_train))"
   ]
  },
  {
   "cell_type": "code",
   "execution_count": 110,
   "metadata": {},
   "outputs": [],
   "source": [
    "import utils"
   ]
  },
  {
   "cell_type": "code",
   "execution_count": 111,
   "metadata": {},
   "outputs": [
    {
     "data": {
      "text/plain": [
       "<module 'utils' from '/home/seth/projects/fed-learn-experiment/utils.py'>"
      ]
     },
     "execution_count": 111,
     "metadata": {},
     "output_type": "execute_result"
    }
   ],
   "source": [
    "import importlib\n",
    "importlib.reload(utils)"
   ]
  },
  {
   "cell_type": "code",
   "execution_count": 112,
   "metadata": {},
   "outputs": [],
   "source": [
    "X_local_list, Y_local_list = utils.split_training_set(2000, 20, X_local, Y_local)"
   ]
  },
  {
   "cell_type": "code",
   "execution_count": 113,
   "metadata": {},
   "outputs": [],
   "source": [
    "# convert class vectors to binary class matrices\n",
    "num_classes = 10\n",
    "Y_global = keras.utils.to_categorical(Y_global, num_classes)"
   ]
  },
  {
   "cell_type": "code",
   "execution_count": 114,
   "metadata": {},
   "outputs": [],
   "source": [
    "y_test = keras.utils.to_categorical(y_test, num_classes)"
   ]
  },
  {
   "cell_type": "code",
   "execution_count": 115,
   "metadata": {},
   "outputs": [
    {
     "data": {
      "text/plain": [
       "(10000, 28, 28, 1)"
      ]
     },
     "execution_count": 115,
     "metadata": {},
     "output_type": "execute_result"
    }
   ],
   "source": [
    "x_test.shape"
   ]
  },
  {
   "cell_type": "markdown",
   "metadata": {},
   "source": [
    "### Define models and compile & fit function"
   ]
  },
  {
   "cell_type": "code",
   "execution_count": 116,
   "metadata": {},
   "outputs": [],
   "source": [
    "def custom_model():\n",
    "    model = Sequential()\n",
    "    model.add(Flatten(input_shape=input_shape))\n",
    "    model.add(Dense(200, activation='relu'))\n",
    "    model.add(Dense(200, activation='relu'))\n",
    "    model.add(Dense(num_classes, activation='softmax'))\n",
    "    return model"
   ]
  },
  {
   "cell_type": "code",
   "execution_count": 117,
   "metadata": {},
   "outputs": [],
   "source": [
    "def compile_model(model):  \n",
    "    # initiate SGD optimizer\n",
    "    opt = keras.optimizers.SGD(lr=0.1)\n",
    "    model.compile(loss='mean_squared_error', optimizer=opt, metrics=['accuracy'])"
   ]
  },
  {
   "cell_type": "code",
   "execution_count": 118,
   "metadata": {},
   "outputs": [],
   "source": [
    "def compile_model_lr(model):  \n",
    "    # initiate SGD optimizer\n",
    "    opt = keras.optimizers.SGD(lr=lr, decay=1e-6, momentum=0.9, nesterov=True)\n",
    "    model.compile(loss='mean_squared_error', optimizer=opt, metrics=['accuracy'])"
   ]
  },
  {
   "cell_type": "code",
   "execution_count": 119,
   "metadata": {},
   "outputs": [],
   "source": [
    "def fit_model_global(model, epochs):\n",
    "    now = datetime.datetime.now()\n",
    "    print (\"Training date and time : \")\n",
    "    print (now.strftime(\"%Y-%m-%d %H:%M:%S\"))\n",
    "    return model.fit(X_global, Y_global,\n",
    "                      batch_size=100,\n",
    "                      epochs=40,\n",
    "                      shuffle=True, callbacks=[tensorboard_callback])"
   ]
  },
  {
   "cell_type": "code",
   "execution_count": 120,
   "metadata": {},
   "outputs": [],
   "source": [
    "def fit_model_with_datasets(model, epochs, x_train, y_train):\n",
    "    now = datetime.datetime.now()\n",
    "    print (\"Training date and time : \")\n",
    "    print (now.strftime(\"%Y-%m-%d %H:%M:%S\"))\n",
    "    return model.fit(x_train, y_train,\n",
    "                      batch_size=batch_size,\n",
    "                      epochs=epochs,\n",
    "                      shuffle=True, validation_split=0.1, verbose=0)"
   ]
  },
  {
   "cell_type": "code",
   "execution_count": 121,
   "metadata": {
    "scrolled": true
   },
   "outputs": [
    {
     "name": "stdout",
     "output_type": "stream",
     "text": [
      "Training date and time : \n",
      "2020-04-22 14:45:20\n"
     ]
    },
    {
     "data": {
      "text/plain": [
       "<tensorflow.python.keras.callbacks.History at 0x7efb48aed390>"
      ]
     },
     "execution_count": 121,
     "metadata": {},
     "output_type": "execute_result"
    }
   ],
   "source": [
    "model1 = custom_model()\n",
    "compile_model(model1)\n",
    "fit_model_with_datasets(model1, 1, X_global, Y_global)"
   ]
  },
  {
   "cell_type": "code",
   "execution_count": 122,
   "metadata": {},
   "outputs": [],
   "source": [
    "model_list = list()\n",
    "for _ in range(40):\n",
    "    model_list.append(tf.keras.models.clone_model(model1)) \n",
    "    model_list[_].set_weights(model1.get_weights())"
   ]
  },
  {
   "cell_type": "code",
   "execution_count": 123,
   "metadata": {},
   "outputs": [],
   "source": [
    "# sort models according to similarity. We arbitrarily take the model1 as a \"standard\"\n",
    "standard_model = tf.keras.models.clone_model(model1)\n",
    "standard_model.set_weights(model_list[0].get_weights())"
   ]
  },
  {
   "cell_type": "code",
   "execution_count": 124,
   "metadata": {},
   "outputs": [],
   "source": [
    "import semantic_drift"
   ]
  },
  {
   "cell_type": "code",
   "execution_count": 125,
   "metadata": {},
   "outputs": [
    {
     "data": {
      "text/plain": [
       "<module 'semantic_drift' from '/home/seth/projects/fed-learn-experiment/semantic_drift.py'>"
      ]
     },
     "execution_count": 125,
     "metadata": {},
     "output_type": "execute_result"
    }
   ],
   "source": [
    "importlib.reload(semantic_drift)"
   ]
  },
  {
   "cell_type": "markdown",
   "metadata": {},
   "source": [
    "### Conduct transfer learning in local models using different datasets & epochs\n"
   ]
  },
  {
   "cell_type": "code",
   "execution_count": 126,
   "metadata": {
    "scrolled": true
   },
   "outputs": [
    {
     "name": "stdout",
     "output_type": "stream",
     "text": [
      "Training date and time : \n",
      "2020-04-22 14:45:28\n",
      "Training date and time : \n",
      "2020-04-22 14:45:28\n",
      "Training date and time : \n",
      "2020-04-22 14:45:29\n",
      "Training date and time : \n",
      "2020-04-22 14:45:30\n",
      "Training date and time : \n",
      "2020-04-22 14:45:32\n",
      "Training date and time : \n",
      "2020-04-22 14:45:34\n",
      "Training date and time : \n",
      "2020-04-22 14:45:36\n",
      "Training date and time : \n",
      "2020-04-22 14:45:38\n",
      "Training date and time : \n",
      "2020-04-22 14:45:41\n",
      "Training date and time : \n",
      "2020-04-22 14:45:44\n",
      "Training date and time : \n",
      "2020-04-22 14:45:47\n",
      "Training date and time : \n",
      "2020-04-22 14:45:51\n",
      "Training date and time : \n",
      "2020-04-22 14:45:55\n",
      "Training date and time : \n",
      "2020-04-22 14:45:59\n",
      "Training date and time : \n",
      "2020-04-22 14:46:03\n",
      "Training date and time : \n",
      "2020-04-22 14:46:08\n",
      "Training date and time : \n",
      "2020-04-22 14:46:13\n",
      "Training date and time : \n",
      "2020-04-22 14:46:19\n",
      "Training date and time : \n",
      "2020-04-22 14:46:24\n",
      "Training date and time : \n",
      "2020-04-22 14:46:30\n",
      "Training date and time : \n",
      "2020-04-22 14:46:37\n",
      "Training date and time : \n",
      "2020-04-22 14:46:43\n",
      "Training date and time : \n",
      "2020-04-22 14:46:50\n",
      "Training date and time : \n",
      "2020-04-22 14:46:57\n",
      "Training date and time : \n",
      "2020-04-22 14:47:05\n",
      "Training date and time : \n",
      "2020-04-22 14:47:13\n",
      "Training date and time : \n",
      "2020-04-22 14:47:21\n",
      "Training date and time : \n",
      "2020-04-22 14:47:30\n",
      "Training date and time : \n",
      "2020-04-22 14:47:38\n",
      "Training date and time : \n",
      "2020-04-22 14:47:48\n",
      "Training date and time : \n",
      "2020-04-22 14:47:57\n",
      "Training date and time : \n",
      "2020-04-22 14:48:07\n",
      "Training date and time : \n",
      "2020-04-22 14:48:17\n",
      "Training date and time : \n",
      "2020-04-22 14:48:28\n",
      "Training date and time : \n",
      "2020-04-22 14:48:39\n",
      "Training date and time : \n",
      "2020-04-22 14:48:50\n",
      "Training date and time : \n",
      "2020-04-22 14:49:01\n",
      "Training date and time : \n",
      "2020-04-22 14:49:13\n",
      "Training date and time : \n",
      "2020-04-22 14:49:25\n",
      "Training date and time : \n",
      "2020-04-22 14:49:37\n"
     ]
    }
   ],
   "source": [
    "for i in range(len(model_list)):\n",
    "    compile_model(model_list[i])\n",
    "    fit_model_with_datasets(model_list[i], (i+1)*5, X_local_list[0], Y_local_list[0])"
   ]
  },
  {
   "cell_type": "markdown",
   "metadata": {},
   "source": [
    "### Let's see how these models are different from each other, compared to the base model(before training)\n"
   ]
  },
  {
   "cell_type": "code",
   "execution_count": 127,
   "metadata": {},
   "outputs": [
    {
     "name": "stdout",
     "output_type": "stream",
     "text": [
      "[0.52366126, 1.0429718, 1.4534358, 1.7587999, 1.9925766, 2.1841142, 2.3430238, 2.481855, 2.6058857, 2.7169566, 2.8187797, 2.9130058, 3.0002615, 3.081361, 3.1586182, 3.229794, 3.2976875, 3.3624294, 3.423769, 3.482358, 3.538053, 3.5921955, 3.6435492, 3.6935084, 3.7417965, 3.7885647, 3.8344615, 3.8787081, 3.92122, 3.9625483, 4.002632, 4.042253, 4.0799174, 4.1178837, 4.154286, 4.1901, 4.224825, 4.258705, 4.2924767, 4.325076]\n"
     ]
    }
   ],
   "source": [
    "dists = [semantic_drift.l2_distance(standard_model, m) for m in model_list]\n",
    "print(dists)"
   ]
  },
  {
   "cell_type": "code",
   "execution_count": 128,
   "metadata": {},
   "outputs": [
    {
     "data": {
      "text/plain": [
       "array([  5,  10,  15,  20,  25,  30,  35,  40,  45,  50,  55,  60,  65,\n",
       "        70,  75,  80,  85,  90,  95, 100, 105, 110, 115, 120, 125, 130,\n",
       "       135, 140, 145, 150, 155, 160, 165, 170, 175, 180, 185, 190, 195,\n",
       "       200, 205])"
      ]
     },
     "execution_count": 128,
     "metadata": {},
     "output_type": "execute_result"
    }
   ],
   "source": [
    "np.arange(5, (len(dists)+2)*5, 5)"
   ]
  },
  {
   "cell_type": "markdown",
   "metadata": {},
   "source": [
    "### The l2-distance increases in respect to epochs"
   ]
  },
  {
   "cell_type": "code",
   "execution_count": 129,
   "metadata": {},
   "outputs": [
    {
     "data": {
      "image/png": "[encoded data removed]",
      "text/plain": [
       "<Figure size 432x288 with 1 Axes>"
      ]
     },
     "metadata": {
      "needs_background": "light"
     },
     "output_type": "display_data"
    }
   ],
   "source": [
    "import matplotlib.pyplot as plt\n",
    "plt.plot(np.arange(5, (len(dists)+1)*5, 5), np.array(dists))\n",
    "plt.ylabel(\"l2 distance\")\n",
    "plt.xlabel(\"epochs\")\n",
    "plt.show()"
   ]
  },
  {
   "cell_type": "markdown",
   "metadata": {},
   "source": [
    "### Change THETA_AS_VARIABLE to true to get a 3D graph"
   ]
  },
  {
   "cell_type": "code",
   "execution_count": 130,
   "metadata": {},
   "outputs": [],
   "source": [
    "THETA_AS_VARIABLE = False"
   ]
  },
  {
   "cell_type": "code",
   "execution_count": 131,
   "metadata": {},
   "outputs": [],
   "source": [
    "if not THETA_AS_VARIABLE:\n",
    "    theta_list = [0, 0.6, 1]\n",
    "    agg_weights_list_per_pi = list()\n",
    "    dist_list = list()\n",
    "\n",
    "    for model in model_list:\n",
    "        weights = [model1.get_weights(), model.get_weights()]\n",
    "        agg_weights_list = list()\n",
    "        for theta in theta_list:\n",
    "            agg_weights = list()\n",
    "            for weights_list_tuple in zip(*weights):\n",
    "                agg_weights.append(np.array([np.average(np.array(w), axis=0, weights=[1. - theta, theta]) for w in zip(*weights_list_tuple)]))\n",
    "            agg_weights_list.append(agg_weights)\n",
    "        dist_list.append(semantic_drift.l2_distance(model1, model))\n",
    "        agg_weights_list_per_pi.append(agg_weights_list)"
   ]
  },
  {
   "cell_type": "code",
   "execution_count": 132,
   "metadata": {},
   "outputs": [],
   "source": [
    "if THETA_AS_VARIABLE:\n",
    "    theta_list = list(np.arange(0, 1.05, 0.05))\n",
    "    agg_weights_list_per_pi = list()    # \\pi for perturbations\n",
    "    dist_list = list()\n",
    "    for model in model_list:\n",
    "        weights = [model1.get_weights(), model.get_weights()]\n",
    "        agg_weights_list = list()\n",
    "        for theta in theta_list:\n",
    "            agg_weights = list()\n",
    "            for weights_list_tuple in zip(*weights):\n",
    "                agg_weights.append(np.array([np.average(np.array(w), axis=0, weights=[1. - theta, theta]) for w in zip(*weights_list_tuple)]))\n",
    "            agg_weights_list.append(agg_weights)\n",
    "        dist_list.append(semantic_drift.l2_distance(model1, model))\n",
    "        agg_weights_list_per_pi.append(agg_weights_list)"
   ]
  },
  {
   "cell_type": "code",
   "execution_count": 133,
   "metadata": {},
   "outputs": [
    {
     "data": {
      "text/plain": [
       "40"
      ]
     },
     "execution_count": 133,
     "metadata": {},
     "output_type": "execute_result"
    }
   ],
   "source": [
    "len(dist_list)"
   ]
  },
  {
   "cell_type": "code",
   "execution_count": 134,
   "metadata": {},
   "outputs": [],
   "source": [
    "if not (np.diff(dist_list)>0).all():\n",
    "    print(\"The dist list does not monotonically increase!\")"
   ]
  },
  {
   "cell_type": "code",
   "execution_count": 135,
   "metadata": {},
   "outputs": [
    {
     "name": "stdout",
     "output_type": "stream",
     "text": [
      "10th iteration\n",
      "20th iteration\n",
      "30th iteration\n",
      "40th iteration\n"
     ]
    }
   ],
   "source": [
    "if not THETA_AS_VARIABLE:\n",
    "    B = np.zeros(len(agg_weights_list_per_pi))\n",
    "\n",
    "    i = 0\n",
    "    for agg_weights_list in agg_weights_list_per_pi:\n",
    "\n",
    "        aggr_model = keras.models.clone_model(model1)\n",
    "        aggr_model.set_weights(agg_weights_list[1])\n",
    "        compile_model(aggr_model)\n",
    "        score = aggr_model.evaluate(x=x_test, y=y_test, verbose=0)\n",
    "        \n",
    "        aggr_model = keras.models.clone_model(model1)\n",
    "        aggr_model.set_weights(agg_weights_list[0])\n",
    "        compile_model(aggr_model)\n",
    "        comp_score1 = aggr_model.evaluate(x=x_test, y=y_test, verbose=0)\n",
    "        \n",
    "        aggr_model = keras.models.clone_model(model1)\n",
    "        aggr_model.set_weights(agg_weights_list[2])\n",
    "        compile_model(aggr_model)\n",
    "        comp_score2 = aggr_model.evaluate(x=x_test, y=y_test, verbose=0)\n",
    "        \n",
    "        B[i] = score[0] - min(comp_score1[0], comp_score2[0])\n",
    "        K.clear_session() #prevent memory leak https://github.com/keras-team/keras/issues/13118\n",
    "        i += 1\n",
    "        if i % 10 == 0:\n",
    "            print(\"{}th iteration\".format(i))"
   ]
  },
  {
   "cell_type": "code",
   "execution_count": 136,
   "metadata": {},
   "outputs": [
    {
     "data": {
      "image/png": "[encoded data removed]",
      "text/plain": [
       "<Figure size 432x288 with 1 Axes>"
      ]
     },
     "metadata": {
      "needs_background": "light"
     },
     "output_type": "display_data"
    }
   ],
   "source": [
    "epoch_list = np.arange(5, (len(dist_list)+1)*5, 5)\n",
    "if not THETA_AS_VARIABLE:\n",
    "    plt.plot(np.array(dist_list), np.array(B))\n",
    "    plt.ylabel(\"aggregation benefit\")\n",
    "    plt.xlabel(\"l2 distance\")\n",
    "    plt.show()"
   ]
  },
  {
   "cell_type": "code",
   "execution_count": 93,
   "metadata": {
    "scrolled": true
   },
   "outputs": [
    {
     "name": "stdout",
     "output_type": "stream",
     "text": [
      "1th iteration\n",
      "2th iteration\n",
      "3th iteration\n",
      "4th iteration\n",
      "5th iteration\n",
      "6th iteration\n",
      "7th iteration\n",
      "8th iteration\n",
      "9th iteration\n",
      "10th iteration\n",
      "11th iteration\n",
      "12th iteration\n",
      "13th iteration\n",
      "14th iteration\n",
      "15th iteration\n",
      "16th iteration\n",
      "17th iteration\n",
      "18th iteration\n",
      "19th iteration\n",
      "20th iteration\n"
     ]
    }
   ],
   "source": [
    "if THETA_AS_VARIABLE:\n",
    "    X, Y = np.meshgrid(np.array(theta_list), np.array(dist_list))\n",
    "    Z = np.zeros(X.shape)\n",
    "    i = 0\n",
    "    for agg_weights_list in agg_weights_list_per_pi:\n",
    "        j = 0\n",
    "        for agg_weights in agg_weights_list:\n",
    "            aggr_model = keras.models.clone_model(model1)\n",
    "            aggr_model.set_weights(agg_weights)\n",
    "            compile_model(aggr_model)\n",
    "            score = aggr_model.evaluate(x=x_test, y=y_test, verbose=0)\n",
    "            Z[i][j] = score[0]\n",
    "            j += 1\n",
    "            K.clear_session() #prevent memory leak https://github.com/keras-team/keras/issues/13118\n",
    "        i += 1\n",
    "        print(\"{}th iteration\".format(i))"
   ]
  },
  {
   "cell_type": "code",
   "execution_count": 94,
   "metadata": {},
   "outputs": [],
   "source": [
    "from mpl_toolkits.mplot3d import Axes3D\n",
    "import matplotlib.pyplot as plt\n",
    "from matplotlib import cm\n",
    "from matplotlib.ticker import LinearLocator, FormatStrFormatter"
   ]
  },
  {
   "cell_type": "code",
   "execution_count": 98,
   "metadata": {},
   "outputs": [
    {
     "data": {
      "image/png": "[encoded data removed]",
      "text/plain": [
       "<Figure size 432x288 with 2 Axes>"
      ]
     },
     "metadata": {
      "needs_background": "light"
     },
     "output_type": "display_data"
    }
   ],
   "source": [
    "if THETA_AS_VARIABLE:\n",
    "    fig = plt.figure()\n",
    "    ax = fig.gca(projection='3d')\n",
    "    surf = ax.plot_surface(X, Y, Z, cmap=cm.rainbow,\n",
    "                           linewidth=0, antialiased=False)\n",
    "    ax.set_xlabel('$theta$')\n",
    "    ax.set_ylabel('$distance$')\n",
    "    ax.set_zlabel('$loss$')\n",
    "    # Customize the z axis.\n",
    "    # ax.set_xlim(0.051, 0.054)\n",
    "    # ax.zaxis.set_major_locator(LinearLocator(10))\n",
    "    # ax.zaxis.set_major_formatter(FormatStrFormatter('%.02f'))\n",
    "    ax.view_init(0, 45)\n",
    "    # ax.view_init(0, 0)\n",
    "    # Add a color bar which maps values to colors.\n",
    "    fig.colorbar(surf, shrink=0.5, aspect=5)\n",
    "    plt.savefig('fig1.png')\n",
    "    plt.show()"
   ]
  },
  {
   "cell_type": "code",
   "execution_count": null,
   "metadata": {},
   "outputs": [],
   "source": []
  },
  {
   "cell_type": "code",
   "execution_count": null,
   "metadata": {},
   "outputs": [],
   "source": []
  }
 ],
 "metadata": {
  "colab": {
   "name": "personalized.ipynb",
   "provenance": [],
   "version": "0.3.2"
  },
  "kernelspec": {
   "display_name": "FL-experiment",
   "language": "python",
   "name": "fl-experiment"
  },
  "language_info": {
   "codemirror_mode": {
    "name": "ipython",
    "version": 3
   },
   "file_extension": ".py",
   "mimetype": "text/x-python",
   "name": "python",
   "nbconvert_exporter": "python",
   "pygments_lexer": "ipython3",
   "version": "3.6.9"
  }
 },
 "nbformat": 4,
 "nbformat_minor": 1
}
