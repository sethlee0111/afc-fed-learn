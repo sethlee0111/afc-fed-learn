{
 "cells": [
  {
   "cell_type": "markdown",
   "metadata": {
    "colab_type": "text",
    "id": "d6n47ueeqbXb"
   },
   "source": [
    "## Personalized Learning (Localized Learning?)\n",
    "\n",
    "#### This notebook includes the following online models;\n",
    "1. A single global model with all data\n",
    "2. Multiple local models (starting from a single global model)\n",
    "   1. that are updated with new data\n",
    "   2. that exchanges data in clusters\n",
    "   3. that exchanges parameters in clusters\n",
    "\n",
    "  \n",
    "#### The dataset that is used for this project is [CIFAR-100 dataset][1]\n",
    "* Has 100 classes containing 600 images each\n",
    "\n",
    "#### New data are fed by the following rules;\n",
    "1. Distributed, according to superclasses\n",
    "  * Clusters will only be updated with data that belongs to a specific superclass\n",
    "  * We update the NN by\n",
    "    1. Changing all parameters of the NN\n",
    "    2. Only changing the last few layers, as in many MTL models\n",
    "2. Randomly (why?)\n",
    "\n",
    "#### We expect to find an answer to the following research questions with this project;\n",
    "1. If models are updated with data (or parameters) that are shared within a cluster, can the model perform good enough with the labels that count?\n",
    "  * For example, the performance of the cluster that are updated with \"Vehicles\" superclass is only assessed with the labels that corresponds to the superclass.\n",
    "  \n",
    "[1]: https://www.cs.toronto.edu/~kriz/cifar.html"
   ]
  },
  {
   "cell_type": "markdown",
   "metadata": {
    "colab_type": "text",
    "id": "Oji0BTfoqbXc"
   },
   "source": [
    "#### Questions\n",
    "\n",
    "Retraining: how does it work <br>\n",
    "How do we compare these models?\n"
   ]
  },
  {
   "cell_type": "markdown",
   "metadata": {
    "colab_type": "text",
    "id": "mr4-uY0LqbXd"
   },
   "source": [
    "### Implementation with Custom Neural Network and EMNIST dataset"
   ]
  },
  {
   "cell_type": "code",
   "execution_count": 1,
   "metadata": {
    "scrolled": true
   },
   "outputs": [],
   "source": [
    "%load_ext tensorboard"
   ]
  },
  {
   "cell_type": "code",
   "execution_count": 2,
   "metadata": {
    "colab": {
     "base_uri": "https://localhost:8080/",
     "height": 34
    },
    "colab_type": "code",
    "id": "tGoXLnOyqbXe",
    "outputId": "9ccd7215-80bf-4a0a-b852-8896b17c38f1",
    "scrolled": true
   },
   "outputs": [],
   "source": [
    "from __future__ import print_function\n",
    "import tensorflow.keras as keras\n",
    "from tensorflow.keras.datasets import mnist\n",
    "from tensorflow.keras.models import Sequential\n",
    "from tensorflow.keras.layers import Dense, Dropout, Flatten\n",
    "from tensorflow.keras.layers import Conv2D, MaxPooling2D\n",
    "from tensorflow.keras import backend as K"
   ]
  },
  {
   "cell_type": "code",
   "execution_count": 3,
   "metadata": {},
   "outputs": [],
   "source": [
    "import matplotlib"
   ]
  },
  {
   "cell_type": "code",
   "execution_count": 4,
   "metadata": {
    "scrolled": true
   },
   "outputs": [],
   "source": [
    "import datetime\n",
    "import numpy as np\n",
    "import matplotlib.pyplot as plt\n",
    "import seaborn as sns\n",
    "import matplotlib.lines as mlines"
   ]
  },
  {
   "cell_type": "code",
   "execution_count": 5,
   "metadata": {},
   "outputs": [],
   "source": [
    "import tensorflow as tf\n",
    "log_dir = \"logs/fit/\" + datetime.datetime.now().strftime(\"%Y%m%d-%H%M%S\")\n",
    "tensorboard_callback = tf.keras.callbacks.TensorBoard(log_dir=log_dir, histogram_freq=1)"
   ]
  },
  {
   "cell_type": "code",
   "execution_count": 6,
   "metadata": {},
   "outputs": [
    {
     "data": {
      "text/plain": [
       "'1.15.2'"
      ]
     },
     "execution_count": 6,
     "metadata": {},
     "output_type": "execute_result"
    }
   ],
   "source": [
    "tf.__version__"
   ]
  },
  {
   "cell_type": "code",
   "execution_count": 7,
   "metadata": {
    "colab": {},
    "colab_type": "code",
    "id": "E2faBs1yqbXj"
   },
   "outputs": [],
   "source": [
    "# Hyperparameters\n",
    "batch_size = 50\n",
    "epochs = 20\n",
    "\n",
    "# input image dimensions\n",
    "img_rows, img_cols = 28, 28"
   ]
  },
  {
   "cell_type": "markdown",
   "metadata": {
    "colab_type": "text",
    "id": "QXfylSWLqbXl"
   },
   "source": [
    "#### Load MNIST dataset"
   ]
  },
  {
   "cell_type": "code",
   "execution_count": 8,
   "metadata": {},
   "outputs": [],
   "source": [
    "# the data, split between train and test sets\n",
    "(x_train, y_train), (x_test, y_test) = mnist.load_data()"
   ]
  },
  {
   "cell_type": "code",
   "execution_count": 9,
   "metadata": {},
   "outputs": [],
   "source": [
    "if K.image_data_format() == 'channels_first':\n",
    "    x_train = x_train.reshape(x_train.shape[0], 1, img_rows, img_cols)\n",
    "    x_test = x_test.reshape(x_test.shape[0], 1, img_rows, img_cols)\n",
    "    input_shape = (1, img_rows, img_cols)\n",
    "else:\n",
    "    x_train = x_train.reshape(x_train.shape[0], img_rows, img_cols, 1)\n",
    "    x_test = x_test.reshape(x_test.shape[0], img_rows, img_cols, 1)\n",
    "    input_shape = (img_rows, img_cols, 1)"
   ]
  },
  {
   "cell_type": "code",
   "execution_count": 10,
   "metadata": {},
   "outputs": [
    {
     "data": {
      "text/plain": [
       "(60000, 28, 28, 1)"
      ]
     },
     "execution_count": 10,
     "metadata": {},
     "output_type": "execute_result"
    }
   ],
   "source": [
    "x_train.shape"
   ]
  },
  {
   "cell_type": "code",
   "execution_count": 11,
   "metadata": {},
   "outputs": [],
   "source": [
    "x_train = x_train.astype('float32')\n",
    "x_test = x_test.astype('float32')\n",
    "x_train /= 255\n",
    "x_test /= 255"
   ]
  },
  {
   "cell_type": "code",
   "execution_count": 12,
   "metadata": {},
   "outputs": [],
   "source": [
    "global_dataset_size = 6000\n",
    "local_dataset_size = 40000"
   ]
  },
  {
   "cell_type": "code",
   "execution_count": 13,
   "metadata": {},
   "outputs": [],
   "source": [
    "import utils"
   ]
  },
  {
   "cell_type": "code",
   "execution_count": 14,
   "metadata": {},
   "outputs": [
    {
     "data": {
      "text/plain": [
       "<module 'utils' from '/home/seth/projects/fed-learn-experiment/utils.py'>"
      ]
     },
     "execution_count": 14,
     "metadata": {},
     "output_type": "execute_result"
    }
   ],
   "source": [
    "import importlib\n",
    "importlib.reload(utils)"
   ]
  },
  {
   "cell_type": "code",
   "execution_count": 16,
   "metadata": {},
   "outputs": [],
   "source": [
    "x_train_5_to_9, y_train_5_to_9 = utils.filter_data_by_labels(x_train, y_train, np.arange(5)+5)"
   ]
  },
  {
   "cell_type": "code",
   "execution_count": 17,
   "metadata": {},
   "outputs": [],
   "source": [
    "x_test_0_to_4, y_test_0_to_4 = utils.filter_data_by_labels(x_test, y_test, np.arange(5))"
   ]
  },
  {
   "cell_type": "code",
   "execution_count": 18,
   "metadata": {},
   "outputs": [],
   "source": [
    "x_test_5_to_9, y_test_5_to_9 = utils.filter_data_by_labels(x_test, y_test, np.arange(5)+5)"
   ]
  },
  {
   "cell_type": "code",
   "execution_count": 19,
   "metadata": {},
   "outputs": [],
   "source": [
    "# convert class vectors to binary class matrices\n",
    "num_classes = 10\n",
    "y_train_0_to_4 = keras.utils.to_categorical(y_train_0_to_4, num_classes)\n",
    "y_train_5_to_9 = keras.utils.to_categorical(y_train_5_to_9, num_classes)\n",
    "y_test_0_to_4 = keras.utils.to_categorical(y_test_0_to_4, num_classes)\n",
    "y_test_5_to_9 = keras.utils.to_categorical(y_test_5_to_9, num_classes)"
   ]
  },
  {
   "cell_type": "code",
   "execution_count": 20,
   "metadata": {},
   "outputs": [],
   "source": [
    "y_test = keras.utils.to_categorical(y_test, num_classes)"
   ]
  },
  {
   "cell_type": "markdown",
   "metadata": {},
   "source": [
    "### Define models and compile & fit function"
   ]
  },
  {
   "cell_type": "code",
   "execution_count": 21,
   "metadata": {},
   "outputs": [],
   "source": [
    "def custom_model():\n",
    "    model = Sequential()\n",
    "    model.add(Flatten(input_shape=input_shape))\n",
    "    model.add(Dense(200, activation='relu'))\n",
    "    model.add(Dense(200, activation='relu'))\n",
    "    model.add(Dense(num_classes, activation='softmax'))\n",
    "    return model"
   ]
  },
  {
   "cell_type": "code",
   "execution_count": 22,
   "metadata": {},
   "outputs": [],
   "source": [
    "def compile_model(model):  \n",
    "    # initiate SGD optimizer\n",
    "    opt = keras.optimizers.SGD(lr=0.1)\n",
    "    model.compile(loss='mean_squared_error', optimizer=opt, metrics=['accuracy'])"
   ]
  },
  {
   "cell_type": "code",
   "execution_count": 23,
   "metadata": {},
   "outputs": [],
   "source": [
    "def compile_model_lr(model):  \n",
    "    # initiate SGD optimizer\n",
    "    opt = keras.optimizers.SGD(lr=lr, decay=1e-6, momentum=0.9, nesterov=True)\n",
    "    model.compile(loss='mean_squared_error', optimizer=opt, metrics=['accuracy'])"
   ]
  },
  {
   "cell_type": "code",
   "execution_count": 24,
   "metadata": {},
   "outputs": [],
   "source": [
    "def fit_model_global(model, epochs):\n",
    "    now = datetime.datetime.now()\n",
    "    print (\"Training date and time : \")\n",
    "    print (now.strftime(\"%Y-%m-%d %H:%M:%S\"))\n",
    "    return model.fit(X_global, Y_global,\n",
    "                      batch_size=100,\n",
    "                      epochs=40,\n",
    "                      shuffle=True, callbacks=[tensorboard_callback])"
   ]
  },
  {
   "cell_type": "code",
   "execution_count": 25,
   "metadata": {},
   "outputs": [],
   "source": [
    "def fit_model_with_datasets(model, epochs, x_train, y_train):\n",
    "    now = datetime.datetime.now()\n",
    "    print (\"Training date and time : \")\n",
    "    print (now.strftime(\"%Y-%m-%d %H:%M:%S\"))\n",
    "    return model.fit(x_train, y_train,\n",
    "                      batch_size=batch_size,\n",
    "                      epochs=epochs,\n",
    "                      shuffle=True, validation_split=0.1, verbose=1)"
   ]
  },
  {
   "cell_type": "code",
   "execution_count": 26,
   "metadata": {},
   "outputs": [
    {
     "name": "stdout",
     "output_type": "stream",
     "text": [
      "WARNING:tensorflow:From /home/seth/.local/lib/python3.6/site-packages/tensorflow_core/python/ops/resource_variable_ops.py:1630: calling BaseResourceVariable.__init__ (from tensorflow.python.ops.resource_variable_ops) with constraint is deprecated and will be removed in a future version.\n",
      "Instructions for updating:\n",
      "If using Keras pass *_constraint arguments to layers.\n"
     ]
    }
   ],
   "source": [
    "init_model = custom_model()"
   ]
  },
  {
   "cell_type": "code",
   "execution_count": 27,
   "metadata": {
    "scrolled": true
   },
   "outputs": [],
   "source": [
    "model1 = custom_model()\n",
    "model2 = custom_model()\n",
    "model1.set_weights(init_model.get_weights())\n",
    "model2.set_weights(init_model.get_weights())\n",
    "compile_model(model1)\n",
    "compile_model(model2)"
   ]
  },
  {
   "cell_type": "code",
   "execution_count": 57,
   "metadata": {},
   "outputs": [
    {
     "name": "stdout",
     "output_type": "stream",
     "text": [
      "Training date and time : \n",
      "2020-05-20 14:54:02\n",
      "Train on 27536 samples, validate on 3060 samples\n"
     ]
    }
   ],
   "source": [
    "his = fit_model_with_datasets(model1, 0, x_train_0_to_4, y_train_0_to_4)"
   ]
  },
  {
   "cell_type": "code",
   "execution_count": 59,
   "metadata": {},
   "outputs": [
    {
     "data": {
      "text/plain": [
       "{}"
      ]
     },
     "execution_count": 59,
     "metadata": {},
     "output_type": "execute_result"
    }
   ],
   "source": [
    "his.history"
   ]
  },
  {
   "cell_type": "code",
   "execution_count": 28,
   "metadata": {
    "scrolled": true
   },
   "outputs": [
    {
     "name": "stdout",
     "output_type": "stream",
     "text": [
      "Training date and time : \n",
      "2020-05-18 16:37:27\n",
      "Train on 27536 samples, validate on 3060 samples\n",
      "Epoch 1/30\n",
      "27536/27536 [==============================] - 1s 41us/sample - loss: 0.0430 - acc: 0.7519 - val_loss: 0.0112 - val_acc: 0.9513\n",
      "Epoch 2/30\n",
      "27536/27536 [==============================] - 1s 33us/sample - loss: 0.0103 - acc: 0.9452 - val_loss: 0.0065 - val_acc: 0.9650\n",
      "Epoch 3/30\n",
      "27536/27536 [==============================] - 1s 34us/sample - loss: 0.0077 - acc: 0.9551 - val_loss: 0.0053 - val_acc: 0.9703\n",
      "Epoch 4/30\n",
      "27536/27536 [==============================] - 1s 33us/sample - loss: 0.0066 - acc: 0.9608 - val_loss: 0.0047 - val_acc: 0.9729\n",
      "Epoch 5/30\n",
      "27536/27536 [==============================] - 1s 33us/sample - loss: 0.0059 - acc: 0.9646 - val_loss: 0.0043 - val_acc: 0.9745\n",
      "Epoch 6/30\n",
      "27536/27536 [==============================] - 1s 35us/sample - loss: 0.0055 - acc: 0.9671 - val_loss: 0.0040 - val_acc: 0.9765\n",
      "Epoch 7/30\n",
      "27536/27536 [==============================] - 1s 32us/sample - loss: 0.0052 - acc: 0.9688 - val_loss: 0.0038 - val_acc: 0.9778\n",
      "Epoch 8/30\n",
      "27536/27536 [==============================] - 1s 34us/sample - loss: 0.0049 - acc: 0.9705 - val_loss: 0.0036 - val_acc: 0.9788\n",
      "Epoch 9/30\n",
      "27536/27536 [==============================] - 1s 32us/sample - loss: 0.0046 - acc: 0.9715 - val_loss: 0.0036 - val_acc: 0.9788\n",
      "Epoch 10/30\n",
      "27536/27536 [==============================] - 1s 34us/sample - loss: 0.0045 - acc: 0.9731 - val_loss: 0.0033 - val_acc: 0.9794\n",
      "Epoch 11/30\n",
      "27536/27536 [==============================] - 1s 32us/sample - loss: 0.0043 - acc: 0.9743 - val_loss: 0.0033 - val_acc: 0.9801\n",
      "Epoch 12/30\n",
      "27536/27536 [==============================] - 1s 34us/sample - loss: 0.0041 - acc: 0.9750 - val_loss: 0.0031 - val_acc: 0.9807\n",
      "Epoch 13/30\n",
      "27536/27536 [==============================] - 1s 31us/sample - loss: 0.0040 - acc: 0.9758 - val_loss: 0.0030 - val_acc: 0.9810\n",
      "Epoch 14/30\n",
      "27536/27536 [==============================] - 1s 34us/sample - loss: 0.0039 - acc: 0.9772 - val_loss: 0.0030 - val_acc: 0.9817\n",
      "Epoch 15/30\n",
      "27536/27536 [==============================] - 1s 33us/sample - loss: 0.0038 - acc: 0.9774 - val_loss: 0.0028 - val_acc: 0.9827\n",
      "Epoch 16/30\n",
      "27536/27536 [==============================] - 1s 34us/sample - loss: 0.0037 - acc: 0.9783 - val_loss: 0.0029 - val_acc: 0.9833\n",
      "Epoch 17/30\n",
      "27536/27536 [==============================] - 1s 34us/sample - loss: 0.0036 - acc: 0.9791 - val_loss: 0.0027 - val_acc: 0.9837\n",
      "Epoch 18/30\n",
      "27536/27536 [==============================] - 1s 33us/sample - loss: 0.0035 - acc: 0.9794 - val_loss: 0.0027 - val_acc: 0.9837\n",
      "Epoch 19/30\n",
      "27536/27536 [==============================] - 1s 34us/sample - loss: 0.0034 - acc: 0.9799 - val_loss: 0.0027 - val_acc: 0.9850\n",
      "Epoch 20/30\n",
      "27536/27536 [==============================] - 1s 33us/sample - loss: 0.0033 - acc: 0.9805 - val_loss: 0.0025 - val_acc: 0.9840\n",
      "Epoch 21/30\n",
      "27536/27536 [==============================] - 1s 35us/sample - loss: 0.0032 - acc: 0.9808 - val_loss: 0.0025 - val_acc: 0.9853\n",
      "Epoch 22/30\n",
      "27536/27536 [==============================] - 1s 33us/sample - loss: 0.0031 - acc: 0.9810 - val_loss: 0.0024 - val_acc: 0.9853\n",
      "Epoch 23/30\n",
      "27536/27536 [==============================] - 1s 35us/sample - loss: 0.0031 - acc: 0.9818 - val_loss: 0.0024 - val_acc: 0.9863\n",
      "Epoch 24/30\n",
      "27536/27536 [==============================] - 1s 32us/sample - loss: 0.0030 - acc: 0.9827 - val_loss: 0.0023 - val_acc: 0.9859\n",
      "Epoch 25/30\n",
      "27536/27536 [==============================] - 1s 35us/sample - loss: 0.0029 - acc: 0.9827 - val_loss: 0.0023 - val_acc: 0.9863\n",
      "Epoch 26/30\n",
      "27536/27536 [==============================] - 1s 33us/sample - loss: 0.0029 - acc: 0.9833 - val_loss: 0.0024 - val_acc: 0.9856\n",
      "Epoch 27/30\n",
      "27536/27536 [==============================] - 1s 35us/sample - loss: 0.0028 - acc: 0.9841 - val_loss: 0.0022 - val_acc: 0.9866\n",
      "Epoch 28/30\n",
      "27536/27536 [==============================] - 1s 33us/sample - loss: 0.0027 - acc: 0.9844 - val_loss: 0.0022 - val_acc: 0.9863\n",
      "Epoch 29/30\n",
      "27536/27536 [==============================] - 1s 34us/sample - loss: 0.0027 - acc: 0.9851 - val_loss: 0.0021 - val_acc: 0.9869\n",
      "Epoch 30/30\n",
      "27536/27536 [==============================] - 1s 34us/sample - loss: 0.0026 - acc: 0.9851 - val_loss: 0.0021 - val_acc: 0.9876\n",
      "Training date and time : \n",
      "2020-05-18 16:37:55\n",
      "Train on 26463 samples, validate on 2941 samples\n",
      "Epoch 1/30\n",
      "26463/26463 [==============================] - 1s 36us/sample - loss: 0.0508 - acc: 0.6917 - val_loss: 0.0196 - val_acc: 0.9130\n",
      "Epoch 2/30\n",
      "26463/26463 [==============================] - 1s 34us/sample - loss: 0.0176 - acc: 0.9031 - val_loss: 0.0114 - val_acc: 0.9402\n",
      "Epoch 3/30\n",
      "26463/26463 [==============================] - 1s 33us/sample - loss: 0.0129 - acc: 0.9244 - val_loss: 0.0095 - val_acc: 0.9470\n",
      "Epoch 4/30\n",
      "26463/26463 [==============================] - 1s 34us/sample - loss: 0.0110 - acc: 0.9327 - val_loss: 0.0085 - val_acc: 0.9500\n",
      "Epoch 5/30\n",
      "26463/26463 [==============================] - 1s 32us/sample - loss: 0.0099 - acc: 0.9392 - val_loss: 0.0079 - val_acc: 0.9531\n",
      "Epoch 6/30\n",
      "26463/26463 [==============================] - 1s 34us/sample - loss: 0.0091 - acc: 0.9434 - val_loss: 0.0073 - val_acc: 0.9534\n",
      "Epoch 7/30\n",
      "26463/26463 [==============================] - 1s 33us/sample - loss: 0.0085 - acc: 0.9476 - val_loss: 0.0074 - val_acc: 0.9555\n",
      "Epoch 8/30\n",
      "26463/26463 [==============================] - 1s 35us/sample - loss: 0.0080 - acc: 0.9500 - val_loss: 0.0066 - val_acc: 0.9592\n",
      "Epoch 9/30\n",
      "26463/26463 [==============================] - 1s 33us/sample - loss: 0.0075 - acc: 0.9527 - val_loss: 0.0064 - val_acc: 0.9612\n",
      "Epoch 10/30\n",
      "26463/26463 [==============================] - 1s 34us/sample - loss: 0.0072 - acc: 0.9557 - val_loss: 0.0060 - val_acc: 0.9653\n",
      "Epoch 11/30\n",
      "26463/26463 [==============================] - 1s 34us/sample - loss: 0.0068 - acc: 0.9579 - val_loss: 0.0060 - val_acc: 0.9674\n",
      "Epoch 12/30\n",
      "26463/26463 [==============================] - 1s 33us/sample - loss: 0.0065 - acc: 0.9604 - val_loss: 0.0055 - val_acc: 0.9677\n",
      "Epoch 13/30\n",
      "26463/26463 [==============================] - 1s 34us/sample - loss: 0.0063 - acc: 0.9621 - val_loss: 0.0053 - val_acc: 0.9721\n",
      "Epoch 14/30\n",
      "26463/26463 [==============================] - 1s 32us/sample - loss: 0.0060 - acc: 0.9638 - val_loss: 0.0052 - val_acc: 0.9725\n",
      "Epoch 15/30\n",
      "26463/26463 [==============================] - 1s 35us/sample - loss: 0.0058 - acc: 0.9646 - val_loss: 0.0051 - val_acc: 0.9738\n",
      "Epoch 16/30\n",
      "26463/26463 [==============================] - 1s 31us/sample - loss: 0.0055 - acc: 0.9667 - val_loss: 0.0048 - val_acc: 0.9745\n",
      "Epoch 17/30\n",
      "26463/26463 [==============================] - 1s 35us/sample - loss: 0.0053 - acc: 0.9691 - val_loss: 0.0047 - val_acc: 0.9731\n",
      "Epoch 18/30\n",
      "26463/26463 [==============================] - 1s 33us/sample - loss: 0.0051 - acc: 0.9692 - val_loss: 0.0045 - val_acc: 0.9752\n",
      "Epoch 19/30\n",
      "26463/26463 [==============================] - 1s 33us/sample - loss: 0.0050 - acc: 0.9708 - val_loss: 0.0044 - val_acc: 0.9759\n",
      "Epoch 20/30\n",
      "26463/26463 [==============================] - 1s 34us/sample - loss: 0.0048 - acc: 0.9720 - val_loss: 0.0044 - val_acc: 0.9755\n",
      "Epoch 21/30\n",
      "26463/26463 [==============================] - 1s 32us/sample - loss: 0.0046 - acc: 0.9732 - val_loss: 0.0043 - val_acc: 0.9759\n",
      "Epoch 22/30\n",
      "26463/26463 [==============================] - 1s 34us/sample - loss: 0.0045 - acc: 0.9743 - val_loss: 0.0042 - val_acc: 0.9759\n",
      "Epoch 23/30\n",
      "26463/26463 [==============================] - 1s 33us/sample - loss: 0.0043 - acc: 0.9751 - val_loss: 0.0041 - val_acc: 0.9765\n",
      "Epoch 24/30\n",
      "26463/26463 [==============================] - 1s 35us/sample - loss: 0.0042 - acc: 0.9764 - val_loss: 0.0040 - val_acc: 0.9779\n",
      "Epoch 25/30\n",
      "26463/26463 [==============================] - 1s 32us/sample - loss: 0.0041 - acc: 0.9768 - val_loss: 0.0040 - val_acc: 0.9793\n",
      "Epoch 26/30\n",
      "26463/26463 [==============================] - 1s 33us/sample - loss: 0.0040 - acc: 0.9777 - val_loss: 0.0038 - val_acc: 0.9776\n",
      "Epoch 27/30\n",
      "26463/26463 [==============================] - 1s 32us/sample - loss: 0.0038 - acc: 0.9782 - val_loss: 0.0038 - val_acc: 0.9796\n",
      "Epoch 28/30\n",
      "26463/26463 [==============================] - 1s 32us/sample - loss: 0.0037 - acc: 0.9791 - val_loss: 0.0037 - val_acc: 0.9782\n",
      "Epoch 29/30\n",
      "26463/26463 [==============================] - 1s 32us/sample - loss: 0.0036 - acc: 0.9802 - val_loss: 0.0037 - val_acc: 0.9776\n",
      "Epoch 30/30\n",
      "26463/26463 [==============================] - 1s 30us/sample - loss: 0.0035 - acc: 0.9810 - val_loss: 0.0038 - val_acc: 0.9779\n"
     ]
    },
    {
     "data": {
      "text/plain": [
       "<tensorflow.python.keras.callbacks.History at 0x7efb799e6080>"
      ]
     },
     "execution_count": 28,
     "metadata": {},
     "output_type": "execute_result"
    }
   ],
   "source": [
    "fit_model_with_datasets(model1, 30, x_train_0_to_4, y_train_0_to_4)\n",
    "fit_model_with_datasets(model2, 30, x_train_5_to_9, y_train_5_to_9)"
   ]
  },
  {
   "cell_type": "markdown",
   "metadata": {},
   "source": [
    "### Aggregate models"
   ]
  },
  {
   "cell_type": "code",
   "execution_count": 29,
   "metadata": {},
   "outputs": [],
   "source": [
    "agg_model = custom_model()\n",
    "weights = [model1.get_weights(), model2.get_weights()]\n",
    "agg_weights = list()\n",
    "for weights_list_tuple in zip(*weights):\n",
    "    agg_weights.append(np.array([np.average(np.array(w), axis=0) for w in zip(*weights_list_tuple)]))\n",
    "agg_model.set_weights(agg_weights)"
   ]
  },
  {
   "cell_type": "code",
   "execution_count": 30,
   "metadata": {},
   "outputs": [
    {
     "name": "stdout",
     "output_type": "stream",
     "text": [
      "5139/5139 [==============================] - 0s 30us/sample - loss: 0.0024 - acc: 0.9858\n"
     ]
    },
    {
     "data": {
      "text/plain": [
       "[0.0024359100811186126, 0.9857949]"
      ]
     },
     "execution_count": 30,
     "metadata": {},
     "output_type": "execute_result"
    }
   ],
   "source": [
    "model1.evaluate(x=x_test_0_to_4, y=y_test_0_to_4, verbose=1)"
   ]
  },
  {
   "cell_type": "code",
   "execution_count": 31,
   "metadata": {},
   "outputs": [
    {
     "name": "stdout",
     "output_type": "stream",
     "text": [
      "4861/4861 [==============================] - 0s 30us/sample - loss: 0.1668 - acc: 0.0000e+00\n"
     ]
    },
    {
     "data": {
      "text/plain": [
       "[0.1668007507586131, 0.0]"
      ]
     },
     "execution_count": 31,
     "metadata": {},
     "output_type": "execute_result"
    }
   ],
   "source": [
    "model1.evaluate(x=x_test_5_to_9, y=y_test_5_to_9, verbose=1)"
   ]
  },
  {
   "cell_type": "code",
   "execution_count": 32,
   "metadata": {},
   "outputs": [
    {
     "name": "stdout",
     "output_type": "stream",
     "text": [
      "10000/10000 [==============================] - 0s 29us/sample - loss: 0.0823 - acc: 0.5066\n"
     ]
    },
    {
     "data": {
      "text/plain": [
       "[0.08233365869522094, 0.5066]"
      ]
     },
     "execution_count": 32,
     "metadata": {},
     "output_type": "execute_result"
    }
   ],
   "source": [
    "model1.evaluate(x=x_test, y=y_test, verbose=1)"
   ]
  },
  {
   "cell_type": "code",
   "execution_count": 33,
   "metadata": {},
   "outputs": [
    {
     "name": "stdout",
     "output_type": "stream",
     "text": [
      "5139/5139 [==============================] - 0s 29us/sample - loss: 0.1703 - acc: 0.0000e+00\n"
     ]
    },
    {
     "data": {
      "text/plain": [
       "[0.17027101150037344, 0.0]"
      ]
     },
     "execution_count": 33,
     "metadata": {},
     "output_type": "execute_result"
    }
   ],
   "source": [
    "model2.evaluate(x=x_test_0_to_4, y=y_test_0_to_4, verbose=1)"
   ]
  },
  {
   "cell_type": "code",
   "execution_count": 34,
   "metadata": {},
   "outputs": [
    {
     "name": "stdout",
     "output_type": "stream",
     "text": [
      "4861/4861 [==============================] - 0s 29us/sample - loss: 0.0049 - acc: 0.9681\n"
     ]
    },
    {
     "data": {
      "text/plain": [
       "[0.004858046754005197, 0.96811354]"
      ]
     },
     "execution_count": 34,
     "metadata": {},
     "output_type": "execute_result"
    }
   ],
   "source": [
    "model2.evaluate(x=x_test_5_to_9, y=y_test_5_to_9, verbose=1)"
   ]
  },
  {
   "cell_type": "code",
   "execution_count": 35,
   "metadata": {},
   "outputs": [
    {
     "name": "stdout",
     "output_type": "stream",
     "text": [
      "10000/10000 [==============================] - 0s 29us/sample - loss: 0.0899 - acc: 0.4706\n"
     ]
    },
    {
     "data": {
      "text/plain": [
       "[0.08986376942396164, 0.4706]"
      ]
     },
     "execution_count": 35,
     "metadata": {},
     "output_type": "execute_result"
    }
   ],
   "source": [
    "model2.evaluate(x=x_test, y=y_test, verbose=1)"
   ]
  },
  {
   "cell_type": "code",
   "execution_count": 36,
   "metadata": {},
   "outputs": [
    {
     "name": "stdout",
     "output_type": "stream",
     "text": [
      "10000/10000 [==============================] - 0s 25us/sample - loss: 0.0389 - acc: 0.8343\n"
     ]
    },
    {
     "data": {
      "text/plain": [
       "[0.038877179938554766, 0.8343]"
      ]
     },
     "execution_count": 36,
     "metadata": {},
     "output_type": "execute_result"
    }
   ],
   "source": [
    "compile_model(agg_model)\n",
    "agg_model.evaluate(x=x_test, y=y_test, verbose=1)"
   ]
  },
  {
   "cell_type": "code",
   "execution_count": 37,
   "metadata": {},
   "outputs": [
    {
     "name": "stdout",
     "output_type": "stream",
     "text": [
      "5139/5139 [==============================] - 0s 29us/sample - loss: 0.0409 - acc: 0.8268\n"
     ]
    },
    {
     "data": {
      "text/plain": [
       "[0.04094871223091755, 0.82681453]"
      ]
     },
     "execution_count": 37,
     "metadata": {},
     "output_type": "execute_result"
    }
   ],
   "source": [
    "agg_model.evaluate(x=x_test_0_to_4, y=y_test_0_to_4, verbose=1)"
   ]
  },
  {
   "cell_type": "code",
   "execution_count": 38,
   "metadata": {},
   "outputs": [
    {
     "name": "stdout",
     "output_type": "stream",
     "text": [
      "4861/4861 [==============================] - 0s 29us/sample - loss: 0.0367 - acc: 0.8422\n"
     ]
    },
    {
     "data": {
      "text/plain": [
       "[0.03668717683937245, 0.8422135]"
      ]
     },
     "execution_count": 38,
     "metadata": {},
     "output_type": "execute_result"
    }
   ],
   "source": [
    "agg_model.evaluate(x=x_test_5_to_9, y=y_test_5_to_9, verbose=1)"
   ]
  },
  {
   "cell_type": "code",
   "execution_count": 39,
   "metadata": {},
   "outputs": [],
   "source": [
    "import semantic_drift"
   ]
  },
  {
   "cell_type": "code",
   "execution_count": 40,
   "metadata": {},
   "outputs": [
    {
     "data": {
      "text/plain": [
       "5.7130294"
      ]
     },
     "execution_count": 40,
     "metadata": {},
     "output_type": "execute_result"
    }
   ],
   "source": [
    "semantic_drift.l2_distance(model1, model2)"
   ]
  },
  {
   "cell_type": "code",
   "execution_count": 41,
   "metadata": {},
   "outputs": [
    {
     "data": {
      "text/plain": [
       "3.7985344"
      ]
     },
     "execution_count": 41,
     "metadata": {},
     "output_type": "execute_result"
    }
   ],
   "source": [
    "semantic_drift.l2_distance(init_model, model1)"
   ]
  },
  {
   "cell_type": "code",
   "execution_count": 42,
   "metadata": {},
   "outputs": [
    {
     "data": {
      "text/plain": [
       "4.434219"
      ]
     },
     "execution_count": 42,
     "metadata": {},
     "output_type": "execute_result"
    }
   ],
   "source": [
    "semantic_drift.l2_distance(init_model, model2)"
   ]
  },
  {
   "cell_type": "code",
   "execution_count": null,
   "metadata": {},
   "outputs": [],
   "source": []
  }
 ],
 "metadata": {
  "colab": {
   "name": "personalized.ipynb",
   "provenance": [],
   "version": "0.3.2"
  },
  "kernelspec": {
   "display_name": "Python 3",
   "language": "python",
   "name": "python3"
  },
  "language_info": {
   "codemirror_mode": {
    "name": "ipython",
    "version": 3
   },
   "file_extension": ".py",
   "mimetype": "text/x-python",
   "name": "python",
   "nbconvert_exporter": "python",
   "pygments_lexer": "ipython3",
   "version": "3.6.9"
  }
 },
 "nbformat": 4,
 "nbformat_minor": 1
}
