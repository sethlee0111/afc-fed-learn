{
 "cells": [
  {
   "cell_type": "markdown",
   "metadata": {
    "colab_type": "text",
    "id": "d6n47ueeqbXb"
   },
   "source": [
    "## Personalized Learning (Localized Learning?)\n",
    "\n",
    "#### This notebook includes the following online models;\n",
    "1. A single global model with all data\n",
    "2. Multiple local models (starting from a single global model)\n",
    "   1. that are updated with new data\n",
    "   2. that exchanges data in clusters\n",
    "   3. that exchanges parameters in clusters\n",
    "\n",
    "  \n",
    "#### The dataset that is used for this project is [CIFAR-100 dataset][1]\n",
    "* Has 100 classes containing 600 images each\n",
    "\n",
    "#### New data are fed by the following rules;\n",
    "1. Distributed, according to superclasses\n",
    "  * Clusters will only be updated with data that belongs to a specific superclass\n",
    "  * We update the NN by\n",
    "    1. Changing all parameters of the NN\n",
    "    2. Only changing the last few layers, as in many MTL models\n",
    "2. Randomly (why?)\n",
    "\n",
    "#### We expect to find an answer to the following research questions with this project;\n",
    "1. If models are updated with data (or parameters) that are shared within a cluster, can the model perform good enough with the labels that count?\n",
    "  * For example, the performance of the cluster that are updated with \"Vehicles\" superclass is only assessed with the labels that corresponds to the superclass.\n",
    "  \n",
    "[1]: https://www.cs.toronto.edu/~kriz/cifar.html"
   ]
  },
  {
   "cell_type": "markdown",
   "metadata": {
    "colab_type": "text",
    "id": "Oji0BTfoqbXc"
   },
   "source": [
    "#### Questions\n",
    "\n",
    "Retraining: how does it work <br>\n",
    "How do we compare these models?\n"
   ]
  },
  {
   "cell_type": "markdown",
   "metadata": {
    "colab_type": "text",
    "id": "mr4-uY0LqbXd"
   },
   "source": [
    "### Implementation with Custom Neural Network and EMNIST dataset"
   ]
  },
  {
   "cell_type": "code",
   "execution_count": 1,
   "metadata": {
    "scrolled": true
   },
   "outputs": [],
   "source": [
    "%load_ext tensorboard"
   ]
  },
  {
   "cell_type": "code",
   "execution_count": 2,
   "metadata": {
    "colab": {
     "base_uri": "https://localhost:8080/",
     "height": 34
    },
    "colab_type": "code",
    "id": "tGoXLnOyqbXe",
    "outputId": "9ccd7215-80bf-4a0a-b852-8896b17c38f1",
    "scrolled": true
   },
   "outputs": [],
   "source": [
    "from __future__ import print_function\n",
    "import tensorflow.keras as keras\n",
    "from tensorflow.keras.datasets import mnist\n",
    "from tensorflow.keras.models import Sequential\n",
    "from tensorflow.keras.layers import Dense, Dropout, Flatten\n",
    "from tensorflow.keras.layers import Conv2D, MaxPooling2D\n",
    "from tensorflow.keras import backend as K"
   ]
  },
  {
   "cell_type": "code",
   "execution_count": 3,
   "metadata": {},
   "outputs": [],
   "source": [
    "import matplotlib"
   ]
  },
  {
   "cell_type": "code",
   "execution_count": 4,
   "metadata": {
    "scrolled": true
   },
   "outputs": [],
   "source": [
    "import datetime\n",
    "import numpy as np\n",
    "import matplotlib.pyplot as plt\n",
    "import seaborn as sns\n",
    "import matplotlib.lines as mlines"
   ]
  },
  {
   "cell_type": "code",
   "execution_count": 5,
   "metadata": {},
   "outputs": [],
   "source": [
    "import tensorflow as tf\n",
    "log_dir = \"logs/fit/\" + datetime.datetime.now().strftime(\"%Y%m%d-%H%M%S\")\n",
    "tensorboard_callback = tf.keras.callbacks.TensorBoard(log_dir=log_dir, histogram_freq=1)"
   ]
  },
  {
   "cell_type": "code",
   "execution_count": 6,
   "metadata": {},
   "outputs": [
    {
     "data": {
      "text/plain": [
       "'1.15.2'"
      ]
     },
     "execution_count": 6,
     "metadata": {},
     "output_type": "execute_result"
    }
   ],
   "source": [
    "tf.__version__"
   ]
  },
  {
   "cell_type": "code",
   "execution_count": 7,
   "metadata": {
    "colab": {},
    "colab_type": "code",
    "id": "E2faBs1yqbXj"
   },
   "outputs": [],
   "source": [
    "# Hyperparameters\n",
    "batch_size = 50\n",
    "epochs = 20\n",
    "\n",
    "# input image dimensions\n",
    "img_rows, img_cols = 28, 28"
   ]
  },
  {
   "cell_type": "markdown",
   "metadata": {
    "colab_type": "text",
    "id": "QXfylSWLqbXl"
   },
   "source": [
    "#### Load MNIST dataset"
   ]
  },
  {
   "cell_type": "code",
   "execution_count": 8,
   "metadata": {},
   "outputs": [],
   "source": [
    "# the data, split between train and test sets\n",
    "(x_train, y_train), (x_test, y_test) = mnist.load_data()"
   ]
  },
  {
   "cell_type": "code",
   "execution_count": 9,
   "metadata": {},
   "outputs": [],
   "source": [
    "if K.image_data_format() == 'channels_first':\n",
    "    x_train = x_train.reshape(x_train.shape[0], 1, img_rows, img_cols)\n",
    "    x_test = x_test.reshape(x_test.shape[0], 1, img_rows, img_cols)\n",
    "    input_shape = (1, img_rows, img_cols)\n",
    "else:\n",
    "    x_train = x_train.reshape(x_train.shape[0], img_rows, img_cols, 1)\n",
    "    x_test = x_test.reshape(x_test.shape[0], img_rows, img_cols, 1)\n",
    "    input_shape = (img_rows, img_cols, 1)"
   ]
  },
  {
   "cell_type": "code",
   "execution_count": 10,
   "metadata": {},
   "outputs": [
    {
     "data": {
      "text/plain": [
       "(60000, 28, 28, 1)"
      ]
     },
     "execution_count": 10,
     "metadata": {},
     "output_type": "execute_result"
    }
   ],
   "source": [
    "x_train.shape"
   ]
  },
  {
   "cell_type": "code",
   "execution_count": 11,
   "metadata": {},
   "outputs": [],
   "source": [
    "x_train = x_train.astype('float32')\n",
    "x_test = x_test.astype('float32')\n",
    "x_train /= 255\n",
    "x_test /= 255"
   ]
  },
  {
   "cell_type": "code",
   "execution_count": 12,
   "metadata": {},
   "outputs": [],
   "source": [
    "global_dataset_size = 6000\n",
    "local_dataset_size = 40000"
   ]
  },
  {
   "cell_type": "code",
   "execution_count": 13,
   "metadata": {},
   "outputs": [],
   "source": [
    "import utils"
   ]
  },
  {
   "cell_type": "code",
   "execution_count": 14,
   "metadata": {},
   "outputs": [
    {
     "data": {
      "text/plain": [
       "<module 'utils' from '/home/seth/projects/fed-learn-experiment/utils.py'>"
      ]
     },
     "execution_count": 14,
     "metadata": {},
     "output_type": "execute_result"
    }
   ],
   "source": [
    "import importlib\n",
    "importlib.reload(utils)"
   ]
  },
  {
   "cell_type": "code",
   "execution_count": 15,
   "metadata": {},
   "outputs": [],
   "source": [
    "x_train_0_to_4, y_train_0_to_4 = utils.filter_data_by_labels(x_train, y_train, np.arange(5))"
   ]
  },
  {
   "cell_type": "code",
   "execution_count": 16,
   "metadata": {},
   "outputs": [],
   "source": [
    "x_train_5_to_9, y_train_5_to_9 = utils.filter_data_by_labels(x_train, y_train, np.arange(5)+5)"
   ]
  },
  {
   "cell_type": "code",
   "execution_count": 17,
   "metadata": {},
   "outputs": [],
   "source": [
    "x_test_0_to_4, y_test_0_to_4 = utils.filter_data_by_labels(x_test, y_test, np.arange(5))"
   ]
  },
  {
   "cell_type": "code",
   "execution_count": 18,
   "metadata": {},
   "outputs": [],
   "source": [
    "x_test_5_to_9, y_test_5_to_9 = utils.filter_data_by_labels(x_test, y_test, np.arange(5)+5)"
   ]
  },
  {
   "cell_type": "code",
   "execution_count": 19,
   "metadata": {},
   "outputs": [],
   "source": [
    "# convert class vectors to binary class matrices\n",
    "num_classes = 10\n",
    "y_train_0_to_4 = keras.utils.to_categorical(y_train_0_to_4, num_classes)\n",
    "y_train_5_to_9 = keras.utils.to_categorical(y_train_5_to_9, num_classes)\n",
    "y_test_0_to_4 = keras.utils.to_categorical(y_test_0_to_4, num_classes)\n",
    "y_test_5_to_9 = keras.utils.to_categorical(y_test_5_to_9, num_classes)"
   ]
  },
  {
   "cell_type": "code",
   "execution_count": 20,
   "metadata": {},
   "outputs": [],
   "source": [
    "y_test = keras.utils.to_categorical(y_test, num_classes)"
   ]
  },
  {
   "cell_type": "markdown",
   "metadata": {},
   "source": [
    "### Define models and compile & fit function"
   ]
  },
  {
   "cell_type": "code",
   "execution_count": 21,
   "metadata": {},
   "outputs": [],
   "source": [
    "def custom_model():\n",
    "    model = Sequential()\n",
    "    model.add(Flatten(input_shape=input_shape))\n",
    "    model.add(Dense(200, activation='relu'))\n",
    "    model.add(Dense(200, activation='relu'))\n",
    "    model.add(Dense(num_classes, activation='softmax'))\n",
    "    return model"
   ]
  },
  {
   "cell_type": "code",
   "execution_count": 22,
   "metadata": {},
   "outputs": [],
   "source": [
    "def compile_model(model):  \n",
    "    # initiate SGD optimizer\n",
    "    opt = keras.optimizers.SGD(lr=0.1)\n",
    "    model.compile(loss='mean_squared_error', optimizer=opt, metrics=['accuracy'])"
   ]
  },
  {
   "cell_type": "code",
   "execution_count": 23,
   "metadata": {},
   "outputs": [],
   "source": [
    "def compile_model_lr(model):  \n",
    "    # initiate SGD optimizer\n",
    "    opt = keras.optimizers.SGD(lr=lr, decay=1e-6, momentum=0.9, nesterov=True)\n",
    "    model.compile(loss='mean_squared_error', optimizer=opt, metrics=['accuracy'])"
   ]
  },
  {
   "cell_type": "code",
   "execution_count": 24,
   "metadata": {},
   "outputs": [],
   "source": [
    "def fit_model_global(model, epochs):\n",
    "    now = datetime.datetime.now()\n",
    "    print (\"Training date and time : \")\n",
    "    print (now.strftime(\"%Y-%m-%d %H:%M:%S\"))\n",
    "    return model.fit(X_global, Y_global,\n",
    "                      batch_size=100,\n",
    "                      epochs=40,\n",
    "                      shuffle=True, callbacks=[tensorboard_callback])"
   ]
  },
  {
   "cell_type": "code",
   "execution_count": 25,
   "metadata": {},
   "outputs": [],
   "source": [
    "def fit_model_with_datasets(model, epochs, x_train, y_train):\n",
    "    now = datetime.datetime.now()\n",
    "    print (\"Training date and time : \")\n",
    "    print (now.strftime(\"%Y-%m-%d %H:%M:%S\"))\n",
    "    return model.fit(x_train, y_train,\n",
    "                      batch_size=batch_size,\n",
    "                      epochs=epochs,\n",
    "                      shuffle=True, validation_split=0.1, verbose=1)"
   ]
  },
  {
   "cell_type": "code",
   "execution_count": 26,
   "metadata": {},
   "outputs": [
    {
     "name": "stdout",
     "output_type": "stream",
     "text": [
      "WARNING:tensorflow:From /home/seth/.local/lib/python3.6/site-packages/tensorflow_core/python/ops/resource_variable_ops.py:1630: calling BaseResourceVariable.__init__ (from tensorflow.python.ops.resource_variable_ops) with constraint is deprecated and will be removed in a future version.\n",
      "Instructions for updating:\n",
      "If using Keras pass *_constraint arguments to layers.\n"
     ]
    }
   ],
   "source": [
    "init_model = custom_model()"
   ]
  },
  {
   "cell_type": "code",
   "execution_count": 27,
   "metadata": {
    "scrolled": true
   },
   "outputs": [],
   "source": [
    "model1 = custom_model()\n",
    "model2 = custom_model()\n",
    "model1.set_weights(init_model.get_weights())\n",
    "model2.set_weights(init_model.get_weights())\n",
    "compile_model(model1)\n",
    "compile_model(model2)"
   ]
  },
  {
   "cell_type": "code",
   "execution_count": 28,
   "metadata": {},
   "outputs": [
    {
     "name": "stdout",
     "output_type": "stream",
     "text": [
      "WARNING:tensorflow:From /home/seth/.local/lib/python3.6/site-packages/tensorflow_core/python/ops/init_ops.py:97: calling GlorotUniform.__init__ (from tensorflow.python.ops.init_ops) with dtype is deprecated and will be removed in a future version.\n",
      "Instructions for updating:\n",
      "Call initializer instance with the dtype argument instead of passing it to the constructor\n",
      "WARNING:tensorflow:From /home/seth/.local/lib/python3.6/site-packages/tensorflow_core/python/ops/init_ops.py:97: calling Zeros.__init__ (from tensorflow.python.ops.init_ops) with dtype is deprecated and will be removed in a future version.\n",
      "Instructions for updating:\n",
      "Call initializer instance with the dtype argument instead of passing it to the constructor\n"
     ]
    }
   ],
   "source": [
    "model1_list = list()\n",
    "for _ in range(9):\n",
    "    model1_list.append(tf.keras.models.clone_model(model1)) \n",
    "    model1_list[_].set_weights(model1.get_weights())"
   ]
  },
  {
   "cell_type": "code",
   "execution_count": 29,
   "metadata": {},
   "outputs": [
    {
     "name": "stdout",
     "output_type": "stream",
     "text": [
      "Training date and time : \n",
      "2020-08-31 13:21:45\n",
      "Train on 27536 samples, validate on 3060 samples\n",
      "Epoch 1/5\n",
      "27536/27536 [==============================] - 1s 48us/sample - loss: 0.0418 - acc: 0.7499 - val_loss: 0.0103 - val_acc: 0.9578\n",
      "Epoch 2/5\n",
      "27536/27536 [==============================] - 1s 32us/sample - loss: 0.0098 - acc: 0.9482 - val_loss: 0.0061 - val_acc: 0.9663\n",
      "Epoch 3/5\n",
      "27536/27536 [==============================] - 1s 36us/sample - loss: 0.0074 - acc: 0.9573 - val_loss: 0.0050 - val_acc: 0.9722\n",
      "Epoch 4/5\n",
      "27536/27536 [==============================] - 1s 33us/sample - loss: 0.0064 - acc: 0.9611 - val_loss: 0.0045 - val_acc: 0.9719\n",
      "Epoch 5/5\n",
      "27536/27536 [==============================] - 1s 36us/sample - loss: 0.0058 - acc: 0.9652 - val_loss: 0.0042 - val_acc: 0.9748\n",
      "Training date and time : \n",
      "2020-08-31 13:21:50\n",
      "Train on 27536 samples, validate on 3060 samples\n",
      "Epoch 1/10\n",
      "27536/27536 [==============================] - 1s 37us/sample - loss: 0.0418 - acc: 0.7487 - val_loss: 0.0103 - val_acc: 0.9578\n",
      "Epoch 2/10\n",
      "27536/27536 [==============================] - 1s 34us/sample - loss: 0.0098 - acc: 0.9482 - val_loss: 0.0061 - val_acc: 0.9676\n",
      "Epoch 3/10\n",
      "27536/27536 [==============================] - 1s 33us/sample - loss: 0.0074 - acc: 0.9573 - val_loss: 0.0050 - val_acc: 0.9725\n",
      "Epoch 4/10\n",
      "27536/27536 [==============================] - 1s 31us/sample - loss: 0.0064 - acc: 0.9623 - val_loss: 0.0046 - val_acc: 0.9732\n",
      "Epoch 5/10\n",
      "27536/27536 [==============================] - 1s 32us/sample - loss: 0.0058 - acc: 0.9650 - val_loss: 0.0042 - val_acc: 0.9745\n",
      "Epoch 6/10\n",
      "27536/27536 [==============================] - 1s 33us/sample - loss: 0.0054 - acc: 0.9670 - val_loss: 0.0040 - val_acc: 0.9755\n",
      "Epoch 7/10\n",
      "27536/27536 [==============================] - 1s 30us/sample - loss: 0.0051 - acc: 0.9684 - val_loss: 0.0038 - val_acc: 0.9771\n",
      "Epoch 8/10\n",
      "27536/27536 [==============================] - 1s 29us/sample - loss: 0.0049 - acc: 0.9700 - val_loss: 0.0036 - val_acc: 0.9784\n",
      "Epoch 9/10\n",
      "27536/27536 [==============================] - 1s 28us/sample - loss: 0.0047 - acc: 0.9716 - val_loss: 0.0035 - val_acc: 0.9784\n",
      "Epoch 10/10\n",
      "27536/27536 [==============================] - 1s 29us/sample - loss: 0.0045 - acc: 0.9726 - val_loss: 0.0033 - val_acc: 0.9794\n",
      "Training date and time : \n",
      "2020-08-31 13:21:59\n",
      "Train on 27536 samples, validate on 3060 samples\n",
      "Epoch 1/15\n",
      "27536/27536 [==============================] - 1s 32us/sample - loss: 0.0419 - acc: 0.7472 - val_loss: 0.0103 - val_acc: 0.9546\n",
      "Epoch 2/15\n",
      "27536/27536 [==============================] - 1s 29us/sample - loss: 0.0098 - acc: 0.9475 - val_loss: 0.0061 - val_acc: 0.9657\n",
      "Epoch 3/15\n",
      "27536/27536 [==============================] - 1s 29us/sample - loss: 0.0074 - acc: 0.9573 - val_loss: 0.0050 - val_acc: 0.9712\n",
      "Epoch 4/15\n",
      "27536/27536 [==============================] - 1s 29us/sample - loss: 0.0064 - acc: 0.9617 - val_loss: 0.0048 - val_acc: 0.9719\n",
      "Epoch 5/15\n",
      "27536/27536 [==============================] - 1s 29us/sample - loss: 0.0058 - acc: 0.9649 - val_loss: 0.0042 - val_acc: 0.9745\n",
      "Epoch 6/15\n",
      "27536/27536 [==============================] - 1s 29us/sample - loss: 0.0054 - acc: 0.9668 - val_loss: 0.0040 - val_acc: 0.9748\n",
      "Epoch 7/15\n",
      "27536/27536 [==============================] - 1s 28us/sample - loss: 0.0051 - acc: 0.9687 - val_loss: 0.0038 - val_acc: 0.9781\n",
      "Epoch 8/15\n",
      "27536/27536 [==============================] - 1s 31us/sample - loss: 0.0049 - acc: 0.9701 - val_loss: 0.0036 - val_acc: 0.9778\n",
      "Epoch 9/15\n",
      "27536/27536 [==============================] - 1s 29us/sample - loss: 0.0047 - acc: 0.9717 - val_loss: 0.0035 - val_acc: 0.9791\n",
      "Epoch 10/15\n",
      "27536/27536 [==============================] - 1s 29us/sample - loss: 0.0045 - acc: 0.9725 - val_loss: 0.0034 - val_acc: 0.9791\n",
      "Epoch 11/15\n",
      "27536/27536 [==============================] - 1s 29us/sample - loss: 0.0043 - acc: 0.9740 - val_loss: 0.0032 - val_acc: 0.9791\n",
      "Epoch 12/15\n",
      "27536/27536 [==============================] - 1s 29us/sample - loss: 0.0042 - acc: 0.9745 - val_loss: 0.0032 - val_acc: 0.9801\n",
      "Epoch 13/15\n",
      "27536/27536 [==============================] - 1s 29us/sample - loss: 0.0040 - acc: 0.9754 - val_loss: 0.0031 - val_acc: 0.9801\n",
      "Epoch 14/15\n",
      "27536/27536 [==============================] - 1s 28us/sample - loss: 0.0039 - acc: 0.9764 - val_loss: 0.0030 - val_acc: 0.9797\n",
      "Epoch 15/15\n",
      "27536/27536 [==============================] - 1s 29us/sample - loss: 0.0038 - acc: 0.9774 - val_loss: 0.0029 - val_acc: 0.9801\n",
      "Training date and time : \n",
      "2020-08-31 13:22:11\n",
      "Train on 27536 samples, validate on 3060 samples\n",
      "Epoch 1/20\n",
      "27536/27536 [==============================] - 1s 32us/sample - loss: 0.0420 - acc: 0.7501 - val_loss: 0.0103 - val_acc: 0.9565\n",
      "Epoch 2/20\n",
      "27536/27536 [==============================] - 1s 30us/sample - loss: 0.0098 - acc: 0.9484 - val_loss: 0.0061 - val_acc: 0.9657\n",
      "Epoch 3/20\n",
      "27536/27536 [==============================] - 1s 29us/sample - loss: 0.0074 - acc: 0.9575 - val_loss: 0.0050 - val_acc: 0.9725\n",
      "Epoch 4/20\n",
      "27536/27536 [==============================] - 1s 29us/sample - loss: 0.0064 - acc: 0.9619 - val_loss: 0.0045 - val_acc: 0.9729\n",
      "Epoch 5/20\n",
      "27536/27536 [==============================] - 1s 29us/sample - loss: 0.0058 - acc: 0.9648 - val_loss: 0.0042 - val_acc: 0.9745\n",
      "Epoch 6/20\n",
      "27536/27536 [==============================] - 1s 31us/sample - loss: 0.0054 - acc: 0.9670 - val_loss: 0.0039 - val_acc: 0.9758\n",
      "Epoch 7/20\n",
      "27536/27536 [==============================] - 1s 30us/sample - loss: 0.0051 - acc: 0.9689 - val_loss: 0.0038 - val_acc: 0.9775\n",
      "Epoch 8/20\n",
      "27536/27536 [==============================] - 1s 30us/sample - loss: 0.0049 - acc: 0.9702 - val_loss: 0.0036 - val_acc: 0.9775\n",
      "Epoch 9/20\n",
      "27536/27536 [==============================] - 1s 30us/sample - loss: 0.0047 - acc: 0.9712 - val_loss: 0.0035 - val_acc: 0.9781\n",
      "Epoch 10/20\n",
      "27536/27536 [==============================] - 1s 30us/sample - loss: 0.0045 - acc: 0.9726 - val_loss: 0.0034 - val_acc: 0.9801\n",
      "Epoch 11/20\n",
      "27536/27536 [==============================] - 1s 29us/sample - loss: 0.0043 - acc: 0.9735 - val_loss: 0.0033 - val_acc: 0.9797\n",
      "Epoch 12/20\n",
      "27536/27536 [==============================] - 1s 30us/sample - loss: 0.0042 - acc: 0.9748 - val_loss: 0.0032 - val_acc: 0.9807\n",
      "Epoch 13/20\n",
      "27536/27536 [==============================] - 1s 29us/sample - loss: 0.0040 - acc: 0.9757 - val_loss: 0.0031 - val_acc: 0.9820\n",
      "Epoch 14/20\n",
      "27536/27536 [==============================] - 1s 29us/sample - loss: 0.0039 - acc: 0.9764 - val_loss: 0.0030 - val_acc: 0.9804\n",
      "Epoch 15/20\n",
      "27536/27536 [==============================] - 1s 30us/sample - loss: 0.0038 - acc: 0.9775 - val_loss: 0.0029 - val_acc: 0.9814\n",
      "Epoch 16/20\n",
      "27536/27536 [==============================] - 1s 31us/sample - loss: 0.0037 - acc: 0.9782 - val_loss: 0.0028 - val_acc: 0.9814\n",
      "Epoch 17/20\n",
      "27536/27536 [==============================] - 1s 31us/sample - loss: 0.0036 - acc: 0.9783 - val_loss: 0.0028 - val_acc: 0.9820\n",
      "Epoch 18/20\n",
      "27536/27536 [==============================] - 1s 31us/sample - loss: 0.0035 - acc: 0.9793 - val_loss: 0.0028 - val_acc: 0.9807\n",
      "Epoch 19/20\n",
      "27536/27536 [==============================] - 1s 29us/sample - loss: 0.0034 - acc: 0.9799 - val_loss: 0.0027 - val_acc: 0.9830\n",
      "Epoch 20/20\n",
      "27536/27536 [==============================] - 1s 30us/sample - loss: 0.0033 - acc: 0.9804 - val_loss: 0.0027 - val_acc: 0.9824\n",
      "Training date and time : \n",
      "2020-08-31 13:22:28\n",
      "Train on 27536 samples, validate on 3060 samples\n",
      "Epoch 1/25\n",
      "27536/27536 [==============================] - 1s 33us/sample - loss: 0.0421 - acc: 0.7473 - val_loss: 0.0103 - val_acc: 0.9578\n",
      "Epoch 2/25\n",
      "27536/27536 [==============================] - 1s 29us/sample - loss: 0.0098 - acc: 0.9476 - val_loss: 0.0062 - val_acc: 0.9660\n",
      "Epoch 3/25\n",
      "27536/27536 [==============================] - 1s 29us/sample - loss: 0.0074 - acc: 0.9569 - val_loss: 0.0051 - val_acc: 0.9706\n",
      "Epoch 4/25\n",
      "27536/27536 [==============================] - 1s 29us/sample - loss: 0.0064 - acc: 0.9622 - val_loss: 0.0045 - val_acc: 0.9725\n",
      "Epoch 5/25\n",
      "27536/27536 [==============================] - 1s 29us/sample - loss: 0.0058 - acc: 0.9649 - val_loss: 0.0042 - val_acc: 0.9732\n",
      "Epoch 6/25\n"
     ]
    },
    {
     "name": "stdout",
     "output_type": "stream",
     "text": [
      "27536/27536 [==============================] - 1s 29us/sample - loss: 0.0054 - acc: 0.9671 - val_loss: 0.0040 - val_acc: 0.9752\n",
      "Epoch 7/25\n",
      "27536/27536 [==============================] - 1s 29us/sample - loss: 0.0051 - acc: 0.9686 - val_loss: 0.0038 - val_acc: 0.9761\n",
      "Epoch 8/25\n",
      "27536/27536 [==============================] - 1s 29us/sample - loss: 0.0049 - acc: 0.9703 - val_loss: 0.0036 - val_acc: 0.9775\n",
      "Epoch 9/25\n",
      "27536/27536 [==============================] - 1s 29us/sample - loss: 0.0047 - acc: 0.9715 - val_loss: 0.0035 - val_acc: 0.9781\n",
      "Epoch 10/25\n",
      "27536/27536 [==============================] - 1s 29us/sample - loss: 0.0045 - acc: 0.9723 - val_loss: 0.0034 - val_acc: 0.9801\n",
      "Epoch 11/25\n",
      "27536/27536 [==============================] - 1s 29us/sample - loss: 0.0043 - acc: 0.9736 - val_loss: 0.0032 - val_acc: 0.9804\n",
      "Epoch 12/25\n",
      "27536/27536 [==============================] - 1s 29us/sample - loss: 0.0042 - acc: 0.9747 - val_loss: 0.0032 - val_acc: 0.9801\n",
      "Epoch 13/25\n",
      "27536/27536 [==============================] - 1s 29us/sample - loss: 0.0040 - acc: 0.9755 - val_loss: 0.0031 - val_acc: 0.9794\n",
      "Epoch 14/25\n",
      "27536/27536 [==============================] - 1s 29us/sample - loss: 0.0039 - acc: 0.9766 - val_loss: 0.0030 - val_acc: 0.9797\n",
      "Epoch 15/25\n",
      "27536/27536 [==============================] - 1s 28us/sample - loss: 0.0038 - acc: 0.9775 - val_loss: 0.0029 - val_acc: 0.9814\n",
      "Epoch 16/25\n",
      "27536/27536 [==============================] - 1s 29us/sample - loss: 0.0037 - acc: 0.9780 - val_loss: 0.0028 - val_acc: 0.9814\n",
      "Epoch 17/25\n",
      "27536/27536 [==============================] - 1s 29us/sample - loss: 0.0036 - acc: 0.9782 - val_loss: 0.0028 - val_acc: 0.9820\n",
      "Epoch 18/25\n",
      "27536/27536 [==============================] - 1s 29us/sample - loss: 0.0035 - acc: 0.9793 - val_loss: 0.0027 - val_acc: 0.9814\n",
      "Epoch 19/25\n",
      "27536/27536 [==============================] - 1s 29us/sample - loss: 0.0034 - acc: 0.9796 - val_loss: 0.0027 - val_acc: 0.9824\n",
      "Epoch 20/25\n",
      "27536/27536 [==============================] - 1s 29us/sample - loss: 0.0033 - acc: 0.9804 - val_loss: 0.0026 - val_acc: 0.9824\n",
      "Epoch 21/25\n",
      "27536/27536 [==============================] - 1s 29us/sample - loss: 0.0032 - acc: 0.9807 - val_loss: 0.0026 - val_acc: 0.9837\n",
      "Epoch 22/25\n",
      "27536/27536 [==============================] - 1s 28us/sample - loss: 0.0032 - acc: 0.9812 - val_loss: 0.0025 - val_acc: 0.9840\n",
      "Epoch 23/25\n",
      "27536/27536 [==============================] - 1s 29us/sample - loss: 0.0031 - acc: 0.9816 - val_loss: 0.0026 - val_acc: 0.9824\n",
      "Epoch 24/25\n",
      "27536/27536 [==============================] - 1s 29us/sample - loss: 0.0030 - acc: 0.9822 - val_loss: 0.0024 - val_acc: 0.9837\n",
      "Epoch 25/25\n",
      "27536/27536 [==============================] - 1s 29us/sample - loss: 0.0029 - acc: 0.9829 - val_loss: 0.0024 - val_acc: 0.9850\n",
      "Training date and time : \n",
      "2020-08-31 13:22:48\n",
      "Train on 27536 samples, validate on 3060 samples\n",
      "Epoch 1/30\n",
      "27536/27536 [==============================] - 1s 33us/sample - loss: 0.0417 - acc: 0.7524 - val_loss: 0.0102 - val_acc: 0.9565\n",
      "Epoch 2/30\n",
      "27536/27536 [==============================] - 1s 29us/sample - loss: 0.0097 - acc: 0.9480 - val_loss: 0.0061 - val_acc: 0.9667\n",
      "Epoch 3/30\n",
      "27536/27536 [==============================] - 1s 29us/sample - loss: 0.0074 - acc: 0.9570 - val_loss: 0.0050 - val_acc: 0.9703\n",
      "Epoch 4/30\n",
      "27536/27536 [==============================] - 1s 30us/sample - loss: 0.0064 - acc: 0.9620 - val_loss: 0.0045 - val_acc: 0.9729\n",
      "Epoch 5/30\n",
      "27536/27536 [==============================] - 1s 30us/sample - loss: 0.0058 - acc: 0.9646 - val_loss: 0.0043 - val_acc: 0.9735\n",
      "Epoch 6/30\n",
      "27536/27536 [==============================] - 1s 29us/sample - loss: 0.0054 - acc: 0.9670 - val_loss: 0.0040 - val_acc: 0.9752\n",
      "Epoch 7/30\n",
      "27536/27536 [==============================] - 1s 28us/sample - loss: 0.0051 - acc: 0.9685 - val_loss: 0.0037 - val_acc: 0.9778\n",
      "Epoch 8/30\n",
      "27536/27536 [==============================] - 1s 30us/sample - loss: 0.0049 - acc: 0.9699 - val_loss: 0.0036 - val_acc: 0.9784\n",
      "Epoch 9/30\n",
      "27536/27536 [==============================] - 1s 29us/sample - loss: 0.0047 - acc: 0.9716 - val_loss: 0.0035 - val_acc: 0.9788\n",
      "Epoch 10/30\n",
      "27536/27536 [==============================] - 1s 29us/sample - loss: 0.0045 - acc: 0.9727 - val_loss: 0.0035 - val_acc: 0.9775\n",
      "Epoch 11/30\n",
      "27536/27536 [==============================] - 1s 29us/sample - loss: 0.0043 - acc: 0.9738 - val_loss: 0.0032 - val_acc: 0.9797\n",
      "Epoch 12/30\n",
      "27536/27536 [==============================] - 1s 29us/sample - loss: 0.0042 - acc: 0.9744 - val_loss: 0.0031 - val_acc: 0.9804\n",
      "Epoch 13/30\n",
      "27536/27536 [==============================] - 1s 30us/sample - loss: 0.0040 - acc: 0.9753 - val_loss: 0.0031 - val_acc: 0.9804\n",
      "Epoch 14/30\n",
      "27536/27536 [==============================] - 1s 29us/sample - loss: 0.0039 - acc: 0.9763 - val_loss: 0.0030 - val_acc: 0.9804\n",
      "Epoch 15/30\n",
      "27536/27536 [==============================] - 1s 28us/sample - loss: 0.0038 - acc: 0.9774 - val_loss: 0.0029 - val_acc: 0.9814\n",
      "Epoch 16/30\n",
      "27536/27536 [==============================] - 1s 29us/sample - loss: 0.0037 - acc: 0.9782 - val_loss: 0.0029 - val_acc: 0.9814\n",
      "Epoch 17/30\n",
      "27536/27536 [==============================] - 1s 29us/sample - loss: 0.0036 - acc: 0.9789 - val_loss: 0.0028 - val_acc: 0.9824\n",
      "Epoch 18/30\n",
      "27536/27536 [==============================] - 1s 30us/sample - loss: 0.0035 - acc: 0.9792 - val_loss: 0.0027 - val_acc: 0.9810\n",
      "Epoch 19/30\n",
      "27536/27536 [==============================] - 1s 30us/sample - loss: 0.0034 - acc: 0.9800 - val_loss: 0.0027 - val_acc: 0.9827\n",
      "Epoch 20/30\n",
      "27536/27536 [==============================] - 1s 29us/sample - loss: 0.0033 - acc: 0.9804 - val_loss: 0.0026 - val_acc: 0.9840\n",
      "Epoch 21/30\n",
      "27536/27536 [==============================] - 1s 29us/sample - loss: 0.0032 - acc: 0.9807 - val_loss: 0.0026 - val_acc: 0.9837\n",
      "Epoch 22/30\n",
      "27536/27536 [==============================] - 1s 29us/sample - loss: 0.0032 - acc: 0.9812 - val_loss: 0.0025 - val_acc: 0.9830\n",
      "Epoch 23/30\n",
      "27536/27536 [==============================] - 1s 29us/sample - loss: 0.0031 - acc: 0.9820 - val_loss: 0.0024 - val_acc: 0.9843\n",
      "Epoch 24/30\n",
      "27536/27536 [==============================] - 1s 29us/sample - loss: 0.0030 - acc: 0.9825 - val_loss: 0.0024 - val_acc: 0.9830\n",
      "Epoch 25/30\n",
      "27536/27536 [==============================] - 1s 28us/sample - loss: 0.0029 - acc: 0.9831 - val_loss: 0.0024 - val_acc: 0.9833\n",
      "Epoch 26/30\n",
      "27536/27536 [==============================] - 1s 30us/sample - loss: 0.0029 - acc: 0.9831 - val_loss: 0.0023 - val_acc: 0.9853\n",
      "Epoch 27/30\n",
      "27536/27536 [==============================] - 1s 30us/sample - loss: 0.0028 - acc: 0.9839 - val_loss: 0.0023 - val_acc: 0.9853\n",
      "Epoch 28/30\n",
      "27536/27536 [==============================] - 1s 30us/sample - loss: 0.0027 - acc: 0.9843 - val_loss: 0.0023 - val_acc: 0.9840\n",
      "Epoch 29/30\n",
      "27536/27536 [==============================] - 1s 30us/sample - loss: 0.0027 - acc: 0.9847 - val_loss: 0.0022 - val_acc: 0.9863\n",
      "Epoch 30/30\n",
      "27536/27536 [==============================] - 1s 30us/sample - loss: 0.0026 - acc: 0.9854 - val_loss: 0.0022 - val_acc: 0.9863\n",
      "Training date and time : \n",
      "2020-08-31 13:23:13\n",
      "Train on 27536 samples, validate on 3060 samples\n",
      "Epoch 1/35\n",
      "27536/27536 [==============================] - 1s 33us/sample - loss: 0.0418 - acc: 0.7505 - val_loss: 0.0102 - val_acc: 0.9569\n",
      "Epoch 2/35\n",
      "27536/27536 [==============================] - 1s 29us/sample - loss: 0.0098 - acc: 0.9477 - val_loss: 0.0061 - val_acc: 0.9686\n",
      "Epoch 3/35\n",
      "27536/27536 [==============================] - 1s 28us/sample - loss: 0.0074 - acc: 0.9574 - val_loss: 0.0051 - val_acc: 0.9706\n",
      "Epoch 4/35\n",
      "27536/27536 [==============================] - 1s 28us/sample - loss: 0.0064 - acc: 0.9613 - val_loss: 0.0045 - val_acc: 0.9725\n",
      "Epoch 5/35\n",
      "27536/27536 [==============================] - 1s 28us/sample - loss: 0.0058 - acc: 0.9651 - val_loss: 0.0042 - val_acc: 0.9748\n",
      "Epoch 6/35\n",
      "27536/27536 [==============================] - 1s 28us/sample - loss: 0.0054 - acc: 0.9669 - val_loss: 0.0039 - val_acc: 0.9758\n",
      "Epoch 7/35\n",
      "27536/27536 [==============================] - 1s 29us/sample - loss: 0.0051 - acc: 0.9692 - val_loss: 0.0038 - val_acc: 0.9771\n",
      "Epoch 8/35\n"
     ]
    },
    {
     "name": "stdout",
     "output_type": "stream",
     "text": [
      "27536/27536 [==============================] - 1s 29us/sample - loss: 0.0049 - acc: 0.9701 - val_loss: 0.0036 - val_acc: 0.9788\n",
      "Epoch 9/35\n",
      "27536/27536 [==============================] - 1s 29us/sample - loss: 0.0047 - acc: 0.9714 - val_loss: 0.0035 - val_acc: 0.9788\n",
      "Epoch 10/35\n",
      "27536/27536 [==============================] - 1s 29us/sample - loss: 0.0045 - acc: 0.9728 - val_loss: 0.0034 - val_acc: 0.9791\n",
      "Epoch 11/35\n",
      "27536/27536 [==============================] - 1s 29us/sample - loss: 0.0043 - acc: 0.9739 - val_loss: 0.0033 - val_acc: 0.9797\n",
      "Epoch 12/35\n",
      "27536/27536 [==============================] - 1s 34us/sample - loss: 0.0042 - acc: 0.9747 - val_loss: 0.0032 - val_acc: 0.9807\n",
      "Epoch 13/35\n",
      "27536/27536 [==============================] - 1s 37us/sample - loss: 0.0040 - acc: 0.9752 - val_loss: 0.0031 - val_acc: 0.9801\n",
      "Epoch 14/35\n",
      "27536/27536 [==============================] - 1s 31us/sample - loss: 0.0039 - acc: 0.9764 - val_loss: 0.0030 - val_acc: 0.9817\n",
      "Epoch 15/35\n",
      "27536/27536 [==============================] - 1s 32us/sample - loss: 0.0038 - acc: 0.9769 - val_loss: 0.0030 - val_acc: 0.9814\n",
      "Epoch 16/35\n",
      "27536/27536 [==============================] - 1s 34us/sample - loss: 0.0037 - acc: 0.9777 - val_loss: 0.0028 - val_acc: 0.9804\n",
      "Epoch 17/35\n",
      "27536/27536 [==============================] - 1s 31us/sample - loss: 0.0036 - acc: 0.9783 - val_loss: 0.0028 - val_acc: 0.9814\n",
      "Epoch 18/35\n",
      "27536/27536 [==============================] - 1s 33us/sample - loss: 0.0035 - acc: 0.9793 - val_loss: 0.0027 - val_acc: 0.9817\n",
      "Epoch 19/35\n",
      "27536/27536 [==============================] - 1s 30us/sample - loss: 0.0034 - acc: 0.9797 - val_loss: 0.0027 - val_acc: 0.9817\n",
      "Epoch 20/35\n",
      "27536/27536 [==============================] - 1s 30us/sample - loss: 0.0033 - acc: 0.9801 - val_loss: 0.0026 - val_acc: 0.9820\n",
      "Epoch 21/35\n",
      "27536/27536 [==============================] - 1s 29us/sample - loss: 0.0032 - acc: 0.9814 - val_loss: 0.0026 - val_acc: 0.9833\n",
      "Epoch 22/35\n",
      "27536/27536 [==============================] - 1s 28us/sample - loss: 0.0032 - acc: 0.9814 - val_loss: 0.0025 - val_acc: 0.9840\n",
      "Epoch 23/35\n",
      "27536/27536 [==============================] - 1s 30us/sample - loss: 0.0031 - acc: 0.9819 - val_loss: 0.0024 - val_acc: 0.9830\n",
      "Epoch 24/35\n",
      "27536/27536 [==============================] - 1s 29us/sample - loss: 0.0030 - acc: 0.9823 - val_loss: 0.0025 - val_acc: 0.9833\n",
      "Epoch 25/35\n",
      "27536/27536 [==============================] - 1s 31us/sample - loss: 0.0029 - acc: 0.9828 - val_loss: 0.0024 - val_acc: 0.9856\n",
      "Epoch 26/35\n",
      "27536/27536 [==============================] - 1s 31us/sample - loss: 0.0029 - acc: 0.9835 - val_loss: 0.0023 - val_acc: 0.9843\n",
      "Epoch 27/35\n",
      "27536/27536 [==============================] - 1s 30us/sample - loss: 0.0028 - acc: 0.9839 - val_loss: 0.0023 - val_acc: 0.9853\n",
      "Epoch 28/35\n",
      "27536/27536 [==============================] - 1s 30us/sample - loss: 0.0027 - acc: 0.9845 - val_loss: 0.0023 - val_acc: 0.9856\n",
      "Epoch 29/35\n",
      "27536/27536 [==============================] - 1s 29us/sample - loss: 0.0027 - acc: 0.9847 - val_loss: 0.0023 - val_acc: 0.9856\n",
      "Epoch 30/35\n",
      "27536/27536 [==============================] - 1s 30us/sample - loss: 0.0026 - acc: 0.9846 - val_loss: 0.0022 - val_acc: 0.9859\n",
      "Epoch 31/35\n",
      "27536/27536 [==============================] - 1s 31us/sample - loss: 0.0026 - acc: 0.9853 - val_loss: 0.0022 - val_acc: 0.9873\n",
      "Epoch 32/35\n",
      "27536/27536 [==============================] - 1s 31us/sample - loss: 0.0025 - acc: 0.9859 - val_loss: 0.0021 - val_acc: 0.9876\n",
      "Epoch 33/35\n",
      "27536/27536 [==============================] - 1s 29us/sample - loss: 0.0025 - acc: 0.9861 - val_loss: 0.0021 - val_acc: 0.9876\n",
      "Epoch 34/35\n",
      "27536/27536 [==============================] - 1s 30us/sample - loss: 0.0024 - acc: 0.9866 - val_loss: 0.0021 - val_acc: 0.9869\n",
      "Epoch 35/35\n",
      "27536/27536 [==============================] - 1s 29us/sample - loss: 0.0023 - acc: 0.9868 - val_loss: 0.0020 - val_acc: 0.9879\n",
      "Training date and time : \n",
      "2020-08-31 13:23:42\n",
      "Train on 27536 samples, validate on 3060 samples\n",
      "Epoch 1/40\n",
      "27536/27536 [==============================] - 1s 33us/sample - loss: 0.0419 - acc: 0.7489 - val_loss: 0.0104 - val_acc: 0.9549\n",
      "Epoch 2/40\n",
      "27536/27536 [==============================] - 1s 29us/sample - loss: 0.0098 - acc: 0.9470 - val_loss: 0.0062 - val_acc: 0.9680\n",
      "Epoch 3/40\n",
      "27536/27536 [==============================] - 1s 30us/sample - loss: 0.0074 - acc: 0.9579 - val_loss: 0.0051 - val_acc: 0.9703\n",
      "Epoch 4/40\n",
      "27536/27536 [==============================] - 1s 30us/sample - loss: 0.0064 - acc: 0.9621 - val_loss: 0.0045 - val_acc: 0.9729\n",
      "Epoch 5/40\n",
      "27536/27536 [==============================] - 1s 29us/sample - loss: 0.0058 - acc: 0.9651 - val_loss: 0.0042 - val_acc: 0.9742\n",
      "Epoch 6/40\n",
      "27536/27536 [==============================] - 1s 29us/sample - loss: 0.0054 - acc: 0.9672 - val_loss: 0.0041 - val_acc: 0.9758\n",
      "Epoch 7/40\n",
      "27536/27536 [==============================] - 1s 29us/sample - loss: 0.0051 - acc: 0.9688 - val_loss: 0.0038 - val_acc: 0.9788\n",
      "Epoch 8/40\n",
      "27536/27536 [==============================] - 1s 29us/sample - loss: 0.0049 - acc: 0.9706 - val_loss: 0.0036 - val_acc: 0.9784\n",
      "Epoch 9/40\n",
      "27536/27536 [==============================] - 1s 30us/sample - loss: 0.0047 - acc: 0.9712 - val_loss: 0.0035 - val_acc: 0.9791\n",
      "Epoch 10/40\n",
      "27536/27536 [==============================] - 1s 29us/sample - loss: 0.0045 - acc: 0.9723 - val_loss: 0.0033 - val_acc: 0.9794\n",
      "Epoch 11/40\n",
      "27536/27536 [==============================] - 1s 29us/sample - loss: 0.0043 - acc: 0.9739 - val_loss: 0.0033 - val_acc: 0.9801\n",
      "Epoch 12/40\n",
      "27536/27536 [==============================] - 1s 29us/sample - loss: 0.0042 - acc: 0.9747 - val_loss: 0.0032 - val_acc: 0.9801\n",
      "Epoch 13/40\n",
      "27536/27536 [==============================] - 1s 29us/sample - loss: 0.0040 - acc: 0.9758 - val_loss: 0.0031 - val_acc: 0.9797\n",
      "Epoch 14/40\n",
      "27536/27536 [==============================] - 1s 29us/sample - loss: 0.0039 - acc: 0.9766 - val_loss: 0.0030 - val_acc: 0.9797\n",
      "Epoch 15/40\n",
      "27536/27536 [==============================] - 1s 29us/sample - loss: 0.0038 - acc: 0.9772 - val_loss: 0.0029 - val_acc: 0.9794\n",
      "Epoch 16/40\n",
      "27536/27536 [==============================] - 1s 30us/sample - loss: 0.0037 - acc: 0.9775 - val_loss: 0.0029 - val_acc: 0.9814\n",
      "Epoch 17/40\n",
      "27536/27536 [==============================] - 1s 29us/sample - loss: 0.0036 - acc: 0.9785 - val_loss: 0.0029 - val_acc: 0.9817\n",
      "Epoch 18/40\n",
      "27536/27536 [==============================] - 1s 29us/sample - loss: 0.0035 - acc: 0.9794 - val_loss: 0.0027 - val_acc: 0.9820\n",
      "Epoch 19/40\n",
      "27536/27536 [==============================] - 1s 30us/sample - loss: 0.0034 - acc: 0.9797 - val_loss: 0.0027 - val_acc: 0.9820\n",
      "Epoch 20/40\n",
      "27536/27536 [==============================] - 1s 29us/sample - loss: 0.0033 - acc: 0.9800 - val_loss: 0.0027 - val_acc: 0.9820\n",
      "Epoch 21/40\n",
      "27536/27536 [==============================] - 1s 29us/sample - loss: 0.0032 - acc: 0.9810 - val_loss: 0.0025 - val_acc: 0.9837\n",
      "Epoch 22/40\n",
      "27536/27536 [==============================] - 1s 30us/sample - loss: 0.0032 - acc: 0.9813 - val_loss: 0.0025 - val_acc: 0.9843\n",
      "Epoch 23/40\n",
      "27536/27536 [==============================] - 1s 29us/sample - loss: 0.0031 - acc: 0.9818 - val_loss: 0.0024 - val_acc: 0.9840\n",
      "Epoch 24/40\n",
      "27536/27536 [==============================] - 1s 29us/sample - loss: 0.0030 - acc: 0.9823 - val_loss: 0.0024 - val_acc: 0.9840\n",
      "Epoch 25/40\n",
      "27536/27536 [==============================] - 1s 29us/sample - loss: 0.0029 - acc: 0.9827 - val_loss: 0.0024 - val_acc: 0.9846\n",
      "Epoch 26/40\n",
      "27536/27536 [==============================] - 1s 29us/sample - loss: 0.0029 - acc: 0.9833 - val_loss: 0.0023 - val_acc: 0.9850\n",
      "Epoch 27/40\n",
      "27536/27536 [==============================] - 1s 29us/sample - loss: 0.0028 - acc: 0.9840 - val_loss: 0.0023 - val_acc: 0.9859\n",
      "Epoch 28/40\n",
      "27536/27536 [==============================] - 1s 29us/sample - loss: 0.0027 - acc: 0.9840 - val_loss: 0.0023 - val_acc: 0.9856\n",
      "Epoch 29/40\n",
      "27536/27536 [==============================] - 1s 30us/sample - loss: 0.0027 - acc: 0.9847 - val_loss: 0.0022 - val_acc: 0.9859\n",
      "Epoch 30/40\n",
      "27536/27536 [==============================] - 1s 30us/sample - loss: 0.0026 - acc: 0.9848 - val_loss: 0.0022 - val_acc: 0.9859\n"
     ]
    },
    {
     "name": "stdout",
     "output_type": "stream",
     "text": [
      "Epoch 31/40\n",
      "27536/27536 [==============================] - 1s 29us/sample - loss: 0.0026 - acc: 0.9854 - val_loss: 0.0022 - val_acc: 0.9863\n",
      "Epoch 32/40\n",
      "27536/27536 [==============================] - 1s 29us/sample - loss: 0.0025 - acc: 0.9860 - val_loss: 0.0022 - val_acc: 0.9876\n",
      "Epoch 33/40\n",
      "27536/27536 [==============================] - 1s 30us/sample - loss: 0.0024 - acc: 0.9863 - val_loss: 0.0021 - val_acc: 0.9876\n",
      "Epoch 34/40\n",
      "27536/27536 [==============================] - 1s 29us/sample - loss: 0.0024 - acc: 0.9865 - val_loss: 0.0021 - val_acc: 0.9876\n",
      "Epoch 35/40\n",
      "27536/27536 [==============================] - 1s 30us/sample - loss: 0.0023 - acc: 0.9868 - val_loss: 0.0020 - val_acc: 0.9882\n",
      "Epoch 36/40\n",
      "27536/27536 [==============================] - 1s 29us/sample - loss: 0.0023 - acc: 0.9872 - val_loss: 0.0021 - val_acc: 0.9873\n",
      "Epoch 37/40\n",
      "27536/27536 [==============================] - 1s 29us/sample - loss: 0.0022 - acc: 0.9875 - val_loss: 0.0020 - val_acc: 0.9889\n",
      "Epoch 38/40\n",
      "27536/27536 [==============================] - 1s 29us/sample - loss: 0.0022 - acc: 0.9878 - val_loss: 0.0020 - val_acc: 0.9892\n",
      "Epoch 39/40\n",
      "27536/27536 [==============================] - 1s 29us/sample - loss: 0.0021 - acc: 0.9882 - val_loss: 0.0019 - val_acc: 0.9902\n",
      "Epoch 40/40\n",
      "27536/27536 [==============================] - 1s 30us/sample - loss: 0.0021 - acc: 0.9882 - val_loss: 0.0020 - val_acc: 0.9886\n",
      "Training date and time : \n",
      "2020-08-31 13:24:14\n",
      "Train on 27536 samples, validate on 3060 samples\n",
      "Epoch 1/45\n",
      "27536/27536 [==============================] - 1s 33us/sample - loss: 0.0418 - acc: 0.7517 - val_loss: 0.0103 - val_acc: 0.9565\n",
      "Epoch 2/45\n",
      "27536/27536 [==============================] - 1s 30us/sample - loss: 0.0098 - acc: 0.9473 - val_loss: 0.0061 - val_acc: 0.9680\n",
      "Epoch 3/45\n",
      "27536/27536 [==============================] - 1s 30us/sample - loss: 0.0074 - acc: 0.9576 - val_loss: 0.0050 - val_acc: 0.9699\n",
      "Epoch 4/45\n",
      "27536/27536 [==============================] - 1s 29us/sample - loss: 0.0064 - acc: 0.9617 - val_loss: 0.0045 - val_acc: 0.9725\n",
      "Epoch 5/45\n",
      "27536/27536 [==============================] - 1s 30us/sample - loss: 0.0058 - acc: 0.9651 - val_loss: 0.0042 - val_acc: 0.9742\n",
      "Epoch 6/45\n",
      "27536/27536 [==============================] - 1s 29us/sample - loss: 0.0054 - acc: 0.9671 - val_loss: 0.0039 - val_acc: 0.9755\n",
      "Epoch 7/45\n",
      "27536/27536 [==============================] - 1s 29us/sample - loss: 0.0051 - acc: 0.9685 - val_loss: 0.0038 - val_acc: 0.9781\n",
      "Epoch 8/45\n",
      "27536/27536 [==============================] - 1s 30us/sample - loss: 0.0049 - acc: 0.9698 - val_loss: 0.0036 - val_acc: 0.9781\n",
      "Epoch 9/45\n",
      "27536/27536 [==============================] - 1s 29us/sample - loss: 0.0046 - acc: 0.9709 - val_loss: 0.0035 - val_acc: 0.9784\n",
      "Epoch 10/45\n",
      "27536/27536 [==============================] - 1s 29us/sample - loss: 0.0045 - acc: 0.9726 - val_loss: 0.0034 - val_acc: 0.9784\n",
      "Epoch 11/45\n",
      "27536/27536 [==============================] - 1s 29us/sample - loss: 0.0043 - acc: 0.9740 - val_loss: 0.0033 - val_acc: 0.9807\n",
      "Epoch 12/45\n",
      "27536/27536 [==============================] - 1s 29us/sample - loss: 0.0042 - acc: 0.9745 - val_loss: 0.0032 - val_acc: 0.9791\n",
      "Epoch 13/45\n",
      "27536/27536 [==============================] - 1s 29us/sample - loss: 0.0040 - acc: 0.9758 - val_loss: 0.0031 - val_acc: 0.9794\n",
      "Epoch 14/45\n",
      "27536/27536 [==============================] - 1s 29us/sample - loss: 0.0039 - acc: 0.9762 - val_loss: 0.0030 - val_acc: 0.9810\n",
      "Epoch 15/45\n",
      "27536/27536 [==============================] - 1s 30us/sample - loss: 0.0038 - acc: 0.9773 - val_loss: 0.0029 - val_acc: 0.9814\n",
      "Epoch 16/45\n",
      "27536/27536 [==============================] - 1s 30us/sample - loss: 0.0037 - acc: 0.9778 - val_loss: 0.0029 - val_acc: 0.9804\n",
      "Epoch 17/45\n",
      "27536/27536 [==============================] - 1s 30us/sample - loss: 0.0036 - acc: 0.9787 - val_loss: 0.0028 - val_acc: 0.9810\n",
      "Epoch 18/45\n",
      "27536/27536 [==============================] - 1s 29us/sample - loss: 0.0035 - acc: 0.9794 - val_loss: 0.0029 - val_acc: 0.9807\n",
      "Epoch 19/45\n",
      "27536/27536 [==============================] - 1s 31us/sample - loss: 0.0034 - acc: 0.9798 - val_loss: 0.0027 - val_acc: 0.9824\n",
      "Epoch 20/45\n",
      "27536/27536 [==============================] - 1s 30us/sample - loss: 0.0033 - acc: 0.9806 - val_loss: 0.0027 - val_acc: 0.9833\n",
      "Epoch 21/45\n",
      "27536/27536 [==============================] - 1s 29us/sample - loss: 0.0032 - acc: 0.9811 - val_loss: 0.0026 - val_acc: 0.9820\n",
      "Epoch 22/45\n",
      "27536/27536 [==============================] - 1s 30us/sample - loss: 0.0031 - acc: 0.9810 - val_loss: 0.0025 - val_acc: 0.9837\n",
      "Epoch 23/45\n",
      "27536/27536 [==============================] - 1s 30us/sample - loss: 0.0031 - acc: 0.9818 - val_loss: 0.0025 - val_acc: 0.9840\n",
      "Epoch 24/45\n",
      "27536/27536 [==============================] - 1s 28us/sample - loss: 0.0030 - acc: 0.9825 - val_loss: 0.0025 - val_acc: 0.9833\n",
      "Epoch 25/45\n",
      "27536/27536 [==============================] - 1s 30us/sample - loss: 0.0029 - acc: 0.9828 - val_loss: 0.0024 - val_acc: 0.9843\n",
      "Epoch 26/45\n",
      "27536/27536 [==============================] - 1s 30us/sample - loss: 0.0029 - acc: 0.9833 - val_loss: 0.0023 - val_acc: 0.9850\n",
      "Epoch 27/45\n",
      "27536/27536 [==============================] - 1s 30us/sample - loss: 0.0028 - acc: 0.9839 - val_loss: 0.0023 - val_acc: 0.9853\n",
      "Epoch 28/45\n",
      "27536/27536 [==============================] - 1s 30us/sample - loss: 0.0027 - acc: 0.9839 - val_loss: 0.0023 - val_acc: 0.9850\n",
      "Epoch 29/45\n",
      "27536/27536 [==============================] - 1s 31us/sample - loss: 0.0027 - acc: 0.9846 - val_loss: 0.0022 - val_acc: 0.9863\n",
      "Epoch 30/45\n",
      "27536/27536 [==============================] - 1s 30us/sample - loss: 0.0026 - acc: 0.9849 - val_loss: 0.0023 - val_acc: 0.9856\n",
      "Epoch 31/45\n",
      "27536/27536 [==============================] - 1s 30us/sample - loss: 0.0026 - acc: 0.9856 - val_loss: 0.0022 - val_acc: 0.9876\n",
      "Epoch 32/45\n",
      "27536/27536 [==============================] - 1s 30us/sample - loss: 0.0025 - acc: 0.9856 - val_loss: 0.0021 - val_acc: 0.9879\n",
      "Epoch 33/45\n",
      "27536/27536 [==============================] - 1s 29us/sample - loss: 0.0024 - acc: 0.9865 - val_loss: 0.0021 - val_acc: 0.9876\n",
      "Epoch 34/45\n",
      "27536/27536 [==============================] - 1s 29us/sample - loss: 0.0024 - acc: 0.9867 - val_loss: 0.0021 - val_acc: 0.9879\n",
      "Epoch 35/45\n",
      "27536/27536 [==============================] - 1s 29us/sample - loss: 0.0023 - acc: 0.9869 - val_loss: 0.0021 - val_acc: 0.9876\n",
      "Epoch 36/45\n",
      "27536/27536 [==============================] - 1s 29us/sample - loss: 0.0023 - acc: 0.9871 - val_loss: 0.0020 - val_acc: 0.9882\n",
      "Epoch 37/45\n",
      "27536/27536 [==============================] - 1s 30us/sample - loss: 0.0022 - acc: 0.9877 - val_loss: 0.0020 - val_acc: 0.9882\n",
      "Epoch 38/45\n",
      "27536/27536 [==============================] - 1s 30us/sample - loss: 0.0022 - acc: 0.9880 - val_loss: 0.0020 - val_acc: 0.9882\n",
      "Epoch 39/45\n",
      "27536/27536 [==============================] - 1s 30us/sample - loss: 0.0022 - acc: 0.9884 - val_loss: 0.0020 - val_acc: 0.9892\n",
      "Epoch 40/45\n",
      "27536/27536 [==============================] - 1s 29us/sample - loss: 0.0021 - acc: 0.9884 - val_loss: 0.0019 - val_acc: 0.9899\n",
      "Epoch 41/45\n",
      "27536/27536 [==============================] - 1s 29us/sample - loss: 0.0021 - acc: 0.9883 - val_loss: 0.0019 - val_acc: 0.9899\n",
      "Epoch 42/45\n",
      "27536/27536 [==============================] - 1s 29us/sample - loss: 0.0020 - acc: 0.9889 - val_loss: 0.0019 - val_acc: 0.9895\n",
      "Epoch 43/45\n",
      "27536/27536 [==============================] - 1s 29us/sample - loss: 0.0020 - acc: 0.9892 - val_loss: 0.0019 - val_acc: 0.9902\n",
      "Epoch 44/45\n",
      "27536/27536 [==============================] - 1s 30us/sample - loss: 0.0020 - acc: 0.9896 - val_loss: 0.0019 - val_acc: 0.9899\n",
      "Epoch 45/45\n",
      "27536/27536 [==============================] - 1s 30us/sample - loss: 0.0019 - acc: 0.9897 - val_loss: 0.0018 - val_acc: 0.9895\n"
     ]
    }
   ],
   "source": [
    "for i in range(len(model1_list)):\n",
    "    compile_model(model1_list[i])\n",
    "    fit_model_with_datasets(model1_list[i], (i+1)*5, x_train_0_to_4, y_train_0_to_4)"
   ]
  },
  {
   "cell_type": "code",
   "execution_count": 30,
   "metadata": {},
   "outputs": [
    {
     "name": "stdout",
     "output_type": "stream",
     "text": [
      "Training date and time : \n",
      "2020-08-31 13:24:52\n",
      "Train on 26463 samples, validate on 2941 samples\n",
      "Epoch 1/50\n",
      "26463/26463 [==============================] - 1s 35us/sample - loss: 0.0522 - acc: 0.6866 - val_loss: 0.0189 - val_acc: 0.9313\n",
      "Epoch 2/50\n",
      "26463/26463 [==============================] - 1s 31us/sample - loss: 0.0171 - acc: 0.9090 - val_loss: 0.0108 - val_acc: 0.9425\n",
      "Epoch 3/50\n",
      "26463/26463 [==============================] - 1s 31us/sample - loss: 0.0125 - acc: 0.9256 - val_loss: 0.0089 - val_acc: 0.9510\n",
      "Epoch 4/50\n",
      "26463/26463 [==============================] - 1s 30us/sample - loss: 0.0108 - acc: 0.9355 - val_loss: 0.0079 - val_acc: 0.9541\n",
      "Epoch 5/50\n",
      "26463/26463 [==============================] - 1s 30us/sample - loss: 0.0096 - acc: 0.9415 - val_loss: 0.0075 - val_acc: 0.9572\n",
      "Epoch 6/50\n",
      "26463/26463 [==============================] - 1s 29us/sample - loss: 0.0089 - acc: 0.9458 - val_loss: 0.0069 - val_acc: 0.9606\n",
      "Epoch 7/50\n",
      "26463/26463 [==============================] - 1s 30us/sample - loss: 0.0083 - acc: 0.9499 - val_loss: 0.0065 - val_acc: 0.9626\n",
      "Epoch 8/50\n",
      "26463/26463 [==============================] - 1s 30us/sample - loss: 0.0078 - acc: 0.9526 - val_loss: 0.0062 - val_acc: 0.9653\n",
      "Epoch 9/50\n",
      "26463/26463 [==============================] - 1s 30us/sample - loss: 0.0074 - acc: 0.9555 - val_loss: 0.0059 - val_acc: 0.9670\n",
      "Epoch 10/50\n",
      "26463/26463 [==============================] - 1s 31us/sample - loss: 0.0070 - acc: 0.9580 - val_loss: 0.0057 - val_acc: 0.9670\n",
      "Epoch 11/50\n",
      "26463/26463 [==============================] - 1s 30us/sample - loss: 0.0067 - acc: 0.9595 - val_loss: 0.0055 - val_acc: 0.9677\n",
      "Epoch 12/50\n",
      "26463/26463 [==============================] - 1s 30us/sample - loss: 0.0064 - acc: 0.9619 - val_loss: 0.0052 - val_acc: 0.9714\n",
      "Epoch 13/50\n",
      "26463/26463 [==============================] - 1s 30us/sample - loss: 0.0061 - acc: 0.9628 - val_loss: 0.0051 - val_acc: 0.9697\n",
      "Epoch 14/50\n",
      "26463/26463 [==============================] - 1s 30us/sample - loss: 0.0059 - acc: 0.9653 - val_loss: 0.0048 - val_acc: 0.9711\n",
      "Epoch 15/50\n",
      "26463/26463 [==============================] - 1s 30us/sample - loss: 0.0056 - acc: 0.9669 - val_loss: 0.0049 - val_acc: 0.9738\n",
      "Epoch 16/50\n",
      "26463/26463 [==============================] - 1s 30us/sample - loss: 0.0054 - acc: 0.9682 - val_loss: 0.0045 - val_acc: 0.9745\n",
      "Epoch 17/50\n",
      "26463/26463 [==============================] - 1s 30us/sample - loss: 0.0052 - acc: 0.9696 - val_loss: 0.0045 - val_acc: 0.9748\n",
      "Epoch 18/50\n",
      "26463/26463 [==============================] - 1s 30us/sample - loss: 0.0050 - acc: 0.9710 - val_loss: 0.0044 - val_acc: 0.9748\n",
      "Epoch 19/50\n",
      "26463/26463 [==============================] - 1s 30us/sample - loss: 0.0049 - acc: 0.9712 - val_loss: 0.0042 - val_acc: 0.9765\n",
      "Epoch 20/50\n",
      "26463/26463 [==============================] - 1s 30us/sample - loss: 0.0047 - acc: 0.9731 - val_loss: 0.0042 - val_acc: 0.9759\n",
      "Epoch 21/50\n",
      "26463/26463 [==============================] - 1s 29us/sample - loss: 0.0046 - acc: 0.9738 - val_loss: 0.0040 - val_acc: 0.9765\n",
      "Epoch 22/50\n",
      "26463/26463 [==============================] - 1s 30us/sample - loss: 0.0044 - acc: 0.9749 - val_loss: 0.0040 - val_acc: 0.9762\n",
      "Epoch 23/50\n",
      "26463/26463 [==============================] - 1s 29us/sample - loss: 0.0043 - acc: 0.9756 - val_loss: 0.0039 - val_acc: 0.9759\n",
      "Epoch 24/50\n",
      "26463/26463 [==============================] - 1s 29us/sample - loss: 0.0042 - acc: 0.9762 - val_loss: 0.0038 - val_acc: 0.9776\n",
      "Epoch 25/50\n",
      "26463/26463 [==============================] - 1s 30us/sample - loss: 0.0041 - acc: 0.9776 - val_loss: 0.0037 - val_acc: 0.9769\n",
      "Epoch 26/50\n",
      "26463/26463 [==============================] - 1s 30us/sample - loss: 0.0040 - acc: 0.9780 - val_loss: 0.0037 - val_acc: 0.9772\n",
      "Epoch 27/50\n",
      "26463/26463 [==============================] - 1s 30us/sample - loss: 0.0038 - acc: 0.9789 - val_loss: 0.0036 - val_acc: 0.9772\n",
      "Epoch 28/50\n",
      "26463/26463 [==============================] - 1s 30us/sample - loss: 0.0037 - acc: 0.9794 - val_loss: 0.0036 - val_acc: 0.9782\n",
      "Epoch 29/50\n",
      "26463/26463 [==============================] - 1s 30us/sample - loss: 0.0036 - acc: 0.9804 - val_loss: 0.0035 - val_acc: 0.9786\n",
      "Epoch 30/50\n",
      "26463/26463 [==============================] - 1s 30us/sample - loss: 0.0035 - acc: 0.9811 - val_loss: 0.0037 - val_acc: 0.9776\n",
      "Epoch 31/50\n",
      "26463/26463 [==============================] - 1s 30us/sample - loss: 0.0034 - acc: 0.9821 - val_loss: 0.0035 - val_acc: 0.9793\n",
      "Epoch 32/50\n",
      "26463/26463 [==============================] - 1s 30us/sample - loss: 0.0034 - acc: 0.9817 - val_loss: 0.0034 - val_acc: 0.9796\n",
      "Epoch 33/50\n",
      "26463/26463 [==============================] - 1s 30us/sample - loss: 0.0033 - acc: 0.9827 - val_loss: 0.0034 - val_acc: 0.9793\n",
      "Epoch 34/50\n",
      "26463/26463 [==============================] - 1s 30us/sample - loss: 0.0032 - acc: 0.9831 - val_loss: 0.0034 - val_acc: 0.9796\n",
      "Epoch 35/50\n",
      "26463/26463 [==============================] - 1s 30us/sample - loss: 0.0031 - acc: 0.9836 - val_loss: 0.0033 - val_acc: 0.9793\n",
      "Epoch 36/50\n",
      "26463/26463 [==============================] - 1s 30us/sample - loss: 0.0030 - acc: 0.9840 - val_loss: 0.0033 - val_acc: 0.9796\n",
      "Epoch 37/50\n",
      "26463/26463 [==============================] - 1s 30us/sample - loss: 0.0030 - acc: 0.9849 - val_loss: 0.0033 - val_acc: 0.9810\n",
      "Epoch 38/50\n",
      "26463/26463 [==============================] - 1s 29us/sample - loss: 0.0029 - acc: 0.9851 - val_loss: 0.0033 - val_acc: 0.9813\n",
      "Epoch 39/50\n",
      "26463/26463 [==============================] - 1s 30us/sample - loss: 0.0028 - acc: 0.9852 - val_loss: 0.0032 - val_acc: 0.9813\n",
      "Epoch 40/50\n",
      "26463/26463 [==============================] - 1s 30us/sample - loss: 0.0028 - acc: 0.9858 - val_loss: 0.0032 - val_acc: 0.9810\n",
      "Epoch 41/50\n",
      "26463/26463 [==============================] - 1s 30us/sample - loss: 0.0027 - acc: 0.9859 - val_loss: 0.0032 - val_acc: 0.9813\n",
      "Epoch 42/50\n",
      "26463/26463 [==============================] - 1s 30us/sample - loss: 0.0026 - acc: 0.9861 - val_loss: 0.0032 - val_acc: 0.9810\n",
      "Epoch 43/50\n",
      "26463/26463 [==============================] - 1s 30us/sample - loss: 0.0026 - acc: 0.9869 - val_loss: 0.0031 - val_acc: 0.9813\n",
      "Epoch 44/50\n",
      "26463/26463 [==============================] - 1s 30us/sample - loss: 0.0025 - acc: 0.9872 - val_loss: 0.0031 - val_acc: 0.9820\n",
      "Epoch 45/50\n",
      "26463/26463 [==============================] - 1s 30us/sample - loss: 0.0025 - acc: 0.9879 - val_loss: 0.0031 - val_acc: 0.9820\n",
      "Epoch 46/50\n",
      "26463/26463 [==============================] - 1s 30us/sample - loss: 0.0024 - acc: 0.9878 - val_loss: 0.0032 - val_acc: 0.9803\n",
      "Epoch 47/50\n",
      "26463/26463 [==============================] - 1s 30us/sample - loss: 0.0024 - acc: 0.9882 - val_loss: 0.0031 - val_acc: 0.9813\n",
      "Epoch 48/50\n",
      "26463/26463 [==============================] - 1s 30us/sample - loss: 0.0023 - acc: 0.9889 - val_loss: 0.0031 - val_acc: 0.9806\n",
      "Epoch 49/50\n",
      "26463/26463 [==============================] - 1s 30us/sample - loss: 0.0023 - acc: 0.9887 - val_loss: 0.0030 - val_acc: 0.9823\n",
      "Epoch 50/50\n",
      "26463/26463 [==============================] - 1s 30us/sample - loss: 0.0022 - acc: 0.9889 - val_loss: 0.0031 - val_acc: 0.9806\n"
     ]
    },
    {
     "data": {
      "text/plain": [
       "<tensorflow.python.keras.callbacks.History at 0x7f9a20891cf8>"
      ]
     },
     "execution_count": 30,
     "metadata": {},
     "output_type": "execute_result"
    }
   ],
   "source": [
    "fit_model_with_datasets(model2, 50, x_train_5_to_9, y_train_5_to_9)"
   ]
  },
  {
   "cell_type": "code",
   "execution_count": 31,
   "metadata": {},
   "outputs": [],
   "source": [
    "import semantic_drift\n",
    "model_dists = [semantic_drift.l2_distance(init_model, m) for m in model1_list]"
   ]
  },
  {
   "cell_type": "code",
   "execution_count": 32,
   "metadata": {},
   "outputs": [
    {
     "data": {
      "text/plain": [
       "[2.5830233,\n",
       " 2.9368436,\n",
       " 3.1812587,\n",
       " 3.383652,\n",
       " 3.557348,\n",
       " 3.7213564,\n",
       " 3.8703682,\n",
       " 4.0124927,\n",
       " 4.1450624]"
      ]
     },
     "execution_count": 32,
     "metadata": {},
     "output_type": "execute_result"
    }
   ],
   "source": [
    "model_dists"
   ]
  },
  {
   "cell_type": "markdown",
   "metadata": {},
   "source": [
    "### Aggregate models (all of model1s and only the final model2(e=50))"
   ]
  },
  {
   "cell_type": "code",
   "execution_count": 33,
   "metadata": {},
   "outputs": [],
   "source": [
    "agg_weights_list_per_pi = list()\n",
    "theta_list = [0, 0.5, 1]\n",
    "for m1 in model1_list:\n",
    "    weights = [m1.get_weights(), model2.get_weights()]\n",
    "    agg_weights_list = list()\n",
    "    for theta in theta_list:\n",
    "        agg_weights = list()\n",
    "        for weights_list_tuple in zip(*weights):\n",
    "            agg_weights.append(np.array([np.average(np.array(w), axis=0, weights=[1. - theta, theta]) for w in zip(*weights_list_tuple)]))\n",
    "        agg_weights_list.append(agg_weights)\n",
    "    agg_weights_list_per_pi.append(agg_weights_list)"
   ]
  },
  {
   "cell_type": "code",
   "execution_count": 34,
   "metadata": {},
   "outputs": [
    {
     "name": "stdout",
     "output_type": "stream",
     "text": [
      "10000/10000 [==============================] - 0s 26us/sample - loss: 0.0903 - acc: 0.4744\n"
     ]
    },
    {
     "data": {
      "text/plain": [
       "[0.09026499528884888, 0.4744]"
      ]
     },
     "execution_count": 34,
     "metadata": {},
     "output_type": "execute_result"
    }
   ],
   "source": [
    "model2.evaluate(x=x_test, y=y_test, verbose=1)"
   ]
  },
  {
   "cell_type": "code",
   "execution_count": null,
   "metadata": {},
   "outputs": [],
   "source": []
  },
  {
   "cell_type": "code",
   "execution_count": 35,
   "metadata": {},
   "outputs": [],
   "source": [
    "B = np.zeros(len(agg_weights_list_per_pi))\n",
    "A = np.zeros(len(agg_weights_list_per_pi))\n",
    "\n",
    "losses1 = list()\n",
    "accs1 = list()\n",
    "losses2 = list()\n",
    "accs2 = list()\n",
    "agg_accs = list()\n",
    "acc_losses = list()\n",
    "\n",
    "i = 0\n",
    "for agg_weights_list in agg_weights_list_per_pi:\n",
    "\n",
    "    aggr_model = keras.models.clone_model(model1)\n",
    "    aggr_model.set_weights(agg_weights_list[1])\n",
    "    compile_model(aggr_model)\n",
    "    score = aggr_model.evaluate(x=x_test, y=y_test, verbose=0)\n",
    "\n",
    "    aggr_model = keras.models.clone_model(model1)\n",
    "    aggr_model.set_weights(agg_weights_list[0])\n",
    "    compile_model(aggr_model)\n",
    "    comp_score1 = aggr_model.evaluate(x=x_test, y=y_test, verbose=0)\n",
    "\n",
    "    aggr_model = keras.models.clone_model(model1)\n",
    "    aggr_model.set_weights(agg_weights_list[2])\n",
    "    compile_model(aggr_model)\n",
    "    comp_score2 = aggr_model.evaluate(x=x_test, y=y_test, verbose=0)\n",
    "    \n",
    "    acc_losses.append(score[0])\n",
    "    agg_accs.append(score[1])\n",
    "    losses1.append(comp_score1[0])\n",
    "    accs1.append(comp_score1[1])\n",
    "    losses2.append(comp_score2[0])\n",
    "    accs2.append(comp_score2[1])\n",
    "    \n",
    "    B[i] = min(comp_score1[0], comp_score2[0]) - score[0]\n",
    "    A[i] = score[1] - max(comp_score1[1], comp_score2[1])\n",
    "    K.clear_session() #prevent memory leak https://github.com/keras-team/keras/issues/13118\n",
    "    i += 1\n",
    "    if i % 10 == 0:\n",
    "        print(\"{}th iteration\".format(i))"
   ]
  },
  {
   "cell_type": "code",
   "execution_count": 36,
   "metadata": {},
   "outputs": [
    {
     "data": {
      "image/png": "[encoded data removed]",
      "text/plain": [
       "<Figure size 432x288 with 1 Axes>"
      ]
     },
     "metadata": {
      "needs_background": "light"
     },
     "output_type": "display_data"
    }
   ],
   "source": [
    "import matplotlib as plot\n",
    "plt.plot(np.array(model_dists), np.array(acc_losses))\n",
    "plt.plot(np.array(model_dists), np.array(losses1))\n",
    "plt.plot(np.array(model_dists), np.array(losses2))\n",
    "plt.legend([\"aggregated\", \"model seq. w. 0 ~ 4\", \"model w. 5 ~ 9\"])\n",
    "plt.title(\"loss - all labels\")\n",
    "plt.ylabel(\"loss\")\n",
    "plt.xlabel(\"l2 distance\")\n",
    "plt.show()"
   ]
  },
  {
   "cell_type": "code",
   "execution_count": 37,
   "metadata": {},
   "outputs": [
    {
     "data": {
      "image/png": "[encoded data removed]",
      "text/plain": [
       "<Figure size 432x288 with 1 Axes>"
      ]
     },
     "metadata": {
      "needs_background": "light"
     },
     "output_type": "display_data"
    }
   ],
   "source": [
    "import matplotlib as plot\n",
    "plt.plot(np.array(model_dists), np.array(B))\n",
    "plt.ylabel(\"aggregation benefit in loss\")\n",
    "plt.xlabel(\"l2 distance\")\n",
    "plt.show()"
   ]
  },
  {
   "cell_type": "code",
   "execution_count": 67,
   "metadata": {},
   "outputs": [
    {
     "data": {
      "image/png": "[encoded data removed]",
      "text/plain": [
       "<Figure size 432x288 with 1 Axes>"
      ]
     },
     "metadata": {
      "needs_background": "light"
     },
     "output_type": "display_data"
    }
   ],
   "source": [
    "plt.plot(np.array(model_dists), np.array(agg_accs))\n",
    "plt.plot(np.array(model_dists), np.array(accs1))\n",
    "plt.plot(np.array(model_dists), np.array(accs2))\n",
    "plt.legend([\"aggregated\", \"model seq. w. 0 ~ 4\", \"model w. 5 ~ 9\"])\n",
    "plt.title(\"acc - all labels\")\n",
    "plt.ylabel(\"acc\")\n",
    "plt.xlabel(\"l2 distance\")\n",
    "plt.show()"
   ]
  },
  {
   "cell_type": "code",
   "execution_count": 64,
   "metadata": {},
   "outputs": [
    {
     "data": {
      "image/png": "[encoded data removed]",
      "text/plain": [
       "<Figure size 432x288 with 1 Axes>"
      ]
     },
     "metadata": {
      "needs_background": "light"
     },
     "output_type": "display_data"
    }
   ],
   "source": [
    "plt.plot(np.array(model_dists), np.array(A))\n",
    "plt.ylabel(\"aggregation benefit in acc\")\n",
    "plt.xlabel(\"l2 distance\")\n",
    "plt.show()"
   ]
  },
  {
   "cell_type": "code",
   "execution_count": 68,
   "metadata": {},
   "outputs": [],
   "source": [
    "B = np.zeros(len(agg_weights_list_per_pi))\n",
    "A = np.zeros(len(agg_weights_list_per_pi))\n",
    "\n",
    "losses1 = list()\n",
    "accs1 = list()\n",
    "losses2 = list()\n",
    "accs2 = list()\n",
    "agg_accs = list()\n",
    "acc_losses = list()\n",
    "\n",
    "i = 0\n",
    "for agg_weights_list in agg_weights_list_per_pi:\n",
    "\n",
    "    aggr_model = keras.models.clone_model(model1)\n",
    "    aggr_model.set_weights(agg_weights_list[1])\n",
    "    compile_model(aggr_model)\n",
    "    score = aggr_model.evaluate(x=x_test_5_to_9, y=y_test_5_to_9, verbose=0)\n",
    "\n",
    "    aggr_model = keras.models.clone_model(model1)\n",
    "    aggr_model.set_weights(agg_weights_list[0])\n",
    "    compile_model(aggr_model)\n",
    "    comp_score1 = aggr_model.evaluate(x=x_test_5_to_9, y=y_test_5_to_9, verbose=0)\n",
    "\n",
    "    aggr_model = keras.models.clone_model(model1)\n",
    "    aggr_model.set_weights(agg_weights_list[2])\n",
    "    compile_model(aggr_model)\n",
    "    comp_score2 = aggr_model.evaluate(x=x_test_5_to_9, y=y_test_5_to_9, verbose=0)\n",
    "    \n",
    "    acc_losses.append(score[0])\n",
    "    agg_accs.append(score[1])\n",
    "    losses1.append(comp_score1[0])\n",
    "    accs1.append(comp_score1[1])\n",
    "    losses2.append(comp_score2[0])\n",
    "    accs2.append(comp_score2[1])\n",
    "    \n",
    "    B[i] = min(comp_score1[0], comp_score2[0]) - score[0]\n",
    "    A[i] = score[1] - max(comp_score1[1], comp_score2[1])\n",
    "    K.clear_session() #prevent memory leak https://github.com/keras-team/keras/issues/13118\n",
    "    i += 1\n",
    "    if i % 10 == 0:\n",
    "        print(\"{}th iteration\".format(i))"
   ]
  },
  {
   "cell_type": "code",
   "execution_count": 69,
   "metadata": {},
   "outputs": [
    {
     "data": {
      "image/png": "[encoded data removed]",
      "text/plain": [
       "<Figure size 432x288 with 1 Axes>"
      ]
     },
     "metadata": {
      "needs_background": "light"
     },
     "output_type": "display_data"
    }
   ],
   "source": [
    "plt.plot(np.array(model_dists), np.array(acc_losses))\n",
    "plt.plot(np.array(model_dists), np.array(losses1))\n",
    "plt.plot(np.array(model_dists), np.array(losses2))\n",
    "plt.legend([\"aggregated\", \"model seq. w. 0 ~ 4\", \"model w. 5 ~ 9\"])\n",
    "plt.title(\"loss - from label 5 to 9\")\n",
    "plt.ylabel(\"loss\")\n",
    "plt.xlabel(\"l2 distance\")\n",
    "plt.show()"
   ]
  },
  {
   "cell_type": "code",
   "execution_count": 70,
   "metadata": {},
   "outputs": [
    {
     "data": {
      "image/png": "[encoded data removed]",
      "text/plain": [
       "<Figure size 432x288 with 1 Axes>"
      ]
     },
     "metadata": {
      "needs_background": "light"
     },
     "output_type": "display_data"
    }
   ],
   "source": [
    "plt.plot(np.array(model_dists), np.array(agg_accs))\n",
    "plt.plot(np.array(model_dists), np.array(accs1))\n",
    "plt.plot(np.array(model_dists), np.array(accs2))\n",
    "plt.legend([\"aggregated\", \"model seq. w. 0 ~ 4\", \"model w. 5 ~ 9\"])\n",
    "plt.title(\"acc - from label 5 to 9\")\n",
    "plt.ylabel(\"acc\")\n",
    "plt.xlabel(\"l2 distance\")\n",
    "plt.show()"
   ]
  },
  {
   "cell_type": "code",
   "execution_count": null,
   "metadata": {},
   "outputs": [],
   "source": []
  }
 ],
 "metadata": {
  "colab": {
   "name": "personalized.ipynb",
   "provenance": [],
   "version": "0.3.2"
  },
  "kernelspec": {
   "display_name": "Python 3",
   "language": "python",
   "name": "python3"
  },
  "language_info": {
   "codemirror_mode": {
    "name": "ipython",
    "version": 3
   },
   "file_extension": ".py",
   "mimetype": "text/x-python",
   "name": "python",
   "nbconvert_exporter": "python",
   "pygments_lexer": "ipython3",
   "version": "3.6.9"
  }
 },
 "nbformat": 4,
 "nbformat_minor": 1
}
