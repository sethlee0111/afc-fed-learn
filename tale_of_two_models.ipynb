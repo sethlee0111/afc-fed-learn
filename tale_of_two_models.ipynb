{
 "cells": [
  {
   "cell_type": "markdown",
   "metadata": {
    "colab_type": "text",
    "id": "d6n47ueeqbXb"
   },
   "source": [
    "## Personalized Learning (Localized Learning?)\n",
    "\n",
    "#### This notebook includes the following online models;\n",
    "1. A single global model with all data\n",
    "2. Multiple local models (starting from a single global model)\n",
    "   1. that are updated with new data\n",
    "   2. that exchanges data in clusters\n",
    "   3. that exchanges parameters in clusters\n",
    "\n",
    "  \n",
    "#### The dataset that is used for this project is [CIFAR-100 dataset][1]\n",
    "* Has 100 classes containing 600 images each\n",
    "\n",
    "#### New data are fed by the following rules;\n",
    "1. Distributed, according to superclasses\n",
    "  * Clusters will only be updated with data that belongs to a specific superclass\n",
    "  * We update the NN by\n",
    "    1. Changing all parameters of the NN\n",
    "    2. Only changing the last few layers, as in many MTL models\n",
    "2. Randomly (why?)\n",
    "\n",
    "#### We expect to find an answer to the following research questions with this project;\n",
    "1. If models are updated with data (or parameters) that are shared within a cluster, can the model perform good enough with the labels that count?\n",
    "  * For example, the performance of the cluster that are updated with \"Vehicles\" superclass is only assessed with the labels that corresponds to the superclass.\n",
    "  \n",
    "[1]: https://www.cs.toronto.edu/~kriz/cifar.html"
   ]
  },
  {
   "cell_type": "markdown",
   "metadata": {
    "colab_type": "text",
    "id": "Oji0BTfoqbXc"
   },
   "source": [
    "#### Questions\n",
    "\n",
    "Retraining: how does it work <br>\n",
    "How do we compare these models?\n"
   ]
  },
  {
   "cell_type": "markdown",
   "metadata": {
    "colab_type": "text",
    "id": "mr4-uY0LqbXd"
   },
   "source": [
    "### Implementation with Custom Neural Network and MNIST dataset"
   ]
  },
  {
   "cell_type": "code",
   "execution_count": 1,
   "metadata": {},
   "outputs": [],
   "source": [
    "%load_ext tensorboard"
   ]
  },
  {
   "cell_type": "code",
   "execution_count": 2,
   "metadata": {
    "colab": {
     "base_uri": "https://localhost:8080/",
     "height": 34
    },
    "colab_type": "code",
    "id": "tGoXLnOyqbXe",
    "outputId": "9ccd7215-80bf-4a0a-b852-8896b17c38f1",
    "scrolled": true
   },
   "outputs": [],
   "source": [
    "from __future__ import print_function\n",
    "import tensorflow.keras as keras\n",
    "from tensorflow.keras.datasets import mnist\n",
    "from tensorflow.keras.models import Sequential\n",
    "from tensorflow.keras.layers import Dense, Dropout, Flatten\n",
    "from tensorflow.keras.layers import Conv2D, MaxPooling2D\n",
    "from tensorflow.keras import backend as K"
   ]
  },
  {
   "cell_type": "code",
   "execution_count": 3,
   "metadata": {},
   "outputs": [],
   "source": [
    "import datetime\n",
    "import numpy as np\n",
    "import matplotlib.pyplot as plt\n",
    "import seaborn as sns\n",
    "import matplotlib.lines as mlines"
   ]
  },
  {
   "cell_type": "code",
   "execution_count": 4,
   "metadata": {},
   "outputs": [],
   "source": [
    "import tensorflow as tf\n",
    "log_dir = \"logs/fit/\" + datetime.datetime.now().strftime(\"%Y%m%d-%H%M%S\")\n",
    "tensorboard_callback = tf.keras.callbacks.TensorBoard(log_dir=log_dir, histogram_freq=1)"
   ]
  },
  {
   "cell_type": "code",
   "execution_count": 5,
   "metadata": {
    "colab": {},
    "colab_type": "code",
    "id": "E2faBs1yqbXj"
   },
   "outputs": [],
   "source": [
    "# Hyperparameters\n",
    "batch_size = 128\n",
    "num_classes = 10\n",
    "epochs = 12\n",
    "\n",
    "# input image dimensions\n",
    "img_rows, img_cols = 28, 28"
   ]
  },
  {
   "cell_type": "markdown",
   "metadata": {
    "colab_type": "text",
    "id": "QXfylSWLqbXl"
   },
   "source": [
    "#### Load MNIST dataset"
   ]
  },
  {
   "cell_type": "code",
   "execution_count": 6,
   "metadata": {
    "colab": {
     "base_uri": "https://localhost:8080/",
     "height": 102
    },
    "colab_type": "code",
    "id": "V7iMvdGXqbXm",
    "outputId": "875da8c3-28b0-48cc-da41-b2d91add5cb3"
   },
   "outputs": [],
   "source": [
    "# the data, split between train and test sets\n",
    "(x_train, y_train), (x_test, y_test) = mnist.load_data()"
   ]
  },
  {
   "cell_type": "code",
   "execution_count": 7,
   "metadata": {},
   "outputs": [],
   "source": [
    "if K.image_data_format() == 'channels_first':\n",
    "    x_train = x_train.reshape(x_train.shape[0], 1, img_rows, img_cols)\n",
    "    x_test = x_test.reshape(x_test.shape[0], 1, img_rows, img_cols)\n",
    "    input_shape = (1, img_rows, img_cols)\n",
    "else:\n",
    "    x_train = x_train.reshape(x_train.shape[0], img_rows, img_cols, 1)\n",
    "    x_test = x_test.reshape(x_test.shape[0], img_rows, img_cols, 1)\n",
    "    input_shape = (img_rows, img_cols, 1)"
   ]
  },
  {
   "cell_type": "code",
   "execution_count": 8,
   "metadata": {},
   "outputs": [],
   "source": [
    "x_train = x_train.astype('float32')\n",
    "x_test = x_test.astype('float32')\n",
    "x_train /= 255\n",
    "x_test /= 255"
   ]
  },
  {
   "cell_type": "code",
   "execution_count": 9,
   "metadata": {},
   "outputs": [],
   "source": [
    "x_train1 = x_train[-30000:]\n",
    "y_train1 = y_train[-30000:]\n",
    "x_train2 = x_train[:-30000]\n",
    "y_train2 = y_train[:-30000]"
   ]
  },
  {
   "cell_type": "code",
   "execution_count": 10,
   "metadata": {},
   "outputs": [],
   "source": [
    "# Reserve 10,000 samples for validation\n",
    "x_val1 = x_train1[-5000:]\n",
    "y_val1 = y_train1[-5000:]\n",
    "x_train1 = x_train1[:-5000]\n",
    "y_train1 = y_train1[:-5000]\n",
    "\n",
    "x_val2 = x_train2[-5000:]\n",
    "y_val2 = y_train2[-5000:]\n",
    "x_train2 = x_train2[:-5000]\n",
    "y_train2 = y_train2[:-5000]"
   ]
  },
  {
   "cell_type": "code",
   "execution_count": 11,
   "metadata": {},
   "outputs": [
    {
     "name": "stdout",
     "output_type": "stream",
     "text": [
      "x_train shape: (25000, 28, 28, 1)\n",
      "25000 train samples\n",
      "10000 test samples\n"
     ]
    }
   ],
   "source": [
    "print('x_train shape:', x_train1.shape)\n",
    "print(x_train1.shape[0], 'train samples')\n",
    "print(x_test.shape[0], 'test samples')"
   ]
  },
  {
   "cell_type": "code",
   "execution_count": 12,
   "metadata": {},
   "outputs": [],
   "source": [
    "# convert class vectors to binary class matrices\n",
    "y_train1 = keras.utils.to_categorical(y_train1, num_classes)\n",
    "y_val1 = keras.utils.to_categorical(y_val1, num_classes)\n",
    "y_train2 = keras.utils.to_categorical(y_train2, num_classes)\n",
    "y_val2 = keras.utils.to_categorical(y_val2, num_classes)\n",
    "y_test = keras.utils.to_categorical(y_test, num_classes)"
   ]
  },
  {
   "cell_type": "markdown",
   "metadata": {},
   "source": [
    "### Define models and compile & fit function"
   ]
  },
  {
   "cell_type": "code",
   "execution_count": 13,
   "metadata": {},
   "outputs": [],
   "source": [
    "def custom_model():\n",
    "    model = Sequential()\n",
    "    model.add(Conv2D(32, kernel_size=(3, 3),\n",
    "                     activation='relu',\n",
    "                     input_shape=input_shape))\n",
    "    model.add(Conv2D(64, (3, 3), activation='relu'))\n",
    "    model.add(MaxPooling2D(pool_size=(2, 2)))\n",
    "#     model.add(Dropout(0.25))\n",
    "    model.add(Flatten())\n",
    "    model.add(Dense(128, activation='relu'))\n",
    "#     model.add(Dropout(0.5))\n",
    "    model.add(Dense(num_classes, activation='softmax'))\n",
    "    return model"
   ]
  },
  {
   "cell_type": "code",
   "execution_count": 14,
   "metadata": {},
   "outputs": [],
   "source": [
    "def compile_model(model):  \n",
    "    # initiate SGD optimizer\n",
    "    opt = keras.optimizers.SGD(lr=0.01, decay=1e-6, momentum=0.9, nesterov=True)\n",
    "    model.compile(loss='mean_squared_error', optimizer=opt, metrics=['accuracy'])"
   ]
  },
  {
   "cell_type": "code",
   "execution_count": 15,
   "metadata": {},
   "outputs": [],
   "source": [
    "def compile_model_lr(model):  \n",
    "    # initiate SGD optimizer\n",
    "    opt = keras.optimizers.SGD(lr=lr, decay=1e-6, momentum=0.9, nesterov=True)\n",
    "    model.compile(loss='mean_squared_error', optimizer=opt, metrics=['accuracy'])"
   ]
  },
  {
   "cell_type": "code",
   "execution_count": 16,
   "metadata": {},
   "outputs": [],
   "source": [
    "def fit_model1(model, epochs):\n",
    "    now = datetime.datetime.now()\n",
    "    print (\"Training date and time : \")\n",
    "    print (now.strftime(\"%Y-%m-%d %H:%M:%S\"))\n",
    "    return model.fit(x_train1, y_train1,\n",
    "                      batch_size=batch_size,\n",
    "                      epochs=epochs,\n",
    "                      validation_data=(x_val1, y_val1),\n",
    "                      shuffle=True, callbacks=[tensorboard_callback])"
   ]
  },
  {
   "cell_type": "code",
   "execution_count": 17,
   "metadata": {},
   "outputs": [],
   "source": [
    "def fit_model2(model, epochs):\n",
    "    now = datetime.datetime.now()\n",
    "    print (\"Training date and time : \")\n",
    "    print (now.strftime(\"%Y-%m-%d %H:%M:%S\"))\n",
    "    return model.fit(x_train2, y_train2,\n",
    "                      batch_size=batch_size,\n",
    "                      epochs=epochs,\n",
    "                      validation_data=(x_val2, y_val2),\n",
    "                      shuffle=True, callbacks=[tensorboard_callback])"
   ]
  },
  {
   "cell_type": "code",
   "execution_count": 37,
   "metadata": {},
   "outputs": [],
   "source": [
    "model1 = custom_model()\n",
    "model2 = tf.keras.models.clone_model(model1)\n",
    "model2.set_weights(model1.get_weights())"
   ]
  },
  {
   "cell_type": "code",
   "execution_count": 38,
   "metadata": {},
   "outputs": [
    {
     "name": "stdout",
     "output_type": "stream",
     "text": [
      "Model: \"sequential_1\"\n",
      "_________________________________________________________________\n",
      "Layer (type)                 Output Shape              Param #   \n",
      "=================================================================\n",
      "conv2d_2 (Conv2D)            (None, 26, 26, 32)        320       \n",
      "_________________________________________________________________\n",
      "conv2d_3 (Conv2D)            (None, 24, 24, 64)        18496     \n",
      "_________________________________________________________________\n",
      "max_pooling2d_1 (MaxPooling2 (None, 12, 12, 64)        0         \n",
      "_________________________________________________________________\n",
      "flatten_1 (Flatten)          (None, 9216)              0         \n",
      "_________________________________________________________________\n",
      "dense_2 (Dense)              (None, 128)               1179776   \n",
      "_________________________________________________________________\n",
      "dense_3 (Dense)              (None, 10)                1290      \n",
      "=================================================================\n",
      "Total params: 1,199,882\n",
      "Trainable params: 1,199,882\n",
      "Non-trainable params: 0\n",
      "_________________________________________________________________\n"
     ]
    }
   ],
   "source": [
    "model1.summary()"
   ]
  },
  {
   "cell_type": "code",
   "execution_count": 39,
   "metadata": {},
   "outputs": [
    {
     "name": "stdout",
     "output_type": "stream",
     "text": [
      "Training date and time : \n",
      "2020-03-04 13:44:36\n",
      "Train on 25000 samples, validate on 5000 samples\n",
      "Epoch 1/10\n",
      "25000/25000 [==============================] - 21s 837us/sample - loss: 0.0886 - accuracy: 0.2436 - val_loss: 0.0853 - val_accuracy: 0.4654\n",
      "Epoch 2/10\n",
      "25000/25000 [==============================] - 23s 901us/sample - loss: 0.0673 - accuracy: 0.5952 - val_loss: 0.0353 - val_accuracy: 0.7848\n",
      "Epoch 3/10\n",
      "25000/25000 [==============================] - 24s 952us/sample - loss: 0.0262 - accuracy: 0.8368 - val_loss: 0.0139 - val_accuracy: 0.9192\n",
      "Epoch 4/10\n",
      "25000/25000 [==============================] - 23s 936us/sample - loss: 0.0170 - accuracy: 0.8912 - val_loss: 0.0113 - val_accuracy: 0.9284\n",
      "Epoch 5/10\n",
      "25000/25000 [==============================] - 21s 851us/sample - loss: 0.0150 - accuracy: 0.9042 - val_loss: 0.0106 - val_accuracy: 0.9310\n",
      "Epoch 6/10\n",
      "25000/25000 [==============================] - 21s 858us/sample - loss: 0.0137 - accuracy: 0.9116 - val_loss: 0.0095 - val_accuracy: 0.9368\n",
      "Epoch 7/10\n",
      "25000/25000 [==============================] - 22s 864us/sample - loss: 0.0127 - accuracy: 0.9172 - val_loss: 0.0091 - val_accuracy: 0.9420\n",
      "Epoch 8/10\n",
      "25000/25000 [==============================] - 21s 849us/sample - loss: 0.0119 - accuracy: 0.9233 - val_loss: 0.0087 - val_accuracy: 0.9448\n",
      "Epoch 9/10\n",
      "25000/25000 [==============================] - 22s 863us/sample - loss: 0.0112 - accuracy: 0.9294 - val_loss: 0.0079 - val_accuracy: 0.9494\n",
      "Epoch 10/10\n",
      "25000/25000 [==============================] - 23s 902us/sample - loss: 0.0106 - accuracy: 0.9328 - val_loss: 0.0078 - val_accuracy: 0.9496\n"
     ]
    },
    {
     "data": {
      "text/plain": [
       "<tensorflow.python.keras.callbacks.History at 0x1671870b8>"
      ]
     },
     "execution_count": 39,
     "metadata": {},
     "output_type": "execute_result"
    }
   ],
   "source": [
    "compile_model(model1)\n",
    "fit_model1(model1, 10)"
   ]
  },
  {
   "cell_type": "code",
   "execution_count": 40,
   "metadata": {},
   "outputs": [
    {
     "name": "stdout",
     "output_type": "stream",
     "text": [
      "Training date and time : \n",
      "2020-03-04 13:48:16\n",
      "Train on 25000 samples, validate on 5000 samples\n",
      "Epoch 1/10\n",
      "25000/25000 [==============================] - 22s 864us/sample - loss: 0.0885 - accuracy: 0.2449 - val_loss: 0.0852 - val_accuracy: 0.4118\n",
      "Epoch 2/10\n",
      "25000/25000 [==============================] - 21s 827us/sample - loss: 0.0649 - accuracy: 0.5993 - val_loss: 0.0378 - val_accuracy: 0.7532\n",
      "Epoch 3/10\n",
      "25000/25000 [==============================] - 20s 809us/sample - loss: 0.0244 - accuracy: 0.8503 - val_loss: 0.0180 - val_accuracy: 0.8878\n",
      "Epoch 4/10\n",
      "25000/25000 [==============================] - 21s 840us/sample - loss: 0.0161 - accuracy: 0.8990 - val_loss: 0.0154 - val_accuracy: 0.9020\n",
      "Epoch 5/10\n",
      "25000/25000 [==============================] - 21s 854us/sample - loss: 0.0140 - accuracy: 0.9112 - val_loss: 0.0138 - val_accuracy: 0.9094\n",
      "Epoch 6/10\n",
      "25000/25000 [==============================] - 21s 847us/sample - loss: 0.0127 - accuracy: 0.9185 - val_loss: 0.0130 - val_accuracy: 0.9144\n",
      "Epoch 7/10\n",
      "25000/25000 [==============================] - 21s 843us/sample - loss: 0.0119 - accuracy: 0.9249 - val_loss: 0.0125 - val_accuracy: 0.9168\n",
      "Epoch 8/10\n",
      "25000/25000 [==============================] - 22s 865us/sample - loss: 0.0112 - accuracy: 0.9295 - val_loss: 0.0118 - val_accuracy: 0.9220\n",
      "Epoch 9/10\n",
      "25000/25000 [==============================] - 21s 847us/sample - loss: 0.0106 - accuracy: 0.9328 - val_loss: 0.0114 - val_accuracy: 0.9252\n",
      "Epoch 10/10\n",
      "25000/25000 [==============================] - 21s 825us/sample - loss: 0.0100 - accuracy: 0.9363 - val_loss: 0.0111 - val_accuracy: 0.9258\n"
     ]
    },
    {
     "data": {
      "text/plain": [
       "<tensorflow.python.keras.callbacks.History at 0x1650500b8>"
      ]
     },
     "execution_count": 40,
     "metadata": {},
     "output_type": "execute_result"
    }
   ],
   "source": [
    "compile_model(model2)\n",
    "fit_model2(model2, 10)"
   ]
  },
  {
   "cell_type": "code",
   "execution_count": 47,
   "metadata": {},
   "outputs": [],
   "source": [
    "import numpy as np\n",
    "theta_list = list(np.arange(0, 1.05, 0.05))"
   ]
  },
  {
   "cell_type": "code",
   "execution_count": 48,
   "metadata": {},
   "outputs": [],
   "source": [
    "agg_weights = list()"
   ]
  },
  {
   "cell_type": "code",
   "execution_count": 49,
   "metadata": {},
   "outputs": [],
   "source": [
    "weights = [model1.get_weights(), model2.get_weights()]\n",
    "agg_weights_list = list()\n",
    "for theta in theta_list:\n",
    "    agg_weights = list()\n",
    "    for weights_list_tuple in zip(*weights):\n",
    "        agg_weights.append(np.array([np.average(np.array(w), axis=0, weights=[1. - theta, theta]) for w in zip(*weights_list_tuple)]))\n",
    "    agg_weights_list.append(agg_weights)"
   ]
  },
  {
   "cell_type": "code",
   "execution_count": 44,
   "metadata": {},
   "outputs": [
    {
     "name": "stdout",
     "output_type": "stream",
     "text": [
      "10000/10000 [==============================] - 2s 154us/sample - loss: 0.0099 - accuracy: 0.9378\n",
      "10000/10000 [==============================] - 1s 147us/sample - loss: 0.0098 - accuracy: 0.9379\n",
      "10000/10000 [==============================] - 2s 160us/sample - loss: 0.0098 - accuracy: 0.9382\n",
      "10000/10000 [==============================] - 2s 154us/sample - loss: 0.0097 - accuracy: 0.9379\n",
      "10000/10000 [==============================] - 1s 147us/sample - loss: 0.0097 - accuracy: 0.9378\n",
      "10000/10000 [==============================] - 1s 149us/sample - loss: 0.0097 - accuracy: 0.9379\n",
      "10000/10000 [==============================] - 2s 154us/sample - loss: 0.0096 - accuracy: 0.9379\n",
      "10000/10000 [==============================] - 2s 156us/sample - loss: 0.0096 - accuracy: 0.9380\n",
      "10000/10000 [==============================] - 2s 160us/sample - loss: 0.0096 - accuracy: 0.9382\n",
      "10000/10000 [==============================] - 2s 167us/sample - loss: 0.0096 - accuracy: 0.9384\n",
      "10000/10000 [==============================] - 2s 166us/sample - loss: 0.0096 - accuracy: 0.9388\n",
      "10000/10000 [==============================] - 2s 162us/sample - loss: 0.0096 - accuracy: 0.9384\n",
      "10000/10000 [==============================] - 2s 166us/sample - loss: 0.0096 - accuracy: 0.9382\n",
      "10000/10000 [==============================] - 2s 156us/sample - loss: 0.0096 - accuracy: 0.9385\n",
      "10000/10000 [==============================] - 2s 158us/sample - loss: 0.0096 - accuracy: 0.9387\n",
      "10000/10000 [==============================] - 2s 160us/sample - loss: 0.0097 - accuracy: 0.9383\n",
      "10000/10000 [==============================] - 2s 164us/sample - loss: 0.0097 - accuracy: 0.9377\n",
      "10000/10000 [==============================] - 2s 163us/sample - loss: 0.0098 - accuracy: 0.9378\n",
      "10000/10000 [==============================] - 2s 164us/sample - loss: 0.0098 - accuracy: 0.9379\n",
      "10000/10000 [==============================] - 2s 153us/sample - loss: 0.0099 - accuracy: 0.9373\n",
      "10000/10000 [==============================] - 2s 159us/sample - loss: 0.0100 - accuracy: 0.9374\n"
     ]
    }
   ],
   "source": [
    "scores = list()\n",
    "for agg_weights in agg_weights_list:\n",
    "    aggr_model = keras.models.clone_model(model1)\n",
    "    aggr_model.set_weights(agg_weights)\n",
    "    compile_model(aggr_model)\n",
    "    scores.append(aggr_model.evaluate(x_test, y_test));"
   ]
  },
  {
   "cell_type": "code",
   "execution_count": 45,
   "metadata": {},
   "outputs": [
    {
     "data": {
      "text/plain": [
       "[[0.009890898557472974, 0.9378],\n",
       " [0.009834034765185788, 0.9379],\n",
       " [0.009783718757657335, 0.9382],\n",
       " [0.00974072741267737, 0.9379],\n",
       " [0.00970450523546897, 0.9378],\n",
       " [0.00967449641682906, 0.9379],\n",
       " [0.009649169192684348, 0.9379],\n",
       " [0.009628829794190824, 0.938],\n",
       " [0.009614439655048773, 0.9382],\n",
       " [0.00960684694951633, 0.9384],\n",
       " [0.00960380956933368, 0.9388],\n",
       " [0.009605669262364972, 0.9384],\n",
       " [0.009612580286897718, 0.9382],\n",
       " [0.009625677241734229, 0.9385],\n",
       " [0.009645618424343411, 0.9387],\n",
       " [0.009672319525270723, 0.9383],\n",
       " [0.009709714310162236, 0.9377],\n",
       " [0.009757346639316529, 0.9378],\n",
       " [0.009815173924923875, 0.9379],\n",
       " [0.009882935781846755, 0.9373],\n",
       " [0.009961150336975698, 0.9374]]"
      ]
     },
     "execution_count": 45,
     "metadata": {},
     "output_type": "execute_result"
    }
   ],
   "source": [
    "scores"
   ]
  },
  {
   "cell_type": "code",
   "execution_count": 46,
   "metadata": {},
   "outputs": [
    {
     "data": {
      "image/png": "[encoded data removed]",
      "text/plain": [
       "<Figure size 432x288 with 1 Axes>"
      ]
     },
     "metadata": {
      "needs_background": "light"
     },
     "output_type": "display_data"
    }
   ],
   "source": [
    "import matplotlib.pyplot as plt\n",
    "plt.plot(theta_list, [score[0] for score in scores])\n",
    "plt.xlabel(r'$\\theta$ for model-1')\n",
    "plt.ylabel('loss')\n",
    "plt.show()"
   ]
  },
  {
   "cell_type": "markdown",
   "metadata": {},
   "source": [
    "### backup results"
   ]
  },
  {
   "cell_type": "code",
   "execution_count": null,
   "metadata": {},
   "outputs": [],
   "source": [
    "%tensorboard --logdir logs"
   ]
  },
  {
   "cell_type": "code",
   "execution_count": null,
   "metadata": {},
   "outputs": [],
   "source": [
    "a = 2"
   ]
  },
  {
   "cell_type": "markdown",
   "metadata": {},
   "source": [
    "## @TODO Experiment with pretrained model"
   ]
  },
  {
   "cell_type": "code",
   "execution_count": 159,
   "metadata": {},
   "outputs": [],
   "source": [
    "pretrained_model1 = tf.keras.models.clone_model(model1)\n",
    "pretrained_model2 = tf.keras.models.clone_model(model1)"
   ]
  },
  {
   "cell_type": "markdown",
   "metadata": {},
   "source": [
    "## Sufficiently over-parameterized model"
   ]
  },
  {
   "cell_type": "code",
   "execution_count": 162,
   "metadata": {},
   "outputs": [
    {
     "ename": "ValueError",
     "evalue": "Input size must be at least 32x32; got `input_shape=(28, 28, 1)`",
     "output_type": "error",
     "traceback": [
      "\u001b[0;31m---------------------------------------------------------------------------\u001b[0m",
      "\u001b[0;31mValueError\u001b[0m                                Traceback (most recent call last)",
      "\u001b[0;32m<ipython-input-162-f64423c8ada9>\u001b[0m in \u001b[0;36m<module>\u001b[0;34m\u001b[0m\n\u001b[0;32m----> 1\u001b[0;31m \u001b[0mvgg1\u001b[0m \u001b[0;34m=\u001b[0m \u001b[0mkeras\u001b[0m\u001b[0;34m.\u001b[0m\u001b[0mapplications\u001b[0m\u001b[0;34m.\u001b[0m\u001b[0mvgg16\u001b[0m\u001b[0;34m.\u001b[0m\u001b[0mVGG16\u001b[0m\u001b[0;34m(\u001b[0m\u001b[0minclude_top\u001b[0m\u001b[0;34m=\u001b[0m\u001b[0;32mFalse\u001b[0m\u001b[0;34m,\u001b[0m \u001b[0mweights\u001b[0m\u001b[0;34m=\u001b[0m\u001b[0;32mNone\u001b[0m\u001b[0;34m,\u001b[0m \u001b[0minput_tensor\u001b[0m\u001b[0;34m=\u001b[0m\u001b[0;32mNone\u001b[0m\u001b[0;34m,\u001b[0m \u001b[0minput_shape\u001b[0m\u001b[0;34m=\u001b[0m\u001b[0;34m(\u001b[0m\u001b[0;36m28\u001b[0m\u001b[0;34m,\u001b[0m\u001b[0;36m28\u001b[0m\u001b[0;34m,\u001b[0m\u001b[0;36m1\u001b[0m\u001b[0;34m)\u001b[0m\u001b[0;34m,\u001b[0m \u001b[0mpooling\u001b[0m\u001b[0;34m=\u001b[0m\u001b[0;32mNone\u001b[0m\u001b[0;34m,\u001b[0m \u001b[0mclasses\u001b[0m\u001b[0;34m=\u001b[0m\u001b[0;36m10\u001b[0m\u001b[0;34m)\u001b[0m\u001b[0;34m\u001b[0m\u001b[0;34m\u001b[0m\u001b[0m\n\u001b[0m",
      "\u001b[0;32m/Library/Frameworks/Python.framework/Versions/3.7/lib/python3.7/site-packages/tensorflow_core/python/keras/applications/__init__.py\u001b[0m in \u001b[0;36mwrapper\u001b[0;34m(*args, **kwargs)\u001b[0m\n\u001b[1;32m     47\u001b[0m     \u001b[0mkwargs\u001b[0m\u001b[0;34m[\u001b[0m\u001b[0;34m'models'\u001b[0m\u001b[0;34m]\u001b[0m \u001b[0;34m=\u001b[0m \u001b[0mmodels\u001b[0m\u001b[0;34m\u001b[0m\u001b[0;34m\u001b[0m\u001b[0m\n\u001b[1;32m     48\u001b[0m     \u001b[0mkwargs\u001b[0m\u001b[0;34m[\u001b[0m\u001b[0;34m'utils'\u001b[0m\u001b[0;34m]\u001b[0m \u001b[0;34m=\u001b[0m \u001b[0mutils\u001b[0m\u001b[0;34m\u001b[0m\u001b[0;34m\u001b[0m\u001b[0m\n\u001b[0;32m---> 49\u001b[0;31m     \u001b[0;32mreturn\u001b[0m \u001b[0mbase_fun\u001b[0m\u001b[0;34m(\u001b[0m\u001b[0;34m*\u001b[0m\u001b[0margs\u001b[0m\u001b[0;34m,\u001b[0m \u001b[0;34m**\u001b[0m\u001b[0mkwargs\u001b[0m\u001b[0;34m)\u001b[0m\u001b[0;34m\u001b[0m\u001b[0;34m\u001b[0m\u001b[0m\n\u001b[0m\u001b[1;32m     50\u001b[0m   \u001b[0;32mreturn\u001b[0m \u001b[0mwrapper\u001b[0m\u001b[0;34m\u001b[0m\u001b[0;34m\u001b[0m\u001b[0m\n\u001b[1;32m     51\u001b[0m \u001b[0;34m\u001b[0m\u001b[0m\n",
      "\u001b[0;32m/Library/Frameworks/Python.framework/Versions/3.7/lib/python3.7/site-packages/tensorflow_core/python/keras/applications/vgg16.py\u001b[0m in \u001b[0;36mVGG16\u001b[0;34m(*args, **kwargs)\u001b[0m\n\u001b[1;32m     30\u001b[0m \u001b[0;34m@\u001b[0m\u001b[0mkeras_modules_injection\u001b[0m\u001b[0;34m\u001b[0m\u001b[0;34m\u001b[0m\u001b[0m\n\u001b[1;32m     31\u001b[0m \u001b[0;32mdef\u001b[0m \u001b[0mVGG16\u001b[0m\u001b[0;34m(\u001b[0m\u001b[0;34m*\u001b[0m\u001b[0margs\u001b[0m\u001b[0;34m,\u001b[0m \u001b[0;34m**\u001b[0m\u001b[0mkwargs\u001b[0m\u001b[0;34m)\u001b[0m\u001b[0;34m:\u001b[0m\u001b[0;34m\u001b[0m\u001b[0;34m\u001b[0m\u001b[0m\n\u001b[0;32m---> 32\u001b[0;31m   \u001b[0;32mreturn\u001b[0m \u001b[0mvgg16\u001b[0m\u001b[0;34m.\u001b[0m\u001b[0mVGG16\u001b[0m\u001b[0;34m(\u001b[0m\u001b[0;34m*\u001b[0m\u001b[0margs\u001b[0m\u001b[0;34m,\u001b[0m \u001b[0;34m**\u001b[0m\u001b[0mkwargs\u001b[0m\u001b[0;34m)\u001b[0m\u001b[0;34m\u001b[0m\u001b[0;34m\u001b[0m\u001b[0m\n\u001b[0m\u001b[1;32m     33\u001b[0m \u001b[0;34m\u001b[0m\u001b[0m\n\u001b[1;32m     34\u001b[0m \u001b[0;34m\u001b[0m\u001b[0m\n",
      "\u001b[0;32m/Library/Frameworks/Python.framework/Versions/3.7/lib/python3.7/site-packages/keras_applications/vgg16.py\u001b[0m in \u001b[0;36mVGG16\u001b[0;34m(include_top, weights, input_tensor, input_shape, pooling, classes, **kwargs)\u001b[0m\n\u001b[1;32m     97\u001b[0m                                       \u001b[0mdata_format\u001b[0m\u001b[0;34m=\u001b[0m\u001b[0mbackend\u001b[0m\u001b[0;34m.\u001b[0m\u001b[0mimage_data_format\u001b[0m\u001b[0;34m(\u001b[0m\u001b[0;34m)\u001b[0m\u001b[0;34m,\u001b[0m\u001b[0;34m\u001b[0m\u001b[0;34m\u001b[0m\u001b[0m\n\u001b[1;32m     98\u001b[0m                                       \u001b[0mrequire_flatten\u001b[0m\u001b[0;34m=\u001b[0m\u001b[0minclude_top\u001b[0m\u001b[0;34m,\u001b[0m\u001b[0;34m\u001b[0m\u001b[0;34m\u001b[0m\u001b[0m\n\u001b[0;32m---> 99\u001b[0;31m                                       weights=weights)\n\u001b[0m\u001b[1;32m    100\u001b[0m \u001b[0;34m\u001b[0m\u001b[0m\n\u001b[1;32m    101\u001b[0m     \u001b[0;32mif\u001b[0m \u001b[0minput_tensor\u001b[0m \u001b[0;32mis\u001b[0m \u001b[0;32mNone\u001b[0m\u001b[0;34m:\u001b[0m\u001b[0;34m\u001b[0m\u001b[0;34m\u001b[0m\u001b[0m\n",
      "\u001b[0;32m/Library/Frameworks/Python.framework/Versions/3.7/lib/python3.7/site-packages/keras_applications/imagenet_utils.py\u001b[0m in \u001b[0;36m_obtain_input_shape\u001b[0;34m(input_shape, default_size, min_size, data_format, require_flatten, weights)\u001b[0m\n\u001b[1;32m    320\u001b[0m                                      \u001b[0mstr\u001b[0m\u001b[0;34m(\u001b[0m\u001b[0mmin_size\u001b[0m\u001b[0;34m)\u001b[0m \u001b[0;34m+\u001b[0m \u001b[0;34m'x'\u001b[0m \u001b[0;34m+\u001b[0m \u001b[0mstr\u001b[0m\u001b[0;34m(\u001b[0m\u001b[0mmin_size\u001b[0m\u001b[0;34m)\u001b[0m \u001b[0;34m+\u001b[0m\u001b[0;34m\u001b[0m\u001b[0;34m\u001b[0m\u001b[0m\n\u001b[1;32m    321\u001b[0m                                      \u001b[0;34m'; got `input_shape='\u001b[0m \u001b[0;34m+\u001b[0m\u001b[0;34m\u001b[0m\u001b[0;34m\u001b[0m\u001b[0m\n\u001b[0;32m--> 322\u001b[0;31m                                      str(input_shape) + '`')\n\u001b[0m\u001b[1;32m    323\u001b[0m     \u001b[0;32melse\u001b[0m\u001b[0;34m:\u001b[0m\u001b[0;34m\u001b[0m\u001b[0;34m\u001b[0m\u001b[0m\n\u001b[1;32m    324\u001b[0m         \u001b[0;32mif\u001b[0m \u001b[0mrequire_flatten\u001b[0m\u001b[0;34m:\u001b[0m\u001b[0;34m\u001b[0m\u001b[0;34m\u001b[0m\u001b[0m\n",
      "\u001b[0;31mValueError\u001b[0m: Input size must be at least 32x32; got `input_shape=(28, 28, 1)`"
     ]
    }
   ],
   "source": [
    "vgg1 = keras.applications.vgg16.VGG16(include_top=False, weights=None, input_tensor=None, input_shape=(28,28,1), pooling=None, classes=10)"
   ]
  },
  {
   "cell_type": "markdown",
   "metadata": {
    "colab_type": "text",
    "id": "wvZdbWQhqbXs"
   },
   "source": [
    "#### We use 30000 samples to train global model and 30000 samples to simulate data being updated locally"
   ]
  },
  {
   "cell_type": "code",
   "execution_count": null,
   "metadata": {},
   "outputs": [],
   "source": []
  },
  {
   "cell_type": "code",
   "execution_count": null,
   "metadata": {
    "colab": {},
    "colab_type": "code",
    "id": "g-ufefq5GM0J"
   },
   "outputs": [],
   "source": [
    "global_sample_num = 30000"
   ]
  },
  {
   "cell_type": "code",
   "execution_count": null,
   "metadata": {
    "colab": {},
    "colab_type": "code",
    "id": "-CWfYPxcqbXv"
   },
   "outputs": [],
   "source": [
    "# it seems like the training data is already in random order\n",
    "x_train_global = x_train[:global_sample_num]\n",
    "x_train_local = x_train[global_sample_num:]\n",
    "y_train_global = y_train[:global_sample_num]\n",
    "y_train_local = y_train[global_sample_num:]"
   ]
  },
  {
   "cell_type": "code",
   "execution_count": null,
   "metadata": {},
   "outputs": [],
   "source": [
    "def split_local_data(num):\n",
    "    # if unable to split into same number of datasets,\n",
    "    # drop last few data\n",
    "    last_index = 30000 - (30000 % num) \n",
    "    x_local = np.split(x_train_local[:last_index], num)\n",
    "    y_local = np.split(y_train_local[:last_index], num)\n",
    "    return x_local, y_local"
   ]
  },
  {
   "cell_type": "code",
   "execution_count": null,
   "metadata": {},
   "outputs": [],
   "source": [
    "def fit_model_global(model, epochs):\n",
    "    now = datetime.datetime.now()\n",
    "    print (\"Training date and time : \")\n",
    "    print (now.strftime(\"%Y-%m-%d %H:%M:%S\"))\n",
    "    return model.fit(x_train_global, y_train_global,\n",
    "                      batch_size=batch_size,\n",
    "                      epochs=epochs,\n",
    "                      validation_data=(x_test, y_test_cat),\n",
    "                      shuffle=True, callbacks=[tensorboard_callback])\n"
   ]
  },
  {
   "cell_type": "markdown",
   "metadata": {},
   "source": [
    "#### A few helper functions"
   ]
  },
  {
   "cell_type": "code",
   "execution_count": null,
   "metadata": {},
   "outputs": [],
   "source": [
    "def compile_model_rms(model):  \n",
    "    # initiate RMSprop optimizer\n",
    "    opt = keras.optimizers.rmsprop(lr=0.0001, decay=1e-6)\n",
    "    model.compile(loss='categorical_crossentropy',\n",
    "              optimizer=opt,\n",
    "              metrics=['accuracy'])"
   ]
  },
  {
   "cell_type": "code",
   "execution_count": null,
   "metadata": {},
   "outputs": [],
   "source": [
    "def print_datetime():\n",
    "    now = datetime.datetime.now()\n",
    "    print (\"Training date and time : \")\n",
    "    print (now.strftime(\"%Y-%m-%d %H:%M:%S\"))"
   ]
  },
  {
   "cell_type": "markdown",
   "metadata": {},
   "source": [
    "### Test with global model : Tune parameters"
   ]
  },
  {
   "cell_type": "code",
   "execution_count": null,
   "metadata": {},
   "outputs": [],
   "source": [
    "model.fit(x_train, y_train,\n",
    "          batch_size=batch_size,\n",
    "          epochs=epochs,\n",
    "          verbose=1,\n",
    "          validation_data=(x_test, y_test))\n",
    "score = model.evaluate(x_test, y_test, verbose=0)\n",
    "print('Test loss:', score[0])\n",
    "print('Test accuracy:', score[1])"
   ]
  },
  {
   "cell_type": "markdown",
   "metadata": {
    "colab_type": "text",
    "id": "LvZKfgFKrh0p"
   },
   "source": [
    "## RQ1: Serial vs. Parallel"
   ]
  },
  {
   "cell_type": "markdown",
   "metadata": {},
   "source": [
    "#### Serial\n",
    "30k - 10k - 10k - 10k \n"
   ]
  },
  {
   "cell_type": "code",
   "execution_count": null,
   "metadata": {
    "colab": {
     "base_uri": "https://localhost:8080/",
     "height": 494
    },
    "colab_type": "code",
    "id": "WExnApjkrvnt",
    "outputId": "a9d2ca77-66af-47d3-ba3a-f80095b2e154",
    "scrolled": true
   },
   "outputs": [],
   "source": [
    "print_datetime()\n",
    "\n",
    "serial_model = custom_model()\n",
    "compile_model(serial_model)\n",
    "history_serial = serial_model.fit(x_train_global, y_train_global,\n",
    "          batch_size=batch_size,\n",
    "          epochs=epochs,\n",
    "          verbose=1,\n",
    "          validation_data=(x_test, y_test))\n",
    "score = serial_model.evaluate(x_test, y_test, verbose=0)\n",
    "print('Test loss:', score[0])\n",
    "print('Test accuracy:', score[1])"
   ]
  },
  {
   "cell_type": "code",
   "execution_count": null,
   "metadata": {},
   "outputs": [],
   "source": [
    "history_serial.history['val_acc'][-1]"
   ]
  },
  {
   "cell_type": "code",
   "execution_count": null,
   "metadata": {},
   "outputs": [],
   "source": [
    "serial_model.save(\"30k_pretrain.h5\")"
   ]
  },
  {
   "cell_type": "code",
   "execution_count": null,
   "metadata": {},
   "outputs": [],
   "source": [
    "serial_model = keras.models.load_model('30k_pretrain.h5')"
   ]
  },
  {
   "cell_type": "code",
   "execution_count": null,
   "metadata": {},
   "outputs": [],
   "source": [
    "len(serial_model.layers)"
   ]
  },
  {
   "cell_type": "code",
   "execution_count": null,
   "metadata": {
    "scrolled": true
   },
   "outputs": [],
   "source": [
    "local_serial_hist = []\n",
    "split_num = 10\n",
    "\n",
    "(x_local, y_local) = split_local_data(split_num)"
   ]
  },
  {
   "cell_type": "code",
   "execution_count": null,
   "metadata": {
    "scrolled": true
   },
   "outputs": [],
   "source": [
    "for i in range(split_num):\n",
    "    print(\"Local training #%d\" %(i+1))\n",
    "    serial_model.fit(x_local[i], y_local[i],\n",
    "              batch_size=batch_size,\n",
    "              epochs=epochs,\n",
    "              verbose=1,\n",
    "              validation_data=(x_test, y_test))"
   ]
  },
  {
   "cell_type": "code",
   "execution_count": null,
   "metadata": {},
   "outputs": [],
   "source": [
    "serial_model.save(\"serial_split_10.h5\")"
   ]
  },
  {
   "cell_type": "markdown",
   "metadata": {},
   "source": [
    "#### Parallel\n",
    "<pre>\n",
    "       | 10k | \n",
    "30k -> | 10k | -> res\n",
    "       | 10k | \n",
    "</pre>"
   ]
  },
  {
   "cell_type": "code",
   "execution_count": null,
   "metadata": {},
   "outputs": [],
   "source": [
    "parallel_model = []\n",
    "for i in range(split_num):\n",
    "    parallel_model.append(keras.models.load_model('30k_pretrain.h5')"
   ]
  },
  {
   "cell_type": "code",
   "execution_count": null,
   "metadata": {
    "scrolled": true
   },
   "outputs": [],
   "source": [
    "for i in range(split_num):\n",
    "    print(\"Local training (parallel) #%d\" %(i+1))\n",
    "    parallel_model[i].fit(x_local[i], y_local[i],\n",
    "              batch_size=batch_size,\n",
    "              epochs=epochs,\n",
    "              verbose=1,\n",
    "              validation_data=(x_test, y_test))"
   ]
  },
  {
   "cell_type": "code",
   "execution_count": null,
   "metadata": {},
   "outputs": [],
   "source": [
    "weights = [m.get_weights() for m in parallel_model]"
   ]
  },
  {
   "cell_type": "code",
   "execution_count": null,
   "metadata": {},
   "outputs": [],
   "source": [
    "# Federated Aggregation\n",
    "new_weights = list()\n",
    "\n",
    "for weights_list_tuple in zip(*weights):\n",
    "    new_weights.append(\n",
    "        [np.array(weights_).mean(axis=0)\\\n",
    "            for weights_ in zip(*weights_list_tuple)])"
   ]
  },
  {
   "cell_type": "code",
   "execution_count": null,
   "metadata": {},
   "outputs": [],
   "source": [
    "pretrained_model = keras.models.load_model('30k_pretrain.h5')\n",
    "aggr_model = keras.models.clone_model(pretrained_model)\n",
    "aggr_model.set_weights(new_weights)"
   ]
  },
  {
   "cell_type": "markdown",
   "metadata": {},
   "source": [
    "partial aggregation"
   ]
  },
  {
   "cell_type": "code",
   "execution_count": null,
   "metadata": {
    "scrolled": true
   },
   "outputs": [],
   "source": [
    "compile_model(aggr_model)\n",
    "aggr_model.evaluate(x_test, y_test)"
   ]
  },
  {
   "cell_type": "code",
   "execution_count": null,
   "metadata": {},
   "outputs": [],
   "source": [
    "aggr_model.save(\"parallel_split_10.h5\")"
   ]
  },
  {
   "cell_type": "markdown",
   "metadata": {},
   "source": [
    "serial vs. parallel by devices"
   ]
  },
  {
   "cell_type": "code",
   "execution_count": null,
   "metadata": {},
   "outputs": [],
   "source": [
    "def compare_by_device(lower, upper):\n",
    "    # Hyperparameter\n",
    "    lr = 0.001\n",
    "    \n",
    "    serial_res = np.zeros(upper - lower + 1)\n",
    "    parallel_res = np.zeros(upper - lower + 1)\n",
    "    serial_res[0] = 0.9563\n",
    "    parallel_res[0] = 0.9563\n",
    "    for split_num in range(lower, upper):\n",
    "        print(\"<=======   Learning with %d devices   =======>\" %split_num)\n",
    "        start_time = datetime.datetime.now() \n",
    "        \n",
    "        #split dataset\n",
    "        (x_local, y_local) = split_local_data(split_num)\n",
    "        \n",
    "        # run serial model\n",
    "        serial = keras.models.load_model('30k_pretrain.h5')\n",
    "        for layer in serial.layers[:2]:\n",
    "            layer.trainable=False\n",
    "        for layer in serial.layers[2:]:\n",
    "            layer.trainable=True\n",
    "        \n",
    "        compile_model_lr(serial, lr)\n",
    "        \n",
    "        for i in range(split_num):\n",
    "            print(\"%d devices: Local training (serial) #%d\" %(split_num, i+1))\n",
    "            serial_hist = serial.fit(x_local[i], y_local[i],\n",
    "                              batch_size=batch_size,\n",
    "                              epochs=epochs,\n",
    "                              verbose=1,\n",
    "                              validation_data=(x_test, y_test))\n",
    "        serial_res[split_num - lower + 1] = serial_hist.history['val_acc'][-1]\n",
    "#         serial.save(\"bd_serial_split_\" + str(split_num) + \".h5\")\n",
    "        \n",
    "        # run parallel model\n",
    "        parallel = [keras.models.load_model('30k_pretrain.h5') for _ in range(split_num)]\n",
    "        for p in parallel:\n",
    "            for layer in p.layers[:2]:\n",
    "                layer.trainable=False\n",
    "            for layer in p.layers[2:]:\n",
    "                layer.trainable=True\n",
    "            compile_model_lr(p, lr)\n",
    "            \n",
    "        for i in range(split_num):\n",
    "            print(\"%d devices: Local training (parallel) #%d\" %(split_num, i+1))\n",
    "            parallel[i].fit(x_local[i], y_local[i],\n",
    "                          batch_size=batch_size,\n",
    "                          epochs=epochs,\n",
    "                          verbose=1,\n",
    "                          validation_data=(x_test, y_test))\n",
    "        weights = [m.get_weights() for m in parallel]\n",
    "        # Federated Aggregation\n",
    "        new_weights = list()\n",
    "        for weights_list_tuple in zip(*weights):\n",
    "            new_weights.append(\n",
    "                [np.array(weights_).mean(axis=0)\\\n",
    "                    for weights_ in zip(*weights_list_tuple)])\n",
    "            \n",
    "        pretrained_model = keras.models.load_model('30k_pretrain.h5')\n",
    "        aggr_model = keras.models.clone_model(pretrained_model)\n",
    "        aggr_model.set_weights(new_weights)\n",
    "        compile_model(aggr_model)\n",
    "        aggr_score = aggr_model.evaluate(x_test, y_test)\n",
    "#         aggr_model.save(\"bd_parallel_split_\" + str(split_num) + \".h5\")\n",
    "        parallel_res[split_num - lower + 1] = aggr_score[1]\n",
    "        \n",
    "        end_time = datetime.datetime.now() \n",
    "        elasped_time = end_time - start_time\n",
    "        et = divmod(elasped_time.days * 86400 + elasped_time.seconds, 60)\n",
    "        print(\"Elasped Time for %d devices: %d minutes, %d seconds\" %(split_num, et[0], et[1]))\n",
    "    return serial_res, parallel_res"
   ]
  },
  {
   "cell_type": "code",
   "execution_count": null,
   "metadata": {
    "scrolled": true
   },
   "outputs": [],
   "source": [
    "lower = 2\n",
    "upper = 12\n",
    "(sr_2, pr_2) = compare_by_device(lower,upper)"
   ]
  },
  {
   "cell_type": "code",
   "execution_count": null,
   "metadata": {
    "scrolled": true
   },
   "outputs": [],
   "source": [
    "x = np.arange(1,12)\n",
    "sns.set_style(\"darkgrid\")\n",
    "plt.axis([0.5, 11, 0.9380, 0.96])\n",
    "plt.plot(x, sr_2, label='serial')\n",
    "plt.plot(x, pr_2, label='parallel')\n",
    "# line for \n",
    "l = mlines.Line2D([-0.5,11], [0.9399,0.9399], c='red', label='base')\n",
    "ax = plt.gca()\n",
    "ax.add_line(l)\n",
    "ax.legend()\n",
    "plt.suptitle('SGD, Fixed, Learning rate: ' + str(0.001))\n",
    "plt.xlabel('num_devices')\n",
    "plt.ylabel('validation accuracy')\n",
    "plt.savefig('SGD_lr001_fixed.png')\n",
    "plt.show()\n"
   ]
  },
  {
   "cell_type": "markdown",
   "metadata": {},
   "source": [
    "### Distributed Model \n",
    "#### 90% one class, 10% noise (non-iid)"
   ]
  },
  {
   "cell_type": "code",
   "execution_count": null,
   "metadata": {},
   "outputs": [],
   "source": [
    "num_users = 10"
   ]
  },
  {
   "cell_type": "code",
   "execution_count": null,
   "metadata": {},
   "outputs": [],
   "source": [
    "y_train_local = y_train_noncat[30000:]"
   ]
  },
  {
   "cell_type": "code",
   "execution_count": null,
   "metadata": {
    "scrolled": true
   },
   "outputs": [],
   "source": [
    "y_train_local.shape"
   ]
  },
  {
   "cell_type": "code",
   "execution_count": null,
   "metadata": {},
   "outputs": [],
   "source": [
    "x_train_skewed = x_train_local[:27000]\n",
    "x_train_noise = x_train_local[27000:]\n",
    "y_train_skewed = y_train_local[:27000]\n",
    "y_train_noise = y_train_local[27000:]"
   ]
  },
  {
   "cell_type": "code",
   "execution_count": null,
   "metadata": {},
   "outputs": [],
   "source": [
    "# make placeholders for datas\n",
    "x_data_split = [np.empty([0,28,28,1]) for _ in range(num_users)]\n",
    "y_data_split = [np.empty([0], dtype='uint8') for _ in range(num_users)]"
   ]
  },
  {
   "cell_type": "code",
   "execution_count": null,
   "metadata": {},
   "outputs": [],
   "source": [
    "# split data based on class\n",
    "for i in range(y_train_skewed.shape[0]):\n",
    "    if (i%1000 == 0):\n",
    "        print(\"%d complete\" %i)\n",
    "    user_num = (int) (y_train_skewed[i]) # user_num is from 0 to 9, depends on class\n",
    "    x_data_split[user_num] = \\\n",
    "        np.concatenate((x_data_split[user_num], np.expand_dims(x_train_skewed[i], axis=0)), axis=0)\n",
    "    y_data_split[user_num] = \\\n",
    "        np.concatenate((y_data_split[user_num], np.expand_dims(y_train_skewed[i], axis=0)), axis=0)"
   ]
  },
  {
   "cell_type": "code",
   "execution_count": null,
   "metadata": {},
   "outputs": [],
   "source": [
    "x_noise_split = np.split(x_train_noise, num_users)\n",
    "y_noise_split = np.split(y_train_noise, num_users)"
   ]
  },
  {
   "cell_type": "code",
   "execution_count": null,
   "metadata": {},
   "outputs": [],
   "source": [
    "for i in range(num_users):\n",
    "    x_data_split[i] = np.concatenate((x_data_split[i], x_noise_split[i]), axis=0)\n",
    "    y_data_split[i] = np.concatenate((y_data_split[i], y_noise_split[i]), axis=0)"
   ]
  },
  {
   "cell_type": "code",
   "execution_count": null,
   "metadata": {},
   "outputs": [],
   "source": [
    "for i in range(10):\n",
    "    print(x_data_split[i].shape)"
   ]
  },
  {
   "cell_type": "code",
   "execution_count": null,
   "metadata": {},
   "outputs": [],
   "source": [
    "y_data_split_cat = []\n",
    "for yd in y_data_split:\n",
    "    y_data_split_cat.append(keras.utils.to_categorical(yd, 10))"
   ]
  },
  {
   "cell_type": "code",
   "execution_count": null,
   "metadata": {},
   "outputs": [],
   "source": [
    "parallel_model = []\n",
    "for i in range(10):\n",
    "    parallel_model.append(keras.models.load_model('30k_pretrain.h5'))"
   ]
  },
  {
   "cell_type": "code",
   "execution_count": null,
   "metadata": {},
   "outputs": [],
   "source": [
    "for i in range(10):\n",
    "    print(\"Local training (parallel) #%d\" %(i+1))\n",
    "    parallel_model[i].fit(x_data_split[i], y_data_split_cat[i],\n",
    "              batch_size=batch_size,\n",
    "              epochs=epochs,\n",
    "              verbose=1,\n",
    "              validation_data=(x_test, y_test))"
   ]
  },
  {
   "cell_type": "markdown",
   "metadata": {},
   "source": [
    "The models that are fed with certain class more than others will distinguish that class with others better"
   ]
  },
  {
   "cell_type": "markdown",
   "metadata": {},
   "source": [
    "when we are showing 1 class more than the others, are we just increasing tendency of the model to classify as that class, or are we actually helping it to learn more?"
   ]
  },
  {
   "cell_type": "markdown",
   "metadata": {},
   "source": [
    "confusion matrix, "
   ]
  }
 ],
 "metadata": {
  "colab": {
   "name": "personalized.ipynb",
   "provenance": [],
   "version": "0.3.2"
  },
  "kernelspec": {
   "display_name": "Python 3",
   "language": "python",
   "name": "python3"
  },
  "language_info": {
   "codemirror_mode": {
    "name": "ipython",
    "version": 3
   },
   "file_extension": ".py",
   "mimetype": "text/x-python",
   "name": "python",
   "nbconvert_exporter": "python",
   "pygments_lexer": "ipython3",
   "version": "3.6.6"
  }
 },
 "nbformat": 4,
 "nbformat_minor": 1
}
