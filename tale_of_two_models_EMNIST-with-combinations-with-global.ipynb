{
 "cells": [
  {
   "cell_type": "markdown",
   "metadata": {
    "colab_type": "text",
    "id": "d6n47ueeqbXb"
   },
   "source": [
    "## Personalized Learning (Localized Learning?)\n",
    "\n",
    "#### This notebook includes the following online models;\n",
    "1. A single global model with all data\n",
    "2. Multiple local models (starting from a single global model)\n",
    "   1. that are updated with new data\n",
    "   2. that exchanges data in clusters\n",
    "   3. that exchanges parameters in clusters\n",
    "\n",
    "  \n",
    "#### The dataset that is used for this project is [CIFAR-100 dataset][1]\n",
    "* Has 100 classes containing 600 images each\n",
    "\n",
    "#### New data are fed by the following rules;\n",
    "1. Distributed, according to superclasses\n",
    "  * Clusters will only be updated with data that belongs to a specific superclass\n",
    "  * We update the NN by\n",
    "    1. Changing all parameters of the NN\n",
    "    2. Only changing the last few layers, as in many MTL models\n",
    "2. Randomly (why?)\n",
    "\n",
    "#### We expect to find an answer to the following research questions with this project;\n",
    "1. If models are updated with data (or parameters) that are shared within a cluster, can the model perform good enough with the labels that count?\n",
    "  * For example, the performance of the cluster that are updated with \"Vehicles\" superclass is only assessed with the labels that corresponds to the superclass.\n",
    "  \n",
    "[1]: https://www.cs.toronto.edu/~kriz/cifar.html"
   ]
  },
  {
   "cell_type": "markdown",
   "metadata": {
    "colab_type": "text",
    "id": "Oji0BTfoqbXc"
   },
   "source": [
    "#### Questions\n",
    "\n",
    "Retraining: how does it work <br>\n",
    "How do we compare these models?\n"
   ]
  },
  {
   "cell_type": "markdown",
   "metadata": {
    "colab_type": "text",
    "id": "mr4-uY0LqbXd"
   },
   "source": [
    "### Implementation with Custom Neural Network and EMNIST dataset"
   ]
  },
  {
   "cell_type": "code",
   "execution_count": 1,
   "metadata": {
    "scrolled": true
   },
   "outputs": [],
   "source": [
    "%load_ext tensorboard"
   ]
  },
  {
   "cell_type": "code",
   "execution_count": 2,
   "metadata": {
    "colab": {
     "base_uri": "https://localhost:8080/",
     "height": 34
    },
    "colab_type": "code",
    "id": "tGoXLnOyqbXe",
    "outputId": "9ccd7215-80bf-4a0a-b852-8896b17c38f1",
    "scrolled": true
   },
   "outputs": [],
   "source": [
    "from __future__ import print_function\n",
    "import tensorflow.keras as keras\n",
    "from tensorflow.keras.datasets import mnist\n",
    "from tensorflow.keras.models import Sequential\n",
    "from tensorflow.keras.layers import Dense, Dropout, Flatten\n",
    "from tensorflow.keras.layers import Conv2D, MaxPooling2D\n",
    "from tensorflow.keras import backend as K"
   ]
  },
  {
   "cell_type": "code",
   "execution_count": 3,
   "metadata": {},
   "outputs": [],
   "source": [
    "import datetime\n",
    "import numpy as np\n",
    "import matplotlib.pyplot as plt\n",
    "import seaborn as sns\n",
    "import matplotlib.lines as mlines"
   ]
  },
  {
   "cell_type": "code",
   "execution_count": 4,
   "metadata": {},
   "outputs": [],
   "source": [
    "import tensorflow as tf\n",
    "log_dir = \"logs/fit/\" + datetime.datetime.now().strftime(\"%Y%m%d-%H%M%S\")\n",
    "tensorboard_callback = tf.keras.callbacks.TensorBoard(log_dir=log_dir, histogram_freq=1)"
   ]
  },
  {
   "cell_type": "code",
   "execution_count": 5,
   "metadata": {},
   "outputs": [
    {
     "data": {
      "text/plain": [
       "'2.1.0'"
      ]
     },
     "execution_count": 5,
     "metadata": {},
     "output_type": "execute_result"
    }
   ],
   "source": [
    "tf.__version__"
   ]
  },
  {
   "cell_type": "code",
   "execution_count": 6,
   "metadata": {
    "colab": {},
    "colab_type": "code",
    "id": "E2faBs1yqbXj"
   },
   "outputs": [],
   "source": [
    "# Hyperparameters\n",
    "batch_size = 50\n",
    "epochs = 20\n",
    "\n",
    "# input image dimensions\n",
    "img_rows, img_cols = 28, 28"
   ]
  },
  {
   "cell_type": "markdown",
   "metadata": {
    "colab_type": "text",
    "id": "QXfylSWLqbXl"
   },
   "source": [
    "#### Load EMNIST dataset"
   ]
  },
  {
   "cell_type": "code",
   "execution_count": 7,
   "metadata": {},
   "outputs": [],
   "source": [
    "import utils\n",
    "import json"
   ]
  },
  {
   "cell_type": "code",
   "execution_count": 8,
   "metadata": {
    "scrolled": false
   },
   "outputs": [
    {
     "data": {
      "text/plain": [
       "<module 'utils' from '/home/ubuntu/fed-learn-experiment/utils.py'>"
      ]
     },
     "execution_count": 8,
     "metadata": {},
     "output_type": "execute_result"
    }
   ],
   "source": [
    "import importlib\n",
    "importlib.reload(utils)"
   ]
  },
  {
   "cell_type": "code",
   "execution_count": 9,
   "metadata": {},
   "outputs": [],
   "source": [
    "FEMNIST_PATH = \"./leaf/data/femnist/data/train/\"\n",
    "FEMNIST_TEST_PATH = \"./leaf/data/femnist/data/test/\""
   ]
  },
  {
   "cell_type": "markdown",
   "metadata": {},
   "source": [
    "what's the number after all_data_(num)? Thought it was a label but there are every class in one json file..."
   ]
  },
  {
   "cell_type": "code",
   "execution_count": 10,
   "metadata": {},
   "outputs": [],
   "source": [
    "files = []\n",
    "for i in range(0, 63):\n",
    "    files.append(FEMNIST_PATH + utils.get_train_data_from_filename(i))"
   ]
  },
  {
   "cell_type": "code",
   "execution_count": 11,
   "metadata": {
    "scrolled": true
   },
   "outputs": [
    {
     "name": "stdout",
     "output_type": "stream",
     "text": [
      "(1/63) processing: ./leaf/data/femnist/data/train/all_data_0_niid_0_keep_10_train_9.json\n",
      "(2/63) processing: ./leaf/data/femnist/data/train/all_data_1_niid_0_keep_10_train_9.json\n",
      "(3/63) processing: ./leaf/data/femnist/data/train/all_data_2_niid_0_keep_10_train_9.json\n",
      "(4/63) processing: ./leaf/data/femnist/data/train/all_data_3_niid_0_keep_10_train_9.json\n",
      "(5/63) processing: ./leaf/data/femnist/data/train/all_data_4_niid_0_keep_10_train_9.json\n",
      "(6/63) processing: ./leaf/data/femnist/data/train/all_data_5_niid_0_keep_10_train_9.json\n",
      "(7/63) processing: ./leaf/data/femnist/data/train/all_data_6_niid_0_keep_10_train_9.json\n",
      "(8/63) processing: ./leaf/data/femnist/data/train/all_data_7_niid_0_keep_10_train_9.json\n",
      "(9/63) processing: ./leaf/data/femnist/data/train/all_data_8_niid_0_keep_10_train_9.json\n",
      "(10/63) processing: ./leaf/data/femnist/data/train/all_data_9_niid_0_keep_10_train_9.json\n",
      "(11/63) processing: ./leaf/data/femnist/data/train/all_data_10_niid_0_keep_10_train_9.json\n",
      "(12/63) processing: ./leaf/data/femnist/data/train/all_data_11_niid_0_keep_10_train_9.json\n",
      "(13/63) processing: ./leaf/data/femnist/data/train/all_data_12_niid_0_keep_10_train_9.json\n",
      "(14/63) processing: ./leaf/data/femnist/data/train/all_data_13_niid_0_keep_10_train_9.json\n",
      "(15/63) processing: ./leaf/data/femnist/data/train/all_data_14_niid_0_keep_10_train_9.json\n",
      "(16/63) processing: ./leaf/data/femnist/data/train/all_data_15_niid_0_keep_10_train_9.json\n",
      "(17/63) processing: ./leaf/data/femnist/data/train/all_data_16_niid_0_keep_10_train_9.json\n",
      "(18/63) processing: ./leaf/data/femnist/data/train/all_data_17_niid_0_keep_10_train_9.json\n",
      "(19/63) processing: ./leaf/data/femnist/data/train/all_data_18_niid_0_keep_10_train_9.json\n",
      "(20/63) processing: ./leaf/data/femnist/data/train/all_data_19_niid_0_keep_10_train_9.json\n",
      "(21/63) processing: ./leaf/data/femnist/data/train/all_data_20_niid_0_keep_10_train_9.json\n",
      "(22/63) processing: ./leaf/data/femnist/data/train/all_data_21_niid_0_keep_10_train_9.json\n",
      "(23/63) processing: ./leaf/data/femnist/data/train/all_data_22_niid_0_keep_10_train_9.json\n",
      "(24/63) processing: ./leaf/data/femnist/data/train/all_data_23_niid_0_keep_10_train_9.json\n",
      "(25/63) processing: ./leaf/data/femnist/data/train/all_data_24_niid_0_keep_10_train_9.json\n",
      "(26/63) processing: ./leaf/data/femnist/data/train/all_data_25_niid_0_keep_10_train_9.json\n",
      "(27/63) processing: ./leaf/data/femnist/data/train/all_data_26_niid_0_keep_10_train_9.json\n",
      "(28/63) processing: ./leaf/data/femnist/data/train/all_data_27_niid_0_keep_10_train_9.json\n",
      "(29/63) processing: ./leaf/data/femnist/data/train/all_data_28_niid_0_keep_10_train_9.json\n",
      "(30/63) processing: ./leaf/data/femnist/data/train/all_data_29_niid_0_keep_10_train_9.json\n",
      "(31/63) processing: ./leaf/data/femnist/data/train/all_data_30_niid_0_keep_10_train_9.json\n",
      "(32/63) processing: ./leaf/data/femnist/data/train/all_data_31_niid_0_keep_10_train_9.json\n",
      "(33/63) processing: ./leaf/data/femnist/data/train/all_data_32_niid_0_keep_10_train_9.json\n",
      "(34/63) processing: ./leaf/data/femnist/data/train/all_data_33_niid_0_keep_10_train_9.json\n",
      "(35/63) processing: ./leaf/data/femnist/data/train/all_data_34_niid_0_keep_10_train_9.json\n",
      "(36/63) processing: ./leaf/data/femnist/data/train/all_data_35_niid_0_keep_10_train_9.json\n",
      "(37/63) processing: ./leaf/data/femnist/data/train/all_data_36_niid_0_keep_10_train_9.json\n",
      "(38/63) processing: ./leaf/data/femnist/data/train/all_data_37_niid_0_keep_10_train_9.json\n",
      "(39/63) processing: ./leaf/data/femnist/data/train/all_data_38_niid_0_keep_10_train_9.json\n",
      "(40/63) processing: ./leaf/data/femnist/data/train/all_data_39_niid_0_keep_10_train_9.json\n",
      "(41/63) processing: ./leaf/data/femnist/data/train/all_data_40_niid_0_keep_10_train_9.json\n",
      "(42/63) processing: ./leaf/data/femnist/data/train/all_data_41_niid_0_keep_10_train_9.json\n",
      "(43/63) processing: ./leaf/data/femnist/data/train/all_data_42_niid_0_keep_10_train_9.json\n",
      "(44/63) processing: ./leaf/data/femnist/data/train/all_data_43_niid_0_keep_10_train_9.json\n",
      "(45/63) processing: ./leaf/data/femnist/data/train/all_data_44_niid_0_keep_10_train_9.json\n",
      "(46/63) processing: ./leaf/data/femnist/data/train/all_data_45_niid_0_keep_10_train_9.json\n",
      "(47/63) processing: ./leaf/data/femnist/data/train/all_data_46_niid_0_keep_10_train_9.json\n",
      "(48/63) processing: ./leaf/data/femnist/data/train/all_data_47_niid_0_keep_10_train_9.json\n",
      "(49/63) processing: ./leaf/data/femnist/data/train/all_data_48_niid_0_keep_10_train_9.json\n",
      "(50/63) processing: ./leaf/data/femnist/data/train/all_data_49_niid_0_keep_10_train_9.json\n",
      "(51/63) processing: ./leaf/data/femnist/data/train/all_data_50_niid_0_keep_10_train_9.json\n",
      "(52/63) processing: ./leaf/data/femnist/data/train/all_data_51_niid_0_keep_10_train_9.json\n",
      "(53/63) processing: ./leaf/data/femnist/data/train/all_data_52_niid_0_keep_10_train_9.json\n",
      "(54/63) processing: ./leaf/data/femnist/data/train/all_data_53_niid_0_keep_10_train_9.json\n",
      "(55/63) processing: ./leaf/data/femnist/data/train/all_data_54_niid_0_keep_10_train_9.json\n",
      "(56/63) processing: ./leaf/data/femnist/data/train/all_data_55_niid_0_keep_10_train_9.json\n",
      "(57/63) processing: ./leaf/data/femnist/data/train/all_data_56_niid_0_keep_10_train_9.json\n",
      "(58/63) processing: ./leaf/data/femnist/data/train/all_data_57_niid_0_keep_10_train_9.json\n",
      "(59/63) processing: ./leaf/data/femnist/data/train/all_data_58_niid_0_keep_10_train_9.json\n",
      "(60/63) processing: ./leaf/data/femnist/data/train/all_data_59_niid_0_keep_10_train_9.json\n",
      "(61/63) processing: ./leaf/data/femnist/data/train/all_data_60_niid_0_keep_10_train_9.json\n",
      "(62/63) processing: ./leaf/data/femnist/data/train/all_data_61_niid_0_keep_10_train_9.json\n",
      "(63/63) processing: ./leaf/data/femnist/data/train/all_data_62_niid_0_keep_10_train_9.json\n"
     ]
    }
   ],
   "source": [
    "X, Y, users = utils.get_data(files)"
   ]
  },
  {
   "cell_type": "code",
   "execution_count": 12,
   "metadata": {},
   "outputs": [],
   "source": [
    "test_files = []\n",
    "for i in range(0, 6):\n",
    "    test_files.append(FEMNIST_TEST_PATH + utils.get_test_data_from_filename(i))"
   ]
  },
  {
   "cell_type": "code",
   "execution_count": 13,
   "metadata": {
    "scrolled": true
   },
   "outputs": [
    {
     "name": "stdout",
     "output_type": "stream",
     "text": [
      "(1/6) processing: ./leaf/data/femnist/data/test/all_data_0_niid_0_keep_10_test_9.json\n",
      "(2/6) processing: ./leaf/data/femnist/data/test/all_data_1_niid_0_keep_10_test_9.json\n",
      "(3/6) processing: ./leaf/data/femnist/data/test/all_data_2_niid_0_keep_10_test_9.json\n",
      "(4/6) processing: ./leaf/data/femnist/data/test/all_data_3_niid_0_keep_10_test_9.json\n",
      "(5/6) processing: ./leaf/data/femnist/data/test/all_data_4_niid_0_keep_10_test_9.json\n",
      "(6/6) processing: ./leaf/data/femnist/data/test/all_data_5_niid_0_keep_10_test_9.json\n"
     ]
    }
   ],
   "source": [
    "X_test, Y_test, users_test = utils.get_data(test_files)"
   ]
  },
  {
   "cell_type": "code",
   "execution_count": 14,
   "metadata": {},
   "outputs": [
    {
     "name": "stdout",
     "output_type": "stream",
     "text": [
      "722701 training data, 69393 test data\n"
     ]
    }
   ],
   "source": [
    "print(\"{} training data, {} test data\".format(sum([n.shape[0] for n in X]), sum([n.shape[0] for n in X_test])))"
   ]
  },
  {
   "cell_type": "code",
   "execution_count": 15,
   "metadata": {
    "scrolled": true
   },
   "outputs": [],
   "source": [
    "X_global, Y_global, local_data = \\\n",
    "utils.fl_parse(X=X, Y=Y, num_clients=20, min_num_global=200000, min_num_local=20000)"
   ]
  },
  {
   "cell_type": "code",
   "execution_count": 16,
   "metadata": {},
   "outputs": [],
   "source": [
    "X_test = utils.serialize_data(X_test)\n",
    "Y_test = utils.serialize_data(Y_test)"
   ]
  },
  {
   "cell_type": "code",
   "execution_count": 17,
   "metadata": {},
   "outputs": [],
   "source": [
    "num_classes = len(np.unique(Y_test))"
   ]
  },
  {
   "cell_type": "code",
   "execution_count": 18,
   "metadata": {},
   "outputs": [],
   "source": [
    "input_shape = X_global[0].shape"
   ]
  },
  {
   "cell_type": "code",
   "execution_count": 19,
   "metadata": {},
   "outputs": [
    {
     "data": {
      "text/plain": [
       "numpy.ndarray"
      ]
     },
     "execution_count": 19,
     "metadata": {},
     "output_type": "execute_result"
    }
   ],
   "source": [
    "type(X_global)"
   ]
  },
  {
   "cell_type": "code",
   "execution_count": 20,
   "metadata": {},
   "outputs": [],
   "source": [
    "Y_global = keras.utils.to_categorical(Y_global, num_classes)"
   ]
  },
  {
   "cell_type": "code",
   "execution_count": 21,
   "metadata": {},
   "outputs": [
    {
     "data": {
      "text/plain": [
       "(200086, 62)"
      ]
     },
     "execution_count": 21,
     "metadata": {},
     "output_type": "execute_result"
    }
   ],
   "source": [
    "Y_global.shape"
   ]
  },
  {
   "cell_type": "code",
   "execution_count": 22,
   "metadata": {},
   "outputs": [],
   "source": [
    "# convert class vectors to binary class matrices\n",
    "Y_test = keras.utils.to_categorical(Y_test, num_classes)"
   ]
  },
  {
   "cell_type": "code",
   "execution_count": 23,
   "metadata": {},
   "outputs": [],
   "source": [
    "for i in range(len(local_data)):\n",
    "    local_data[i] = (local_data[i][0], keras.utils.to_categorical(local_data[i][1], num_classes))"
   ]
  },
  {
   "cell_type": "markdown",
   "metadata": {},
   "source": [
    "### Define models and compile & fit function"
   ]
  },
  {
   "cell_type": "code",
   "execution_count": 24,
   "metadata": {},
   "outputs": [],
   "source": [
    "def custom_model():\n",
    "    model = Sequential()\n",
    "    model.add(Flatten(input_shape=input_shape))\n",
    "    model.add(Dense(600, activation='relu'))\n",
    "    model.add(Dense(600, activation='relu'))\n",
    "    model.add(Dense(num_classes, activation='softmax'))\n",
    "    return model"
   ]
  },
  {
   "cell_type": "code",
   "execution_count": 25,
   "metadata": {},
   "outputs": [],
   "source": [
    "def compile_model(model):  \n",
    "    # initiate SGD optimizer\n",
    "    opt = keras.optimizers.SGD(lr=0.1)\n",
    "    model.compile(loss='mean_squared_error', optimizer=opt, metrics=['accuracy'])"
   ]
  },
  {
   "cell_type": "code",
   "execution_count": 26,
   "metadata": {},
   "outputs": [],
   "source": [
    "def compile_model_lr(model):  \n",
    "    # initiate SGD optimizer\n",
    "    opt = keras.optimizers.SGD(lr=lr, decay=1e-6, momentum=0.9, nesterov=True)\n",
    "    model.compile(loss='mean_squared_error', optimizer=opt, metrics=['accuracy'])"
   ]
  },
  {
   "cell_type": "code",
   "execution_count": 27,
   "metadata": {},
   "outputs": [],
   "source": [
    "def fit_model_global(model, epochs):\n",
    "    now = datetime.datetime.now()\n",
    "    print (\"Training date and time : \")\n",
    "    print (now.strftime(\"%Y-%m-%d %H:%M:%S\"))\n",
    "    return model.fit(X_global, Y_global,\n",
    "                      batch_size=100,\n",
    "                      epochs=40,\n",
    "                      shuffle=True, callbacks=[tensorboard_callback])"
   ]
  },
  {
   "cell_type": "code",
   "execution_count": 28,
   "metadata": {},
   "outputs": [],
   "source": [
    "def fit_model_with_datasets(model, epochs, x_train, y_train):\n",
    "    now = datetime.datetime.now()\n",
    "    print (\"Training date and time : \")\n",
    "    print (now.strftime(\"%Y-%m-%d %H:%M:%S\"))\n",
    "    return model.fit(x_train, y_train,\n",
    "                      batch_size=batch_size,\n",
    "                      epochs=epochs,\n",
    "                      validation_split=0.2,\n",
    "                      shuffle=True, callbacks=[tensorboard_callback])"
   ]
  },
  {
   "cell_type": "code",
   "execution_count": 29,
   "metadata": {},
   "outputs": [
    {
     "data": {
      "text/plain": [
       "(200086, 62)"
      ]
     },
     "execution_count": 29,
     "metadata": {},
     "output_type": "execute_result"
    }
   ],
   "source": [
    "Y_global.shape"
   ]
  },
  {
   "cell_type": "code",
   "execution_count": 30,
   "metadata": {
    "scrolled": true
   },
   "outputs": [
    {
     "name": "stdout",
     "output_type": "stream",
     "text": [
      "Training date and time : \n",
      "2020-04-08 05:09:27\n",
      "Train on 160068 samples, validate on 40018 samples\n",
      "Epoch 1/60\n",
      "160068/160068 [==============================] - 14s 85us/sample - loss: 0.0156 - accuracy: 0.0855 - val_loss: 0.0157 - val_accuracy: 0.0839\n",
      "Epoch 2/60\n",
      "160068/160068 [==============================] - 13s 79us/sample - loss: 0.0155 - accuracy: 0.1430 - val_loss: 0.0157 - val_accuracy: 0.1094\n",
      "Epoch 3/60\n",
      "160068/160068 [==============================] - 12s 78us/sample - loss: 0.0153 - accuracy: 0.1788 - val_loss: 0.0157 - val_accuracy: 0.1153\n",
      "Epoch 4/60\n",
      "160068/160068 [==============================] - 13s 80us/sample - loss: 0.0152 - accuracy: 0.2048 - val_loss: 0.0156 - val_accuracy: 0.1330\n",
      "Epoch 5/60\n",
      "160068/160068 [==============================] - 13s 80us/sample - loss: 0.0149 - accuracy: 0.2343 - val_loss: 0.0154 - val_accuracy: 0.1612\n",
      "Epoch 6/60\n",
      "160068/160068 [==============================] - 14s 87us/sample - loss: 0.0146 - accuracy: 0.2716 - val_loss: 0.0153 - val_accuracy: 0.1842\n",
      "Epoch 7/60\n",
      "160068/160068 [==============================] - 14s 85us/sample - loss: 0.0142 - accuracy: 0.3178 - val_loss: 0.0150 - val_accuracy: 0.2162\n",
      "Epoch 8/60\n",
      "160068/160068 [==============================] - 13s 79us/sample - loss: 0.0137 - accuracy: 0.3539 - val_loss: 0.0148 - val_accuracy: 0.2379\n",
      "Epoch 9/60\n",
      "160068/160068 [==============================] - 13s 84us/sample - loss: 0.0133 - accuracy: 0.3864 - val_loss: 0.0145 - val_accuracy: 0.2708\n",
      "Epoch 10/60\n",
      "160068/160068 [==============================] - 13s 81us/sample - loss: 0.0128 - accuracy: 0.4143 - val_loss: 0.0142 - val_accuracy: 0.2968\n",
      "Epoch 11/60\n",
      "160068/160068 [==============================] - 13s 84us/sample - loss: 0.0124 - accuracy: 0.4320 - val_loss: 0.0140 - val_accuracy: 0.3068\n",
      "Epoch 12/60\n",
      "160068/160068 [==============================] - 12s 77us/sample - loss: 0.0121 - accuracy: 0.4427 - val_loss: 0.0137 - val_accuracy: 0.3242\n",
      "Epoch 13/60\n",
      "160068/160068 [==============================] - 14s 90us/sample - loss: 0.0118 - accuracy: 0.4507 - val_loss: 0.0135 - val_accuracy: 0.3350\n",
      "Epoch 14/60\n",
      "160068/160068 [==============================] - 13s 82us/sample - loss: 0.0116 - accuracy: 0.4576 - val_loss: 0.0133 - val_accuracy: 0.3414\n",
      "Epoch 15/60\n",
      "160068/160068 [==============================] - 13s 81us/sample - loss: 0.0114 - accuracy: 0.4652 - val_loss: 0.0132 - val_accuracy: 0.3479\n",
      "Epoch 16/60\n",
      "160068/160068 [==============================] - 13s 81us/sample - loss: 0.0113 - accuracy: 0.4723 - val_loss: 0.0130 - val_accuracy: 0.3590\n",
      "Epoch 17/60\n",
      "160068/160068 [==============================] - 13s 84us/sample - loss: 0.0111 - accuracy: 0.4800 - val_loss: 0.0128 - val_accuracy: 0.3761\n",
      "Epoch 18/60\n",
      "160068/160068 [==============================] - 14s 85us/sample - loss: 0.0110 - accuracy: 0.4864 - val_loss: 0.0127 - val_accuracy: 0.3797\n",
      "Epoch 19/60\n",
      "160068/160068 [==============================] - 13s 82us/sample - loss: 0.0109 - accuracy: 0.4919 - val_loss: 0.0126 - val_accuracy: 0.3884\n",
      "Epoch 20/60\n",
      "160068/160068 [==============================] - 13s 83us/sample - loss: 0.0108 - accuracy: 0.4967 - val_loss: 0.0124 - val_accuracy: 0.3984\n",
      "Epoch 21/60\n",
      "160068/160068 [==============================] - 13s 81us/sample - loss: 0.0107 - accuracy: 0.5013 - val_loss: 0.0124 - val_accuracy: 0.4001\n",
      "Epoch 22/60\n",
      "160068/160068 [==============================] - 12s 78us/sample - loss: 0.0106 - accuracy: 0.5062 - val_loss: 0.0122 - val_accuracy: 0.4081\n",
      "Epoch 23/60\n",
      "160068/160068 [==============================] - 13s 81us/sample - loss: 0.0105 - accuracy: 0.5114 - val_loss: 0.0121 - val_accuracy: 0.4205\n",
      "Epoch 24/60\n",
      "160068/160068 [==============================] - 14s 86us/sample - loss: 0.0104 - accuracy: 0.5163 - val_loss: 0.0119 - val_accuracy: 0.4274\n",
      "Epoch 25/60\n",
      "160068/160068 [==============================] - 13s 81us/sample - loss: 0.0103 - accuracy: 0.5216 - val_loss: 0.0119 - val_accuracy: 0.4314\n",
      "Epoch 26/60\n",
      "160068/160068 [==============================] - 13s 82us/sample - loss: 0.0102 - accuracy: 0.5258 - val_loss: 0.0119 - val_accuracy: 0.4338\n",
      "Epoch 27/60\n",
      "160068/160068 [==============================] - 15s 92us/sample - loss: 0.0102 - accuracy: 0.5294 - val_loss: 0.0117 - val_accuracy: 0.4444\n",
      "Epoch 28/60\n",
      "160068/160068 [==============================] - 13s 83us/sample - loss: 0.0101 - accuracy: 0.5334 - val_loss: 0.0117 - val_accuracy: 0.4418\n",
      "Epoch 29/60\n",
      "160068/160068 [==============================] - 13s 79us/sample - loss: 0.0100 - accuracy: 0.5360 - val_loss: 0.0114 - val_accuracy: 0.4545\n",
      "Epoch 30/60\n",
      "160068/160068 [==============================] - 13s 81us/sample - loss: 0.0100 - accuracy: 0.5382 - val_loss: 0.0115 - val_accuracy: 0.4499\n",
      "Epoch 31/60\n",
      "160068/160068 [==============================] - 13s 81us/sample - loss: 0.0099 - accuracy: 0.5409 - val_loss: 0.0112 - val_accuracy: 0.4637\n",
      "Epoch 32/60\n",
      "160068/160068 [==============================] - 13s 78us/sample - loss: 0.0098 - accuracy: 0.5439 - val_loss: 0.0112 - val_accuracy: 0.4687\n",
      "Epoch 33/60\n",
      "160068/160068 [==============================] - 13s 79us/sample - loss: 0.0098 - accuracy: 0.5454 - val_loss: 0.0112 - val_accuracy: 0.4606\n",
      "Epoch 34/60\n",
      "160068/160068 [==============================] - 13s 80us/sample - loss: 0.0097 - accuracy: 0.5483 - val_loss: 0.0110 - val_accuracy: 0.4738\n",
      "Epoch 35/60\n",
      "160068/160068 [==============================] - 13s 80us/sample - loss: 0.0097 - accuracy: 0.5506 - val_loss: 0.0110 - val_accuracy: 0.4754\n",
      "Epoch 36/60\n",
      "160068/160068 [==============================] - 13s 83us/sample - loss: 0.0096 - accuracy: 0.5533 - val_loss: 0.0108 - val_accuracy: 0.4868\n",
      "Epoch 37/60\n",
      "160068/160068 [==============================] - 13s 80us/sample - loss: 0.0096 - accuracy: 0.5572 - val_loss: 0.0109 - val_accuracy: 0.4770\n",
      "Epoch 38/60\n",
      "160068/160068 [==============================] - 13s 82us/sample - loss: 0.0095 - accuracy: 0.5599 - val_loss: 0.0108 - val_accuracy: 0.4871\n",
      "Epoch 39/60\n",
      "160068/160068 [==============================] - 13s 80us/sample - loss: 0.0095 - accuracy: 0.5628 - val_loss: 0.0107 - val_accuracy: 0.4960\n",
      "Epoch 40/60\n",
      "160068/160068 [==============================] - 13s 80us/sample - loss: 0.0094 - accuracy: 0.5674 - val_loss: 0.0107 - val_accuracy: 0.4932\n",
      "Epoch 41/60\n",
      "160068/160068 [==============================] - 15s 93us/sample - loss: 0.0093 - accuracy: 0.5725 - val_loss: 0.0107 - val_accuracy: 0.4932\n",
      "Epoch 42/60\n",
      "160068/160068 [==============================] - 13s 79us/sample - loss: 0.0093 - accuracy: 0.5775 - val_loss: 0.0104 - val_accuracy: 0.5166\n",
      "Epoch 43/60\n",
      "160068/160068 [==============================] - 13s 82us/sample - loss: 0.0092 - accuracy: 0.5826 - val_loss: 0.0103 - val_accuracy: 0.5213\n",
      "Epoch 44/60\n",
      "160068/160068 [==============================] - 13s 80us/sample - loss: 0.0091 - accuracy: 0.5868 - val_loss: 0.0103 - val_accuracy: 0.5278\n",
      "Epoch 45/60\n",
      "160068/160068 [==============================] - 13s 79us/sample - loss: 0.0091 - accuracy: 0.5905 - val_loss: 0.0102 - val_accuracy: 0.5339\n",
      "Epoch 46/60\n",
      "160068/160068 [==============================] - 13s 80us/sample - loss: 0.0090 - accuracy: 0.5936 - val_loss: 0.0101 - val_accuracy: 0.5389\n",
      "Epoch 47/60\n",
      "160068/160068 [==============================] - 13s 80us/sample - loss: 0.0090 - accuracy: 0.5965 - val_loss: 0.0100 - val_accuracy: 0.5459\n",
      "Epoch 48/60\n",
      "160068/160068 [==============================] - 13s 83us/sample - loss: 0.0089 - accuracy: 0.5983 - val_loss: 0.0100 - val_accuracy: 0.5413\n",
      "Epoch 49/60\n",
      "160068/160068 [==============================] - 13s 79us/sample - loss: 0.0089 - accuracy: 0.6011 - val_loss: 0.0099 - val_accuracy: 0.5490\n",
      "Epoch 50/60\n",
      "160068/160068 [==============================] - 13s 81us/sample - loss: 0.0088 - accuracy: 0.6038 - val_loss: 0.0098 - val_accuracy: 0.5538\n",
      "Epoch 51/60\n",
      "160068/160068 [==============================] - 13s 81us/sample - loss: 0.0088 - accuracy: 0.6056 - val_loss: 0.0097 - val_accuracy: 0.5627\n",
      "Epoch 52/60\n",
      "160068/160068 [==============================] - 12s 78us/sample - loss: 0.0088 - accuracy: 0.6081 - val_loss: 0.0098 - val_accuracy: 0.5537\n",
      "Epoch 53/60\n",
      "160068/160068 [==============================] - 12s 77us/sample - loss: 0.0087 - accuracy: 0.6102 - val_loss: 0.0098 - val_accuracy: 0.5579\n"
     ]
    },
    {
     "name": "stdout",
     "output_type": "stream",
     "text": [
      "Epoch 54/60\n",
      "160068/160068 [==============================] - 13s 80us/sample - loss: 0.0087 - accuracy: 0.6119 - val_loss: 0.0097 - val_accuracy: 0.5583\n",
      "Epoch 55/60\n",
      "160068/160068 [==============================] - 15s 92us/sample - loss: 0.0086 - accuracy: 0.6136 - val_loss: 0.0096 - val_accuracy: 0.5653\n",
      "Epoch 56/60\n",
      "160068/160068 [==============================] - 13s 80us/sample - loss: 0.0086 - accuracy: 0.6159 - val_loss: 0.0096 - val_accuracy: 0.5666\n",
      "Epoch 57/60\n",
      "160068/160068 [==============================] - 13s 80us/sample - loss: 0.0086 - accuracy: 0.6171 - val_loss: 0.0094 - val_accuracy: 0.5746\n",
      "Epoch 58/60\n",
      "160068/160068 [==============================] - 13s 82us/sample - loss: 0.0085 - accuracy: 0.6189 - val_loss: 0.0096 - val_accuracy: 0.5658\n",
      "Epoch 59/60\n",
      "160068/160068 [==============================] - 13s 80us/sample - loss: 0.0085 - accuracy: 0.6204 - val_loss: 0.0096 - val_accuracy: 0.5662\n",
      "Epoch 60/60\n",
      "160068/160068 [==============================] - 12s 78us/sample - loss: 0.0085 - accuracy: 0.6222 - val_loss: 0.0094 - val_accuracy: 0.5744\n"
     ]
    },
    {
     "data": {
      "text/plain": [
       "<tensorflow.python.keras.callbacks.History at 0x7f453fe52e10>"
      ]
     },
     "execution_count": 30,
     "metadata": {},
     "output_type": "execute_result"
    }
   ],
   "source": [
    "model1 = custom_model()\n",
    "compile_model(model1)\n",
    "fit_model_with_datasets(model1, 60, X_global, Y_global)"
   ]
  },
  {
   "cell_type": "code",
   "execution_count": 31,
   "metadata": {},
   "outputs": [],
   "source": [
    "model_list = list()\n",
    "for _ in range(10):\n",
    "    model_list.append(tf.keras.models.clone_model(model1)) \n",
    "    model_list[_].set_weights(model1.get_weights())"
   ]
  },
  {
   "cell_type": "code",
   "execution_count": 32,
   "metadata": {},
   "outputs": [],
   "source": [
    "# sort models according to similarity. We arbitrarily take the model1 as a \"standard\"\n",
    "standard_model = tf.keras.models.clone_model(model1)\n",
    "standard_model.set_weights(model_list[0].get_weights())"
   ]
  },
  {
   "cell_type": "code",
   "execution_count": 33,
   "metadata": {},
   "outputs": [],
   "source": [
    "import semantic_drift"
   ]
  },
  {
   "cell_type": "code",
   "execution_count": 34,
   "metadata": {},
   "outputs": [
    {
     "data": {
      "text/plain": [
       "<module 'semantic_drift' from '/home/ubuntu/fed-learn-experiment/semantic_drift.py'>"
      ]
     },
     "execution_count": 34,
     "metadata": {},
     "output_type": "execute_result"
    }
   ],
   "source": [
    "importlib.reload(semantic_drift)"
   ]
  },
  {
   "cell_type": "code",
   "execution_count": 35,
   "metadata": {},
   "outputs": [],
   "source": [
    "dist_list = [semantic_drift.l1_distance(standard_model, m) for m in model_list]"
   ]
  },
  {
   "cell_type": "markdown",
   "metadata": {},
   "source": [
    "### Conduct transfer learning in local models using different datasets & epochs\n"
   ]
  },
  {
   "cell_type": "code",
   "execution_count": 36,
   "metadata": {},
   "outputs": [
    {
     "data": {
      "text/plain": [
       "(20025, 62)"
      ]
     },
     "execution_count": 36,
     "metadata": {},
     "output_type": "execute_result"
    }
   ],
   "source": [
    "local_data[0][1].shape"
   ]
  },
  {
   "cell_type": "code",
   "execution_count": 37,
   "metadata": {
    "scrolled": true
   },
   "outputs": [
    {
     "name": "stdout",
     "output_type": "stream",
     "text": [
      "Training date and time : \n",
      "2020-04-08 05:22:33\n",
      "Train on 16020 samples, validate on 4005 samples\n",
      "Epoch 1/5\n",
      "16020/16020 [==============================] - 2s 107us/sample - loss: 0.0090 - accuracy: 0.5973 - val_loss: 0.0115 - val_accuracy: 0.4602\n",
      "Epoch 2/5\n",
      "16020/16020 [==============================] - 1s 82us/sample - loss: 0.0089 - accuracy: 0.5979 - val_loss: 0.0118 - val_accuracy: 0.4469\n",
      "Epoch 3/5\n",
      "16020/16020 [==============================] - 1s 80us/sample - loss: 0.0089 - accuracy: 0.6001 - val_loss: 0.0121 - val_accuracy: 0.4277\n",
      "Epoch 4/5\n",
      "16020/16020 [==============================] - 1s 82us/sample - loss: 0.0089 - accuracy: 0.6021 - val_loss: 0.0122 - val_accuracy: 0.4207\n",
      "Epoch 5/5\n",
      "16020/16020 [==============================] - 1s 80us/sample - loss: 0.0089 - accuracy: 0.6031 - val_loss: 0.0120 - val_accuracy: 0.4280\n",
      "Training date and time : \n",
      "2020-04-08 05:22:40\n",
      "Train on 16087 samples, validate on 4022 samples\n",
      "Epoch 1/10\n",
      "16087/16087 [==============================] - 2s 111us/sample - loss: 0.0084 - accuracy: 0.6288 - val_loss: 0.0079 - val_accuracy: 0.6459\n",
      "Epoch 2/10\n",
      "16087/16087 [==============================] - 1s 81us/sample - loss: 0.0083 - accuracy: 0.6352 - val_loss: 0.0079 - val_accuracy: 0.6467\n",
      "Epoch 3/10\n",
      "16087/16087 [==============================] - 1s 82us/sample - loss: 0.0082 - accuracy: 0.6375 - val_loss: 0.0080 - val_accuracy: 0.6425\n",
      "Epoch 4/10\n",
      "16087/16087 [==============================] - 1s 83us/sample - loss: 0.0082 - accuracy: 0.6390 - val_loss: 0.0079 - val_accuracy: 0.6484\n",
      "Epoch 5/10\n",
      "16087/16087 [==============================] - 1s 86us/sample - loss: 0.0082 - accuracy: 0.6405 - val_loss: 0.0079 - val_accuracy: 0.6459\n",
      "Epoch 6/10\n",
      "16087/16087 [==============================] - 1s 84us/sample - loss: 0.0081 - accuracy: 0.6406 - val_loss: 0.0079 - val_accuracy: 0.6452\n",
      "Epoch 7/10\n",
      "16087/16087 [==============================] - 1s 82us/sample - loss: 0.0081 - accuracy: 0.6427 - val_loss: 0.0078 - val_accuracy: 0.6459\n",
      "Epoch 8/10\n",
      "16087/16087 [==============================] - 1s 82us/sample - loss: 0.0081 - accuracy: 0.6427 - val_loss: 0.0078 - val_accuracy: 0.6454\n",
      "Epoch 9/10\n",
      "16087/16087 [==============================] - 1s 80us/sample - loss: 0.0081 - accuracy: 0.6442 - val_loss: 0.0078 - val_accuracy: 0.6494\n",
      "Epoch 10/10\n",
      "16087/16087 [==============================] - 1s 82us/sample - loss: 0.0081 - accuracy: 0.6452 - val_loss: 0.0079 - val_accuracy: 0.6472\n",
      "Training date and time : \n",
      "2020-04-08 05:22:54\n",
      "Train on 16184 samples, validate on 4046 samples\n",
      "Epoch 1/15\n",
      "16184/16184 [==============================] - 2s 107us/sample - loss: 0.0083 - accuracy: 0.6311 - val_loss: 0.0085 - val_accuracy: 0.6228\n",
      "Epoch 2/15\n",
      "16184/16184 [==============================] - 1s 80us/sample - loss: 0.0083 - accuracy: 0.6340 - val_loss: 0.0085 - val_accuracy: 0.6298\n",
      "Epoch 3/15\n",
      "16184/16184 [==============================] - 1s 81us/sample - loss: 0.0083 - accuracy: 0.6335 - val_loss: 0.0085 - val_accuracy: 0.6295\n",
      "Epoch 4/15\n",
      "16184/16184 [==============================] - 1s 81us/sample - loss: 0.0083 - accuracy: 0.6349 - val_loss: 0.0086 - val_accuracy: 0.6204\n",
      "Epoch 5/15\n",
      "16184/16184 [==============================] - 1s 91us/sample - loss: 0.0083 - accuracy: 0.6346 - val_loss: 0.0085 - val_accuracy: 0.6241\n",
      "Epoch 6/15\n",
      "16184/16184 [==============================] - 1s 79us/sample - loss: 0.0082 - accuracy: 0.6362 - val_loss: 0.0085 - val_accuracy: 0.6335\n",
      "Epoch 7/15\n",
      "16184/16184 [==============================] - 1s 81us/sample - loss: 0.0082 - accuracy: 0.6377 - val_loss: 0.0085 - val_accuracy: 0.6298\n",
      "Epoch 8/15\n",
      "16184/16184 [==============================] - 1s 86us/sample - loss: 0.0082 - accuracy: 0.6388 - val_loss: 0.0085 - val_accuracy: 0.6275\n",
      "Epoch 9/15\n",
      "16184/16184 [==============================] - 1s 82us/sample - loss: 0.0082 - accuracy: 0.6372 - val_loss: 0.0085 - val_accuracy: 0.6290\n",
      "Epoch 10/15\n",
      "16184/16184 [==============================] - 1s 80us/sample - loss: 0.0082 - accuracy: 0.6376 - val_loss: 0.0085 - val_accuracy: 0.6290\n",
      "Epoch 11/15\n",
      "16184/16184 [==============================] - 1s 83us/sample - loss: 0.0082 - accuracy: 0.6383 - val_loss: 0.0085 - val_accuracy: 0.6288\n",
      "Epoch 12/15\n",
      "16184/16184 [==============================] - 1s 88us/sample - loss: 0.0082 - accuracy: 0.6393 - val_loss: 0.0085 - val_accuracy: 0.6253\n",
      "Epoch 13/15\n",
      "16184/16184 [==============================] - 1s 87us/sample - loss: 0.0082 - accuracy: 0.6398 - val_loss: 0.0085 - val_accuracy: 0.6253\n",
      "Epoch 14/15\n",
      "16184/16184 [==============================] - 1s 85us/sample - loss: 0.0082 - accuracy: 0.6414 - val_loss: 0.0085 - val_accuracy: 0.6283\n",
      "Epoch 15/15\n",
      "16184/16184 [==============================] - 1s 85us/sample - loss: 0.0082 - accuracy: 0.6408 - val_loss: 0.0085 - val_accuracy: 0.6280\n",
      "Training date and time : \n",
      "2020-04-08 05:23:14\n",
      "Train on 16069 samples, validate on 4018 samples\n",
      "Epoch 1/20\n",
      "16069/16069 [==============================] - 2s 109us/sample - loss: 0.0084 - accuracy: 0.6281 - val_loss: 0.0095 - val_accuracy: 0.5662\n",
      "Epoch 2/20\n",
      "16069/16069 [==============================] - 1s 83us/sample - loss: 0.0084 - accuracy: 0.6300 - val_loss: 0.0095 - val_accuracy: 0.5707\n",
      "Epoch 3/20\n",
      "16069/16069 [==============================] - 1s 83us/sample - loss: 0.0083 - accuracy: 0.6287 - val_loss: 0.0095 - val_accuracy: 0.5727\n",
      "Epoch 4/20\n",
      "16069/16069 [==============================] - 1s 80us/sample - loss: 0.0083 - accuracy: 0.6318 - val_loss: 0.0095 - val_accuracy: 0.5669\n",
      "Epoch 5/20\n",
      "16069/16069 [==============================] - 1s 83us/sample - loss: 0.0083 - accuracy: 0.6314 - val_loss: 0.0095 - val_accuracy: 0.5679\n",
      "Epoch 6/20\n",
      "16069/16069 [==============================] - 1s 82us/sample - loss: 0.0083 - accuracy: 0.6317 - val_loss: 0.0095 - val_accuracy: 0.5679\n",
      "Epoch 7/20\n",
      "16069/16069 [==============================] - 1s 82us/sample - loss: 0.0083 - accuracy: 0.6317 - val_loss: 0.0094 - val_accuracy: 0.5699\n",
      "Epoch 8/20\n",
      "16069/16069 [==============================] - 1s 83us/sample - loss: 0.0082 - accuracy: 0.6336 - val_loss: 0.0094 - val_accuracy: 0.5777\n",
      "Epoch 9/20\n",
      "16069/16069 [==============================] - 1s 82us/sample - loss: 0.0082 - accuracy: 0.6332 - val_loss: 0.0094 - val_accuracy: 0.5727\n",
      "Epoch 10/20\n",
      "16069/16069 [==============================] - 1s 82us/sample - loss: 0.0082 - accuracy: 0.6353 - val_loss: 0.0094 - val_accuracy: 0.5717\n",
      "Epoch 11/20\n",
      "16069/16069 [==============================] - 1s 82us/sample - loss: 0.0082 - accuracy: 0.6359 - val_loss: 0.0094 - val_accuracy: 0.5754\n",
      "Epoch 12/20\n",
      "16069/16069 [==============================] - 1s 84us/sample - loss: 0.0082 - accuracy: 0.6362 - val_loss: 0.0094 - val_accuracy: 0.5714\n",
      "Epoch 13/20\n",
      "16069/16069 [==============================] - 1s 79us/sample - loss: 0.0082 - accuracy: 0.6349 - val_loss: 0.0094 - val_accuracy: 0.5739\n",
      "Epoch 14/20\n",
      "16069/16069 [==============================] - 1s 82us/sample - loss: 0.0082 - accuracy: 0.6360 - val_loss: 0.0094 - val_accuracy: 0.5679\n",
      "Epoch 15/20\n",
      "16069/16069 [==============================] - 1s 83us/sample - loss: 0.0082 - accuracy: 0.6354 - val_loss: 0.0093 - val_accuracy: 0.5789\n",
      "Epoch 16/20\n",
      "16069/16069 [==============================] - 1s 81us/sample - loss: 0.0082 - accuracy: 0.6374 - val_loss: 0.0093 - val_accuracy: 0.5737\n",
      "Epoch 17/20\n",
      "16069/16069 [==============================] - 1s 83us/sample - loss: 0.0081 - accuracy: 0.6372 - val_loss: 0.0094 - val_accuracy: 0.5699\n",
      "Epoch 18/20\n",
      "16069/16069 [==============================] - 1s 82us/sample - loss: 0.0081 - accuracy: 0.6379 - val_loss: 0.0093 - val_accuracy: 0.5772\n",
      "Epoch 19/20\n",
      "16069/16069 [==============================] - 1s 80us/sample - loss: 0.0081 - accuracy: 0.6394 - val_loss: 0.0093 - val_accuracy: 0.5784\n",
      "Epoch 20/20\n",
      "16069/16069 [==============================] - 1s 82us/sample - loss: 0.0081 - accuracy: 0.6395 - val_loss: 0.0093 - val_accuracy: 0.5744\n",
      "Training date and time : \n",
      "2020-04-08 05:23:41\n",
      "Train on 16109 samples, validate on 4028 samples\n",
      "Epoch 1/25\n",
      "16109/16109 [==============================] - 2s 108us/sample - loss: 0.0095 - accuracy: 0.5656 - val_loss: 0.0093 - val_accuracy: 0.5794\n",
      "Epoch 2/25\n",
      "16109/16109 [==============================] - 1s 80us/sample - loss: 0.0095 - accuracy: 0.5662 - val_loss: 0.0092 - val_accuracy: 0.5849\n"
     ]
    },
    {
     "name": "stdout",
     "output_type": "stream",
     "text": [
      "Epoch 3/25\n",
      "16109/16109 [==============================] - 1s 86us/sample - loss: 0.0094 - accuracy: 0.5676 - val_loss: 0.0091 - val_accuracy: 0.5861\n",
      "Epoch 4/25\n",
      "16109/16109 [==============================] - 1s 82us/sample - loss: 0.0094 - accuracy: 0.5692 - val_loss: 0.0091 - val_accuracy: 0.5852\n",
      "Epoch 5/25\n",
      "16109/16109 [==============================] - 1s 81us/sample - loss: 0.0094 - accuracy: 0.5699 - val_loss: 0.0091 - val_accuracy: 0.5909\n",
      "Epoch 6/25\n",
      "16109/16109 [==============================] - 1s 86us/sample - loss: 0.0094 - accuracy: 0.5715 - val_loss: 0.0091 - val_accuracy: 0.5884\n",
      "Epoch 7/25\n",
      "16109/16109 [==============================] - 1s 85us/sample - loss: 0.0093 - accuracy: 0.5719 - val_loss: 0.0091 - val_accuracy: 0.5886\n",
      "Epoch 8/25\n",
      "16109/16109 [==============================] - 1s 82us/sample - loss: 0.0093 - accuracy: 0.5712 - val_loss: 0.0091 - val_accuracy: 0.5847\n",
      "Epoch 9/25\n",
      "16109/16109 [==============================] - 2s 97us/sample - loss: 0.0093 - accuracy: 0.5710 - val_loss: 0.0091 - val_accuracy: 0.5847\n",
      "Epoch 10/25\n",
      "16109/16109 [==============================] - 1s 84us/sample - loss: 0.0093 - accuracy: 0.5734 - val_loss: 0.0091 - val_accuracy: 0.5906\n",
      "Epoch 11/25\n",
      "16109/16109 [==============================] - 1s 82us/sample - loss: 0.0093 - accuracy: 0.5742 - val_loss: 0.0090 - val_accuracy: 0.5916\n",
      "Epoch 12/25\n",
      "16109/16109 [==============================] - 1s 79us/sample - loss: 0.0093 - accuracy: 0.5755 - val_loss: 0.0090 - val_accuracy: 0.5931\n",
      "Epoch 13/25\n",
      "16109/16109 [==============================] - 1s 85us/sample - loss: 0.0093 - accuracy: 0.5753 - val_loss: 0.0090 - val_accuracy: 0.5814\n",
      "Epoch 14/25\n",
      "16109/16109 [==============================] - 2s 97us/sample - loss: 0.0092 - accuracy: 0.5768 - val_loss: 0.0090 - val_accuracy: 0.5871\n",
      "Epoch 15/25\n",
      "16109/16109 [==============================] - 1s 85us/sample - loss: 0.0092 - accuracy: 0.5764 - val_loss: 0.0090 - val_accuracy: 0.5881\n",
      "Epoch 16/25\n",
      "16109/16109 [==============================] - 1s 80us/sample - loss: 0.0092 - accuracy: 0.5771 - val_loss: 0.0090 - val_accuracy: 0.5916\n",
      "Epoch 17/25\n",
      "16109/16109 [==============================] - 1s 81us/sample - loss: 0.0092 - accuracy: 0.5779 - val_loss: 0.0090 - val_accuracy: 0.5911\n",
      "Epoch 18/25\n",
      "16109/16109 [==============================] - 1s 81us/sample - loss: 0.0092 - accuracy: 0.5776 - val_loss: 0.0089 - val_accuracy: 0.5919\n",
      "Epoch 19/25\n",
      "16109/16109 [==============================] - 1s 81us/sample - loss: 0.0092 - accuracy: 0.5789 - val_loss: 0.0090 - val_accuracy: 0.5983\n",
      "Epoch 20/25\n",
      "16109/16109 [==============================] - 1s 78us/sample - loss: 0.0092 - accuracy: 0.5787 - val_loss: 0.0089 - val_accuracy: 0.5904\n",
      "Epoch 21/25\n",
      "16109/16109 [==============================] - 1s 80us/sample - loss: 0.0092 - accuracy: 0.5800 - val_loss: 0.0090 - val_accuracy: 0.5926\n",
      "Epoch 22/25\n",
      "16109/16109 [==============================] - 1s 78us/sample - loss: 0.0092 - accuracy: 0.5809 - val_loss: 0.0089 - val_accuracy: 0.5963\n",
      "Epoch 23/25\n",
      "16109/16109 [==============================] - 1s 82us/sample - loss: 0.0091 - accuracy: 0.5797 - val_loss: 0.0089 - val_accuracy: 0.5943\n",
      "Epoch 24/25\n",
      "16109/16109 [==============================] - 1s 83us/sample - loss: 0.0091 - accuracy: 0.5810 - val_loss: 0.0090 - val_accuracy: 0.5961\n",
      "Epoch 25/25\n",
      "16109/16109 [==============================] - 3s 188us/sample - loss: 0.0091 - accuracy: 0.5808 - val_loss: 0.0089 - val_accuracy: 0.5953\n",
      "Training date and time : \n",
      "2020-04-08 05:24:17\n",
      "Train on 16090 samples, validate on 4023 samples\n",
      "Epoch 1/30\n",
      "16090/16090 [==============================] - 2s 107us/sample - loss: 0.0097 - accuracy: 0.5590 - val_loss: 0.0103 - val_accuracy: 0.5217\n",
      "Epoch 2/30\n",
      "16090/16090 [==============================] - 1s 81us/sample - loss: 0.0096 - accuracy: 0.5610 - val_loss: 0.0103 - val_accuracy: 0.5198\n",
      "Epoch 3/30\n",
      "16090/16090 [==============================] - 1s 81us/sample - loss: 0.0096 - accuracy: 0.5616 - val_loss: 0.0103 - val_accuracy: 0.5265\n",
      "Epoch 4/30\n",
      "16090/16090 [==============================] - 1s 87us/sample - loss: 0.0096 - accuracy: 0.5623 - val_loss: 0.0102 - val_accuracy: 0.5232\n",
      "Epoch 5/30\n",
      "16090/16090 [==============================] - 1s 80us/sample - loss: 0.0096 - accuracy: 0.5635 - val_loss: 0.0102 - val_accuracy: 0.5265\n",
      "Epoch 6/30\n",
      "16090/16090 [==============================] - 1s 87us/sample - loss: 0.0096 - accuracy: 0.5641 - val_loss: 0.0102 - val_accuracy: 0.5237\n",
      "Epoch 7/30\n",
      "16090/16090 [==============================] - 1s 80us/sample - loss: 0.0095 - accuracy: 0.5664 - val_loss: 0.0103 - val_accuracy: 0.5232\n",
      "Epoch 8/30\n",
      "16090/16090 [==============================] - 1s 87us/sample - loss: 0.0095 - accuracy: 0.5647 - val_loss: 0.0101 - val_accuracy: 0.5240\n",
      "Epoch 9/30\n",
      "16090/16090 [==============================] - 1s 82us/sample - loss: 0.0095 - accuracy: 0.5649 - val_loss: 0.0101 - val_accuracy: 0.5260\n",
      "Epoch 10/30\n",
      "16090/16090 [==============================] - 1s 81us/sample - loss: 0.0095 - accuracy: 0.5655 - val_loss: 0.0102 - val_accuracy: 0.5240\n",
      "Epoch 11/30\n",
      "16090/16090 [==============================] - 1s 84us/sample - loss: 0.0095 - accuracy: 0.5666 - val_loss: 0.0101 - val_accuracy: 0.5267\n",
      "Epoch 12/30\n",
      "16090/16090 [==============================] - 1s 83us/sample - loss: 0.0095 - accuracy: 0.5682 - val_loss: 0.0101 - val_accuracy: 0.5297\n",
      "Epoch 13/30\n",
      "16090/16090 [==============================] - 1s 86us/sample - loss: 0.0095 - accuracy: 0.5682 - val_loss: 0.0102 - val_accuracy: 0.5227\n",
      "Epoch 14/30\n",
      "16090/16090 [==============================] - 1s 81us/sample - loss: 0.0095 - accuracy: 0.5694 - val_loss: 0.0101 - val_accuracy: 0.5297\n",
      "Epoch 15/30\n",
      "16090/16090 [==============================] - 1s 93us/sample - loss: 0.0095 - accuracy: 0.5695 - val_loss: 0.0101 - val_accuracy: 0.5309\n",
      "Epoch 16/30\n",
      "16090/16090 [==============================] - 1s 80us/sample - loss: 0.0094 - accuracy: 0.5693 - val_loss: 0.0101 - val_accuracy: 0.5312\n",
      "Epoch 17/30\n",
      "16090/16090 [==============================] - 1s 85us/sample - loss: 0.0094 - accuracy: 0.5694 - val_loss: 0.0101 - val_accuracy: 0.5270\n",
      "Epoch 18/30\n",
      "16090/16090 [==============================] - 1s 85us/sample - loss: 0.0094 - accuracy: 0.5716 - val_loss: 0.0101 - val_accuracy: 0.5307\n",
      "Epoch 19/30\n",
      "16090/16090 [==============================] - 1s 80us/sample - loss: 0.0094 - accuracy: 0.5709 - val_loss: 0.0101 - val_accuracy: 0.5297\n",
      "Epoch 20/30\n",
      "16090/16090 [==============================] - 1s 79us/sample - loss: 0.0094 - accuracy: 0.5709 - val_loss: 0.0101 - val_accuracy: 0.5302\n",
      "Epoch 21/30\n",
      "16090/16090 [==============================] - 1s 86us/sample - loss: 0.0094 - accuracy: 0.5720 - val_loss: 0.0100 - val_accuracy: 0.5339\n",
      "Epoch 22/30\n",
      "16090/16090 [==============================] - 1s 79us/sample - loss: 0.0094 - accuracy: 0.5716 - val_loss: 0.0101 - val_accuracy: 0.5314\n",
      "Epoch 23/30\n",
      "16090/16090 [==============================] - 1s 84us/sample - loss: 0.0094 - accuracy: 0.5727 - val_loss: 0.0101 - val_accuracy: 0.5265\n",
      "Epoch 24/30\n",
      "16090/16090 [==============================] - 1s 81us/sample - loss: 0.0094 - accuracy: 0.5733 - val_loss: 0.0101 - val_accuracy: 0.5302\n",
      "Epoch 25/30\n",
      "16090/16090 [==============================] - 1s 81us/sample - loss: 0.0094 - accuracy: 0.5725 - val_loss: 0.0101 - val_accuracy: 0.5314\n",
      "Epoch 26/30\n",
      "16090/16090 [==============================] - 1s 83us/sample - loss: 0.0093 - accuracy: 0.5734 - val_loss: 0.0100 - val_accuracy: 0.5344\n",
      "Epoch 27/30\n",
      "16090/16090 [==============================] - 1s 80us/sample - loss: 0.0093 - accuracy: 0.5743 - val_loss: 0.0101 - val_accuracy: 0.5309\n",
      "Epoch 28/30\n",
      "16090/16090 [==============================] - 1s 78us/sample - loss: 0.0093 - accuracy: 0.5749 - val_loss: 0.0100 - val_accuracy: 0.5327\n",
      "Epoch 29/30\n",
      "16090/16090 [==============================] - 1s 85us/sample - loss: 0.0093 - accuracy: 0.5739 - val_loss: 0.0100 - val_accuracy: 0.5339\n",
      "Epoch 30/30\n",
      "16090/16090 [==============================] - 1s 82us/sample - loss: 0.0093 - accuracy: 0.5740 - val_loss: 0.0100 - val_accuracy: 0.5347\n",
      "Training date and time : \n",
      "2020-04-08 05:24:57\n",
      "Train on 16220 samples, validate on 4056 samples\n",
      "Epoch 1/35\n"
     ]
    },
    {
     "name": "stdout",
     "output_type": "stream",
     "text": [
      "16220/16220 [==============================] - 2s 107us/sample - loss: 0.0093 - accuracy: 0.5745 - val_loss: 0.0089 - val_accuracy: 0.6023\n",
      "Epoch 2/35\n",
      "16220/16220 [==============================] - 1s 80us/sample - loss: 0.0092 - accuracy: 0.5774 - val_loss: 0.0089 - val_accuracy: 0.5996\n",
      "Epoch 3/35\n",
      "16220/16220 [==============================] - 1s 84us/sample - loss: 0.0092 - accuracy: 0.5775 - val_loss: 0.0088 - val_accuracy: 0.6050\n",
      "Epoch 4/35\n",
      "16220/16220 [==============================] - 1s 82us/sample - loss: 0.0092 - accuracy: 0.5806 - val_loss: 0.0089 - val_accuracy: 0.6058\n",
      "Epoch 5/35\n",
      "16220/16220 [==============================] - 1s 83us/sample - loss: 0.0092 - accuracy: 0.5801 - val_loss: 0.0089 - val_accuracy: 0.6021\n",
      "Epoch 6/35\n",
      "16220/16220 [==============================] - 1s 81us/sample - loss: 0.0091 - accuracy: 0.5816 - val_loss: 0.0088 - val_accuracy: 0.6097\n",
      "Epoch 7/35\n",
      "16220/16220 [==============================] - 1s 83us/sample - loss: 0.0091 - accuracy: 0.5828 - val_loss: 0.0089 - val_accuracy: 0.6065\n",
      "Epoch 8/35\n",
      "16220/16220 [==============================] - 1s 84us/sample - loss: 0.0091 - accuracy: 0.5823 - val_loss: 0.0088 - val_accuracy: 0.6050\n",
      "Epoch 9/35\n",
      "16220/16220 [==============================] - 1s 81us/sample - loss: 0.0091 - accuracy: 0.5855 - val_loss: 0.0088 - val_accuracy: 0.6016\n",
      "Epoch 10/35\n",
      "16220/16220 [==============================] - 1s 84us/sample - loss: 0.0091 - accuracy: 0.5848 - val_loss: 0.0087 - val_accuracy: 0.6065\n",
      "Epoch 11/35\n",
      "16220/16220 [==============================] - 1s 81us/sample - loss: 0.0090 - accuracy: 0.5867 - val_loss: 0.0088 - val_accuracy: 0.6058\n",
      "Epoch 12/35\n",
      "16220/16220 [==============================] - 1s 80us/sample - loss: 0.0090 - accuracy: 0.5872 - val_loss: 0.0088 - val_accuracy: 0.6045\n",
      "Epoch 13/35\n",
      "16220/16220 [==============================] - 1s 85us/sample - loss: 0.0090 - accuracy: 0.5866 - val_loss: 0.0087 - val_accuracy: 0.6095\n",
      "Epoch 14/35\n",
      "16220/16220 [==============================] - 1s 82us/sample - loss: 0.0090 - accuracy: 0.5882 - val_loss: 0.0087 - val_accuracy: 0.6095\n",
      "Epoch 15/35\n",
      "16220/16220 [==============================] - 1s 82us/sample - loss: 0.0090 - accuracy: 0.5893 - val_loss: 0.0087 - val_accuracy: 0.6090\n",
      "Epoch 16/35\n",
      "16220/16220 [==============================] - 1s 82us/sample - loss: 0.0090 - accuracy: 0.5900 - val_loss: 0.0087 - val_accuracy: 0.6031\n",
      "Epoch 17/35\n",
      "16220/16220 [==============================] - 1s 82us/sample - loss: 0.0089 - accuracy: 0.5902 - val_loss: 0.0087 - val_accuracy: 0.6090\n",
      "Epoch 18/35\n",
      "16220/16220 [==============================] - 1s 81us/sample - loss: 0.0089 - accuracy: 0.5914 - val_loss: 0.0087 - val_accuracy: 0.6109\n",
      "Epoch 19/35\n",
      "16220/16220 [==============================] - 1s 81us/sample - loss: 0.0089 - accuracy: 0.5928 - val_loss: 0.0087 - val_accuracy: 0.6092\n",
      "Epoch 20/35\n",
      "16220/16220 [==============================] - 1s 83us/sample - loss: 0.0089 - accuracy: 0.5940 - val_loss: 0.0087 - val_accuracy: 0.6124\n",
      "Epoch 21/35\n",
      "16220/16220 [==============================] - 1s 81us/sample - loss: 0.0089 - accuracy: 0.5928 - val_loss: 0.0087 - val_accuracy: 0.6132\n",
      "Epoch 22/35\n",
      "16220/16220 [==============================] - 1s 84us/sample - loss: 0.0089 - accuracy: 0.5940 - val_loss: 0.0087 - val_accuracy: 0.6075\n",
      "Epoch 23/35\n",
      "16220/16220 [==============================] - 1s 82us/sample - loss: 0.0089 - accuracy: 0.5948 - val_loss: 0.0086 - val_accuracy: 0.6100\n",
      "Epoch 24/35\n",
      "16220/16220 [==============================] - 1s 82us/sample - loss: 0.0089 - accuracy: 0.5940 - val_loss: 0.0086 - val_accuracy: 0.6112\n",
      "Epoch 25/35\n",
      "16220/16220 [==============================] - 1s 81us/sample - loss: 0.0088 - accuracy: 0.5964 - val_loss: 0.0087 - val_accuracy: 0.6097\n",
      "Epoch 26/35\n",
      "16220/16220 [==============================] - 1s 81us/sample - loss: 0.0088 - accuracy: 0.5962 - val_loss: 0.0087 - val_accuracy: 0.6087\n",
      "Epoch 27/35\n",
      "16220/16220 [==============================] - 1s 84us/sample - loss: 0.0088 - accuracy: 0.5969 - val_loss: 0.0087 - val_accuracy: 0.6092\n",
      "Epoch 28/35\n",
      "16220/16220 [==============================] - 1s 82us/sample - loss: 0.0088 - accuracy: 0.5973 - val_loss: 0.0086 - val_accuracy: 0.6082\n",
      "Epoch 29/35\n",
      "16220/16220 [==============================] - 1s 81us/sample - loss: 0.0088 - accuracy: 0.5989 - val_loss: 0.0086 - val_accuracy: 0.6100\n",
      "Epoch 30/35\n",
      "16220/16220 [==============================] - 1s 81us/sample - loss: 0.0088 - accuracy: 0.5975 - val_loss: 0.0087 - val_accuracy: 0.6087\n",
      "Epoch 31/35\n",
      "16220/16220 [==============================] - 1s 83us/sample - loss: 0.0088 - accuracy: 0.5998 - val_loss: 0.0086 - val_accuracy: 0.6127\n",
      "Epoch 32/35\n",
      "16220/16220 [==============================] - 1s 81us/sample - loss: 0.0088 - accuracy: 0.5994 - val_loss: 0.0086 - val_accuracy: 0.6112\n",
      "Epoch 33/35\n",
      "16220/16220 [==============================] - 1s 82us/sample - loss: 0.0088 - accuracy: 0.6001 - val_loss: 0.0086 - val_accuracy: 0.6085\n",
      "Epoch 34/35\n",
      "16220/16220 [==============================] - 1s 80us/sample - loss: 0.0087 - accuracy: 0.6015 - val_loss: 0.0086 - val_accuracy: 0.6077\n",
      "Epoch 35/35\n",
      "16220/16220 [==============================] - 1s 81us/sample - loss: 0.0087 - accuracy: 0.6014 - val_loss: 0.0086 - val_accuracy: 0.6107\n",
      "Training date and time : \n",
      "2020-04-08 05:25:45\n",
      "Train on 16275 samples, validate on 4069 samples\n",
      "Epoch 1/40\n",
      "16275/16275 [==============================] - 2s 112us/sample - loss: 0.0099 - accuracy: 0.5476 - val_loss: 0.0101 - val_accuracy: 0.5345\n",
      "Epoch 2/40\n",
      "16275/16275 [==============================] - 1s 85us/sample - loss: 0.0098 - accuracy: 0.5492 - val_loss: 0.0101 - val_accuracy: 0.5358\n",
      "Epoch 3/40\n",
      "16275/16275 [==============================] - 1s 81us/sample - loss: 0.0098 - accuracy: 0.5511 - val_loss: 0.0101 - val_accuracy: 0.5358\n",
      "Epoch 4/40\n",
      "16275/16275 [==============================] - 1s 81us/sample - loss: 0.0098 - accuracy: 0.5534 - val_loss: 0.0100 - val_accuracy: 0.5385\n",
      "Epoch 5/40\n",
      "16275/16275 [==============================] - 1s 84us/sample - loss: 0.0098 - accuracy: 0.5524 - val_loss: 0.0100 - val_accuracy: 0.5434\n",
      "Epoch 6/40\n",
      "16275/16275 [==============================] - 2s 93us/sample - loss: 0.0097 - accuracy: 0.5547 - val_loss: 0.0100 - val_accuracy: 0.5458\n",
      "Epoch 7/40\n",
      "16275/16275 [==============================] - 1s 82us/sample - loss: 0.0097 - accuracy: 0.5553 - val_loss: 0.0100 - val_accuracy: 0.5417\n",
      "Epoch 8/40\n",
      "16275/16275 [==============================] - 1s 83us/sample - loss: 0.0097 - accuracy: 0.5558 - val_loss: 0.0100 - val_accuracy: 0.5441\n",
      "Epoch 9/40\n",
      "16275/16275 [==============================] - 2s 94us/sample - loss: 0.0097 - accuracy: 0.5566 - val_loss: 0.0100 - val_accuracy: 0.5409\n",
      "Epoch 10/40\n",
      "16275/16275 [==============================] - 1s 85us/sample - loss: 0.0097 - accuracy: 0.5574 - val_loss: 0.0100 - val_accuracy: 0.5412\n",
      "Epoch 11/40\n",
      "16275/16275 [==============================] - 1s 86us/sample - loss: 0.0097 - accuracy: 0.5588 - val_loss: 0.0099 - val_accuracy: 0.5431\n",
      "Epoch 12/40\n",
      "16275/16275 [==============================] - 1s 86us/sample - loss: 0.0096 - accuracy: 0.5583 - val_loss: 0.0099 - val_accuracy: 0.5463\n",
      "Epoch 13/40\n",
      "16275/16275 [==============================] - 1s 84us/sample - loss: 0.0096 - accuracy: 0.5602 - val_loss: 0.0099 - val_accuracy: 0.5424\n",
      "Epoch 14/40\n",
      "16275/16275 [==============================] - 1s 90us/sample - loss: 0.0096 - accuracy: 0.5602 - val_loss: 0.0099 - val_accuracy: 0.5453\n",
      "Epoch 15/40\n",
      "16275/16275 [==============================] - 1s 85us/sample - loss: 0.0096 - accuracy: 0.5618 - val_loss: 0.0099 - val_accuracy: 0.5466\n",
      "Epoch 16/40\n",
      "16275/16275 [==============================] - 1s 81us/sample - loss: 0.0096 - accuracy: 0.5629 - val_loss: 0.0099 - val_accuracy: 0.5476\n",
      "Epoch 17/40\n",
      "16275/16275 [==============================] - 1s 84us/sample - loss: 0.0096 - accuracy: 0.5630 - val_loss: 0.0099 - val_accuracy: 0.5485\n",
      "Epoch 18/40\n",
      "16275/16275 [==============================] - 1s 85us/sample - loss: 0.0096 - accuracy: 0.5637 - val_loss: 0.0099 - val_accuracy: 0.5471\n",
      "Epoch 19/40\n",
      "16275/16275 [==============================] - 1s 85us/sample - loss: 0.0095 - accuracy: 0.5641 - val_loss: 0.0099 - val_accuracy: 0.5483\n",
      "Epoch 20/40\n"
     ]
    },
    {
     "name": "stdout",
     "output_type": "stream",
     "text": [
      "16275/16275 [==============================] - 1s 92us/sample - loss: 0.0095 - accuracy: 0.5642 - val_loss: 0.0098 - val_accuracy: 0.5498\n",
      "Epoch 21/40\n",
      "16275/16275 [==============================] - 1s 79us/sample - loss: 0.0095 - accuracy: 0.5653 - val_loss: 0.0099 - val_accuracy: 0.5453\n",
      "Epoch 22/40\n",
      "16275/16275 [==============================] - 1s 83us/sample - loss: 0.0095 - accuracy: 0.5668 - val_loss: 0.0098 - val_accuracy: 0.5478\n",
      "Epoch 23/40\n",
      "16275/16275 [==============================] - 1s 82us/sample - loss: 0.0095 - accuracy: 0.5665 - val_loss: 0.0098 - val_accuracy: 0.5495\n",
      "Epoch 24/40\n",
      "16275/16275 [==============================] - 1s 82us/sample - loss: 0.0095 - accuracy: 0.5667 - val_loss: 0.0098 - val_accuracy: 0.5525\n",
      "Epoch 25/40\n",
      "16275/16275 [==============================] - 2s 93us/sample - loss: 0.0095 - accuracy: 0.5661 - val_loss: 0.0098 - val_accuracy: 0.5500\n",
      "Epoch 26/40\n",
      "16275/16275 [==============================] - 2s 100us/sample - loss: 0.0095 - accuracy: 0.5681 - val_loss: 0.0098 - val_accuracy: 0.5500\n",
      "Epoch 27/40\n",
      "16275/16275 [==============================] - 1s 82us/sample - loss: 0.0095 - accuracy: 0.5670 - val_loss: 0.0098 - val_accuracy: 0.5515\n",
      "Epoch 28/40\n",
      "16275/16275 [==============================] - 1s 90us/sample - loss: 0.0095 - accuracy: 0.5689 - val_loss: 0.0098 - val_accuracy: 0.5498\n",
      "Epoch 29/40\n",
      "16275/16275 [==============================] - 1s 87us/sample - loss: 0.0094 - accuracy: 0.5687 - val_loss: 0.0098 - val_accuracy: 0.5525\n",
      "Epoch 30/40\n",
      "16275/16275 [==============================] - 2s 94us/sample - loss: 0.0094 - accuracy: 0.5683 - val_loss: 0.0098 - val_accuracy: 0.5505\n",
      "Epoch 31/40\n",
      "16275/16275 [==============================] - 2s 96us/sample - loss: 0.0094 - accuracy: 0.5685 - val_loss: 0.0098 - val_accuracy: 0.5500\n",
      "Epoch 32/40\n",
      "16275/16275 [==============================] - 1s 89us/sample - loss: 0.0094 - accuracy: 0.5690 - val_loss: 0.0098 - val_accuracy: 0.5525\n",
      "Epoch 33/40\n",
      "16275/16275 [==============================] - 1s 82us/sample - loss: 0.0094 - accuracy: 0.5714 - val_loss: 0.0098 - val_accuracy: 0.5520\n",
      "Epoch 34/40\n",
      "16275/16275 [==============================] - 1s 81us/sample - loss: 0.0094 - accuracy: 0.5703 - val_loss: 0.0098 - val_accuracy: 0.5532\n",
      "Epoch 35/40\n",
      "16275/16275 [==============================] - 1s 84us/sample - loss: 0.0094 - accuracy: 0.5712 - val_loss: 0.0098 - val_accuracy: 0.5507\n",
      "Epoch 36/40\n",
      "16275/16275 [==============================] - 1s 89us/sample - loss: 0.0094 - accuracy: 0.5728 - val_loss: 0.0098 - val_accuracy: 0.5557\n",
      "Epoch 37/40\n",
      "16275/16275 [==============================] - 1s 86us/sample - loss: 0.0094 - accuracy: 0.5720 - val_loss: 0.0098 - val_accuracy: 0.5537\n",
      "Epoch 38/40\n",
      "16275/16275 [==============================] - 1s 82us/sample - loss: 0.0094 - accuracy: 0.5726 - val_loss: 0.0097 - val_accuracy: 0.5569\n",
      "Epoch 39/40\n",
      "16275/16275 [==============================] - 2s 97us/sample - loss: 0.0094 - accuracy: 0.5736 - val_loss: 0.0098 - val_accuracy: 0.5512\n",
      "Epoch 40/40\n",
      "16275/16275 [==============================] - 1s 84us/sample - loss: 0.0094 - accuracy: 0.5739 - val_loss: 0.0097 - val_accuracy: 0.5571\n",
      "Training date and time : \n",
      "2020-04-08 05:26:41\n",
      "Train on 16106 samples, validate on 4027 samples\n",
      "Epoch 1/45\n",
      "16106/16106 [==============================] - 2s 106us/sample - loss: 0.0092 - accuracy: 0.5887 - val_loss: 0.0084 - val_accuracy: 0.6377\n",
      "Epoch 2/45\n",
      "16106/16106 [==============================] - 1s 86us/sample - loss: 0.0092 - accuracy: 0.5907 - val_loss: 0.0084 - val_accuracy: 0.6315\n",
      "Epoch 3/45\n",
      "16106/16106 [==============================] - 1s 81us/sample - loss: 0.0091 - accuracy: 0.5894 - val_loss: 0.0084 - val_accuracy: 0.6370\n",
      "Epoch 4/45\n",
      "16106/16106 [==============================] - 1s 90us/sample - loss: 0.0091 - accuracy: 0.5933 - val_loss: 0.0084 - val_accuracy: 0.6362\n",
      "Epoch 5/45\n",
      "16106/16106 [==============================] - 1s 79us/sample - loss: 0.0091 - accuracy: 0.5933 - val_loss: 0.0083 - val_accuracy: 0.6399\n",
      "Epoch 6/45\n",
      "16106/16106 [==============================] - 1s 79us/sample - loss: 0.0091 - accuracy: 0.5944 - val_loss: 0.0083 - val_accuracy: 0.6377\n",
      "Epoch 7/45\n",
      "16106/16106 [==============================] - 1s 83us/sample - loss: 0.0091 - accuracy: 0.5981 - val_loss: 0.0082 - val_accuracy: 0.6419\n",
      "Epoch 8/45\n",
      "16106/16106 [==============================] - 1s 83us/sample - loss: 0.0090 - accuracy: 0.5974 - val_loss: 0.0083 - val_accuracy: 0.6347\n",
      "Epoch 9/45\n",
      "16106/16106 [==============================] - 1s 82us/sample - loss: 0.0090 - accuracy: 0.5977 - val_loss: 0.0083 - val_accuracy: 0.6427\n",
      "Epoch 10/45\n",
      "16106/16106 [==============================] - 1s 83us/sample - loss: 0.0090 - accuracy: 0.5997 - val_loss: 0.0082 - val_accuracy: 0.6412\n",
      "Epoch 11/45\n",
      "16106/16106 [==============================] - 1s 84us/sample - loss: 0.0090 - accuracy: 0.5987 - val_loss: 0.0082 - val_accuracy: 0.6444\n",
      "Epoch 12/45\n",
      "16106/16106 [==============================] - 1s 82us/sample - loss: 0.0090 - accuracy: 0.6005 - val_loss: 0.0082 - val_accuracy: 0.6456\n",
      "Epoch 13/45\n",
      "16106/16106 [==============================] - 1s 80us/sample - loss: 0.0090 - accuracy: 0.6022 - val_loss: 0.0082 - val_accuracy: 0.6407\n",
      "Epoch 14/45\n",
      "16106/16106 [==============================] - 1s 83us/sample - loss: 0.0089 - accuracy: 0.6041 - val_loss: 0.0082 - val_accuracy: 0.6429\n",
      "Epoch 15/45\n",
      "16106/16106 [==============================] - 1s 83us/sample - loss: 0.0089 - accuracy: 0.6038 - val_loss: 0.0082 - val_accuracy: 0.6449\n",
      "Epoch 16/45\n",
      "16106/16106 [==============================] - 1s 85us/sample - loss: 0.0089 - accuracy: 0.6031 - val_loss: 0.0082 - val_accuracy: 0.6432\n",
      "Epoch 17/45\n",
      "16106/16106 [==============================] - 1s 80us/sample - loss: 0.0089 - accuracy: 0.6044 - val_loss: 0.0081 - val_accuracy: 0.6456\n",
      "Epoch 18/45\n",
      "16106/16106 [==============================] - 1s 84us/sample - loss: 0.0089 - accuracy: 0.6051 - val_loss: 0.0081 - val_accuracy: 0.6474\n",
      "Epoch 19/45\n",
      "16106/16106 [==============================] - 1s 89us/sample - loss: 0.0089 - accuracy: 0.6054 - val_loss: 0.0082 - val_accuracy: 0.6442\n",
      "Epoch 20/45\n",
      "16106/16106 [==============================] - 1s 82us/sample - loss: 0.0089 - accuracy: 0.6075 - val_loss: 0.0081 - val_accuracy: 0.6466\n",
      "Epoch 21/45\n",
      "16106/16106 [==============================] - 1s 86us/sample - loss: 0.0089 - accuracy: 0.6072 - val_loss: 0.0082 - val_accuracy: 0.6444\n",
      "Epoch 22/45\n",
      "16106/16106 [==============================] - 1s 85us/sample - loss: 0.0088 - accuracy: 0.6077 - val_loss: 0.0081 - val_accuracy: 0.6476\n",
      "Epoch 23/45\n",
      "16106/16106 [==============================] - 1s 85us/sample - loss: 0.0088 - accuracy: 0.6075 - val_loss: 0.0080 - val_accuracy: 0.6494\n",
      "Epoch 24/45\n",
      "16106/16106 [==============================] - 1s 80us/sample - loss: 0.0088 - accuracy: 0.6082 - val_loss: 0.0080 - val_accuracy: 0.6514\n",
      "Epoch 25/45\n",
      "16106/16106 [==============================] - 3s 183us/sample - loss: 0.0088 - accuracy: 0.6096 - val_loss: 0.0082 - val_accuracy: 0.6442\n",
      "Epoch 26/45\n",
      "16106/16106 [==============================] - 1s 85us/sample - loss: 0.0088 - accuracy: 0.6110 - val_loss: 0.0080 - val_accuracy: 0.6504\n",
      "Epoch 27/45\n",
      "16106/16106 [==============================] - 1s 84us/sample - loss: 0.0088 - accuracy: 0.6096 - val_loss: 0.0081 - val_accuracy: 0.6481\n",
      "Epoch 28/45\n",
      "16106/16106 [==============================] - 1s 84us/sample - loss: 0.0088 - accuracy: 0.6094 - val_loss: 0.0080 - val_accuracy: 0.6516\n",
      "Epoch 29/45\n",
      "16106/16106 [==============================] - 1s 85us/sample - loss: 0.0088 - accuracy: 0.6119 - val_loss: 0.0081 - val_accuracy: 0.6456\n",
      "Epoch 30/45\n",
      "16106/16106 [==============================] - 1s 85us/sample - loss: 0.0088 - accuracy: 0.6108 - val_loss: 0.0081 - val_accuracy: 0.6461\n",
      "Epoch 31/45\n",
      "16106/16106 [==============================] - 1s 91us/sample - loss: 0.0087 - accuracy: 0.6120 - val_loss: 0.0081 - val_accuracy: 0.6417\n",
      "Epoch 32/45\n",
      "16106/16106 [==============================] - 1s 88us/sample - loss: 0.0087 - accuracy: 0.6126 - val_loss: 0.0080 - val_accuracy: 0.6486\n",
      "Epoch 33/45\n",
      "16106/16106 [==============================] - 1s 82us/sample - loss: 0.0087 - accuracy: 0.6129 - val_loss: 0.0080 - val_accuracy: 0.6526\n",
      "Epoch 34/45\n"
     ]
    },
    {
     "name": "stdout",
     "output_type": "stream",
     "text": [
      "16106/16106 [==============================] - 1s 80us/sample - loss: 0.0087 - accuracy: 0.6136 - val_loss: 0.0080 - val_accuracy: 0.6496\n",
      "Epoch 35/45\n",
      "16106/16106 [==============================] - 1s 81us/sample - loss: 0.0087 - accuracy: 0.6136 - val_loss: 0.0080 - val_accuracy: 0.6518\n",
      "Epoch 36/45\n",
      "16106/16106 [==============================] - 1s 80us/sample - loss: 0.0087 - accuracy: 0.6138 - val_loss: 0.0080 - val_accuracy: 0.6499\n",
      "Epoch 37/45\n",
      "16106/16106 [==============================] - 1s 88us/sample - loss: 0.0087 - accuracy: 0.6160 - val_loss: 0.0079 - val_accuracy: 0.6511\n",
      "Epoch 38/45\n",
      "16106/16106 [==============================] - 1s 81us/sample - loss: 0.0087 - accuracy: 0.6147 - val_loss: 0.0079 - val_accuracy: 0.6566\n",
      "Epoch 39/45\n",
      "16106/16106 [==============================] - 1s 82us/sample - loss: 0.0087 - accuracy: 0.6165 - val_loss: 0.0079 - val_accuracy: 0.6566\n",
      "Epoch 40/45\n",
      "16106/16106 [==============================] - 1s 79us/sample - loss: 0.0087 - accuracy: 0.6160 - val_loss: 0.0080 - val_accuracy: 0.6469\n",
      "Epoch 41/45\n",
      "16106/16106 [==============================] - 1s 81us/sample - loss: 0.0087 - accuracy: 0.6162 - val_loss: 0.0079 - val_accuracy: 0.6528\n",
      "Epoch 42/45\n",
      "16106/16106 [==============================] - 1s 80us/sample - loss: 0.0086 - accuracy: 0.6177 - val_loss: 0.0079 - val_accuracy: 0.6556\n",
      "Epoch 43/45\n",
      "16106/16106 [==============================] - 1s 85us/sample - loss: 0.0086 - accuracy: 0.6174 - val_loss: 0.0080 - val_accuracy: 0.6538\n",
      "Epoch 44/45\n",
      "16106/16106 [==============================] - 1s 80us/sample - loss: 0.0086 - accuracy: 0.6167 - val_loss: 0.0080 - val_accuracy: 0.6469\n",
      "Epoch 45/45\n",
      "16106/16106 [==============================] - 1s 83us/sample - loss: 0.0086 - accuracy: 0.6180 - val_loss: 0.0079 - val_accuracy: 0.6573\n",
      "Training date and time : \n",
      "2020-04-08 05:27:44\n",
      "Train on 16076 samples, validate on 4020 samples\n",
      "Epoch 1/50\n",
      "16076/16076 [==============================] - 2s 106us/sample - loss: 0.0090 - accuracy: 0.5965 - val_loss: 0.0106 - val_accuracy: 0.5112\n",
      "Epoch 2/50\n",
      "16076/16076 [==============================] - 1s 83us/sample - loss: 0.0089 - accuracy: 0.5990 - val_loss: 0.0108 - val_accuracy: 0.4983\n",
      "Epoch 3/50\n",
      "16076/16076 [==============================] - 1s 84us/sample - loss: 0.0089 - accuracy: 0.5988 - val_loss: 0.0108 - val_accuracy: 0.5017\n",
      "Epoch 4/50\n",
      "16076/16076 [==============================] - 1s 83us/sample - loss: 0.0089 - accuracy: 0.5988 - val_loss: 0.0108 - val_accuracy: 0.5005\n",
      "Epoch 5/50\n",
      "16076/16076 [==============================] - 1s 82us/sample - loss: 0.0089 - accuracy: 0.6002 - val_loss: 0.0105 - val_accuracy: 0.5137\n",
      "Epoch 6/50\n",
      "16076/16076 [==============================] - 1s 82us/sample - loss: 0.0089 - accuracy: 0.6021 - val_loss: 0.0106 - val_accuracy: 0.5095\n",
      "Epoch 7/50\n",
      "16076/16076 [==============================] - 1s 80us/sample - loss: 0.0089 - accuracy: 0.6020 - val_loss: 0.0105 - val_accuracy: 0.5182\n",
      "Epoch 8/50\n",
      "16076/16076 [==============================] - 1s 86us/sample - loss: 0.0088 - accuracy: 0.6022 - val_loss: 0.0108 - val_accuracy: 0.5007\n",
      "Epoch 9/50\n",
      "16076/16076 [==============================] - 1s 81us/sample - loss: 0.0088 - accuracy: 0.6041 - val_loss: 0.0106 - val_accuracy: 0.5114\n",
      "Epoch 10/50\n",
      "16076/16076 [==============================] - 1s 82us/sample - loss: 0.0088 - accuracy: 0.6050 - val_loss: 0.0108 - val_accuracy: 0.5002\n",
      "Epoch 11/50\n",
      "16076/16076 [==============================] - 1s 83us/sample - loss: 0.0088 - accuracy: 0.6048 - val_loss: 0.0106 - val_accuracy: 0.5075\n",
      "Epoch 12/50\n",
      "16076/16076 [==============================] - 1s 81us/sample - loss: 0.0088 - accuracy: 0.6042 - val_loss: 0.0106 - val_accuracy: 0.5102\n",
      "Epoch 13/50\n",
      "16076/16076 [==============================] - 1s 83us/sample - loss: 0.0088 - accuracy: 0.6057 - val_loss: 0.0109 - val_accuracy: 0.4910\n",
      "Epoch 14/50\n",
      "16076/16076 [==============================] - 1s 85us/sample - loss: 0.0088 - accuracy: 0.6071 - val_loss: 0.0110 - val_accuracy: 0.4918\n",
      "Epoch 15/50\n",
      "16076/16076 [==============================] - 1s 77us/sample - loss: 0.0088 - accuracy: 0.6077 - val_loss: 0.0107 - val_accuracy: 0.5080\n",
      "Epoch 16/50\n",
      "16076/16076 [==============================] - 1s 85us/sample - loss: 0.0087 - accuracy: 0.6074 - val_loss: 0.0107 - val_accuracy: 0.5022\n",
      "Epoch 17/50\n",
      "16076/16076 [==============================] - 1s 83us/sample - loss: 0.0087 - accuracy: 0.6087 - val_loss: 0.0109 - val_accuracy: 0.4923\n",
      "Epoch 18/50\n",
      "16076/16076 [==============================] - 1s 80us/sample - loss: 0.0087 - accuracy: 0.6069 - val_loss: 0.0109 - val_accuracy: 0.4933\n",
      "Epoch 19/50\n",
      "16076/16076 [==============================] - 1s 80us/sample - loss: 0.0087 - accuracy: 0.6092 - val_loss: 0.0110 - val_accuracy: 0.4878\n",
      "Epoch 20/50\n",
      "16076/16076 [==============================] - 1s 85us/sample - loss: 0.0087 - accuracy: 0.6103 - val_loss: 0.0105 - val_accuracy: 0.5152\n",
      "Epoch 21/50\n",
      "16076/16076 [==============================] - 1s 81us/sample - loss: 0.0087 - accuracy: 0.6087 - val_loss: 0.0107 - val_accuracy: 0.5020\n",
      "Epoch 22/50\n",
      "16076/16076 [==============================] - 1s 79us/sample - loss: 0.0087 - accuracy: 0.6108 - val_loss: 0.0108 - val_accuracy: 0.4988\n",
      "Epoch 23/50\n",
      "16076/16076 [==============================] - 1s 83us/sample - loss: 0.0087 - accuracy: 0.6118 - val_loss: 0.0109 - val_accuracy: 0.4940\n",
      "Epoch 24/50\n",
      "16076/16076 [==============================] - 1s 86us/sample - loss: 0.0087 - accuracy: 0.6099 - val_loss: 0.0110 - val_accuracy: 0.4970\n",
      "Epoch 25/50\n",
      "16076/16076 [==============================] - 1s 81us/sample - loss: 0.0087 - accuracy: 0.6109 - val_loss: 0.0109 - val_accuracy: 0.4938\n",
      "Epoch 26/50\n",
      "16076/16076 [==============================] - 1s 85us/sample - loss: 0.0087 - accuracy: 0.6122 - val_loss: 0.0111 - val_accuracy: 0.4871\n",
      "Epoch 27/50\n",
      "16076/16076 [==============================] - 1s 81us/sample - loss: 0.0086 - accuracy: 0.6113 - val_loss: 0.0110 - val_accuracy: 0.4913\n",
      "Epoch 28/50\n",
      "16076/16076 [==============================] - 1s 82us/sample - loss: 0.0086 - accuracy: 0.6131 - val_loss: 0.0109 - val_accuracy: 0.4943\n",
      "Epoch 29/50\n",
      "16076/16076 [==============================] - 1s 83us/sample - loss: 0.0086 - accuracy: 0.6122 - val_loss: 0.0109 - val_accuracy: 0.4910\n",
      "Epoch 30/50\n",
      "16076/16076 [==============================] - 1s 82us/sample - loss: 0.0086 - accuracy: 0.6127 - val_loss: 0.0108 - val_accuracy: 0.4933\n",
      "Epoch 31/50\n",
      "16076/16076 [==============================] - 1s 90us/sample - loss: 0.0086 - accuracy: 0.6146 - val_loss: 0.0108 - val_accuracy: 0.5017\n",
      "Epoch 32/50\n",
      "16076/16076 [==============================] - 1s 83us/sample - loss: 0.0086 - accuracy: 0.6131 - val_loss: 0.0112 - val_accuracy: 0.4771\n",
      "Epoch 33/50\n",
      "16076/16076 [==============================] - 1s 82us/sample - loss: 0.0086 - accuracy: 0.6138 - val_loss: 0.0110 - val_accuracy: 0.4861\n",
      "Epoch 34/50\n",
      "16076/16076 [==============================] - 1s 81us/sample - loss: 0.0086 - accuracy: 0.6140 - val_loss: 0.0109 - val_accuracy: 0.4905\n",
      "Epoch 35/50\n",
      "16076/16076 [==============================] - 1s 82us/sample - loss: 0.0086 - accuracy: 0.6140 - val_loss: 0.0109 - val_accuracy: 0.4918\n",
      "Epoch 36/50\n",
      "16076/16076 [==============================] - 1s 82us/sample - loss: 0.0086 - accuracy: 0.6156 - val_loss: 0.0107 - val_accuracy: 0.5077\n",
      "Epoch 37/50\n",
      "16076/16076 [==============================] - 1s 84us/sample - loss: 0.0086 - accuracy: 0.6148 - val_loss: 0.0111 - val_accuracy: 0.4856\n",
      "Epoch 38/50\n",
      "16076/16076 [==============================] - 1s 83us/sample - loss: 0.0086 - accuracy: 0.6169 - val_loss: 0.0109 - val_accuracy: 0.4925\n",
      "Epoch 39/50\n",
      "16076/16076 [==============================] - 1s 86us/sample - loss: 0.0085 - accuracy: 0.6161 - val_loss: 0.0111 - val_accuracy: 0.4833\n",
      "Epoch 40/50\n",
      "16076/16076 [==============================] - 1s 82us/sample - loss: 0.0085 - accuracy: 0.6164 - val_loss: 0.0108 - val_accuracy: 0.4998\n",
      "Epoch 41/50\n",
      "16076/16076 [==============================] - 1s 79us/sample - loss: 0.0085 - accuracy: 0.6177 - val_loss: 0.0109 - val_accuracy: 0.4935\n",
      "Epoch 42/50\n",
      "16076/16076 [==============================] - 1s 86us/sample - loss: 0.0085 - accuracy: 0.6176 - val_loss: 0.0110 - val_accuracy: 0.4893\n",
      "Epoch 43/50\n"
     ]
    },
    {
     "name": "stdout",
     "output_type": "stream",
     "text": [
      "16076/16076 [==============================] - 1s 83us/sample - loss: 0.0085 - accuracy: 0.6167 - val_loss: 0.0108 - val_accuracy: 0.4978\n",
      "Epoch 44/50\n",
      "16076/16076 [==============================] - 1s 84us/sample - loss: 0.0085 - accuracy: 0.6176 - val_loss: 0.0111 - val_accuracy: 0.4833\n",
      "Epoch 45/50\n",
      "16076/16076 [==============================] - 1s 82us/sample - loss: 0.0085 - accuracy: 0.6172 - val_loss: 0.0108 - val_accuracy: 0.4988\n",
      "Epoch 46/50\n",
      "16076/16076 [==============================] - 1s 82us/sample - loss: 0.0085 - accuracy: 0.6192 - val_loss: 0.0111 - val_accuracy: 0.4851\n",
      "Epoch 47/50\n",
      "16076/16076 [==============================] - 1s 79us/sample - loss: 0.0085 - accuracy: 0.6179 - val_loss: 0.0110 - val_accuracy: 0.4883\n",
      "Epoch 48/50\n",
      "16076/16076 [==============================] - 1s 78us/sample - loss: 0.0085 - accuracy: 0.6192 - val_loss: 0.0111 - val_accuracy: 0.4813\n",
      "Epoch 49/50\n",
      "16076/16076 [==============================] - 1s 82us/sample - loss: 0.0085 - accuracy: 0.6186 - val_loss: 0.0106 - val_accuracy: 0.5104\n",
      "Epoch 50/50\n",
      "16076/16076 [==============================] - 1s 81us/sample - loss: 0.0085 - accuracy: 0.6190 - val_loss: 0.0110 - val_accuracy: 0.4891\n"
     ]
    }
   ],
   "source": [
    "for i in range(len(model_list)):\n",
    "    compile_model(model_list[i])\n",
    "    fit_model_with_datasets(model_list[i], (i+1)*5, local_data[i][0], local_data[i][1])"
   ]
  },
  {
   "cell_type": "markdown",
   "metadata": {},
   "source": [
    "### Let's see how these models are different from each other, compared to the base model(before training)\n"
   ]
  },
  {
   "cell_type": "code",
   "execution_count": 38,
   "metadata": {},
   "outputs": [],
   "source": [
    "model_list.sort(key=lambda m : semantic_drift.l2_distance(model1, m))"
   ]
  },
  {
   "cell_type": "code",
   "execution_count": 39,
   "metadata": {},
   "outputs": [],
   "source": [
    "theta_list = list(np.arange(0, 1.05, 0.05))"
   ]
  },
  {
   "cell_type": "code",
   "execution_count": 40,
   "metadata": {},
   "outputs": [],
   "source": [
    "agg_weights_list_per_pi = list()\n",
    "for model_comp in model_list:\n",
    "    weights = [model1.get_weights(), model_comp.get_weights()]\n",
    "    agg_weights_list = list()\n",
    "    for theta in theta_list:\n",
    "        agg_weights = list()\n",
    "        for weights_list_tuple in zip(*weights):\n",
    "            agg_weights.append(np.array([np.average(np.array(w), axis=0, weights=[1. - theta, theta]) for w in zip(*weights_list_tuple)]))\n",
    "        agg_weights_list.append(agg_weights)\n",
    "    agg_weights_list_per_pi.append(agg_weights_list)"
   ]
  },
  {
   "cell_type": "code",
   "execution_count": 41,
   "metadata": {},
   "outputs": [],
   "source": [
    "dist_list = [semantic_drift.l2_distance(standard_model, m) for m in model_list]"
   ]
  },
  {
   "cell_type": "code",
   "execution_count": 42,
   "metadata": {},
   "outputs": [
    {
     "data": {
      "text/plain": [
       "[2.4901943232478577e-08,\n",
       " 8.552184075957508e-08,\n",
       " 1.1138670458294076e-07,\n",
       " 1.9842548400837185e-07,\n",
       " 3.122630650372902e-07,\n",
       " 3.8301490482357875e-07,\n",
       " 6.656196983349213e-07,\n",
       " 7.014420164946945e-07,\n",
       " 8.524899299672931e-07,\n",
       " 9.079676970388701e-07]"
      ]
     },
     "execution_count": 42,
     "metadata": {},
     "output_type": "execute_result"
    }
   ],
   "source": [
    "dist_list"
   ]
  },
  {
   "cell_type": "code",
   "execution_count": 43,
   "metadata": {},
   "outputs": [],
   "source": [
    "X, Y = np.meshgrid(np.array(theta_list), np.array(sorted(dist_list)))"
   ]
  },
  {
   "cell_type": "code",
   "execution_count": 44,
   "metadata": {},
   "outputs": [],
   "source": [
    "Z = np.zeros(X.shape)"
   ]
  },
  {
   "cell_type": "code",
   "execution_count": 45,
   "metadata": {
    "scrolled": true
   },
   "outputs": [
    {
     "name": "stdout",
     "output_type": "stream",
     "text": [
      "69393/69393 [==============================] - 4s 61us/sample - loss: 0.0089 - accuracy: 0.6010\n",
      "69393/69393 [==============================] - 4s 62us/sample - loss: 0.0089 - accuracy: 0.6015\n",
      "69393/69393 [==============================] - 4s 59us/sample - loss: 0.0089 - accuracy: 0.6016\n",
      "69393/69393 [==============================] - 5s 66us/sample - loss: 0.0089 - accuracy: 0.6015\n",
      "69393/69393 [==============================] - 4s 60us/sample - loss: 0.0089 - accuracy: 0.6016\n",
      "69393/69393 [==============================] - 4s 61us/sample - loss: 0.0089 - accuracy: 0.6016\n",
      "69393/69393 [==============================] - 4s 62us/sample - loss: 0.0089 - accuracy: 0.6014\n",
      "69393/69393 [==============================] - 5s 66us/sample - loss: 0.0089 - accuracy: 0.6006\n",
      "69393/69393 [==============================] - 5s 66us/sample - loss: 0.0089 - accuracy: 0.6004\n",
      "69393/69393 [==============================] - 4s 59us/sample - loss: 0.0089 - accuracy: 0.5997\n",
      "69393/69393 [==============================] - 4s 62us/sample - loss: 0.0089 - accuracy: 0.5990\n",
      "69393/69393 [==============================] - 4s 60us/sample - loss: 0.0089 - accuracy: 0.5984\n",
      "69393/69393 [==============================] - 4s 59us/sample - loss: 0.0089 - accuracy: 0.5976\n",
      "69393/69393 [==============================] - 4s 61us/sample - loss: 0.0089 - accuracy: 0.5967\n",
      "69393/69393 [==============================] - 5s 76us/sample - loss: 0.0090 - accuracy: 0.5954\n",
      "69393/69393 [==============================] - 5s 67us/sample - loss: 0.0090 - accuracy: 0.5943\n",
      "69393/69393 [==============================] - 4s 61us/sample - loss: 0.0090 - accuracy: 0.5928\n",
      "69393/69393 [==============================] - 4s 64us/sample - loss: 0.0090 - accuracy: 0.5914\n",
      "69393/69393 [==============================] - 4s 61us/sample - loss: 0.0091 - accuracy: 0.5894\n",
      "69393/69393 [==============================] - 4s 59us/sample - loss: 0.0091 - accuracy: 0.5876\n",
      "69393/69393 [==============================] - 4s 60us/sample - loss: 0.0091 - accuracy: 0.5859\n",
      "69393/69393 [==============================] - 4s 60us/sample - loss: 0.0089 - accuracy: 0.6010\n",
      "69393/69393 [==============================] - 4s 59us/sample - loss: 0.0089 - accuracy: 0.6017\n",
      "69393/69393 [==============================] - 4s 60us/sample - loss: 0.0089 - accuracy: 0.6023\n",
      "69393/69393 [==============================] - 4s 60us/sample - loss: 0.0089 - accuracy: 0.6028\n",
      "69393/69393 [==============================] - 4s 60us/sample - loss: 0.0089 - accuracy: 0.6031\n",
      "69393/69393 [==============================] - 5s 68us/sample - loss: 0.0089 - accuracy: 0.6036\n",
      "69393/69393 [==============================] - 4s 61us/sample - loss: 0.0089 - accuracy: 0.6038\n",
      "69393/69393 [==============================] - 4s 61us/sample - loss: 0.0089 - accuracy: 0.6042\n",
      "69393/69393 [==============================] - 4s 59us/sample - loss: 0.0088 - accuracy: 0.6044\n",
      "69393/69393 [==============================] - 4s 64us/sample - loss: 0.0088 - accuracy: 0.6047\n",
      "69393/69393 [==============================] - 5s 68us/sample - loss: 0.0088 - accuracy: 0.6048\n",
      "69393/69393 [==============================] - 5s 65us/sample - loss: 0.0088 - accuracy: 0.6048\n",
      "69393/69393 [==============================] - 4s 60us/sample - loss: 0.0088 - accuracy: 0.6048\n",
      "69393/69393 [==============================] - 4s 61us/sample - loss: 0.0088 - accuracy: 0.6046\n",
      "69393/69393 [==============================] - 4s 60us/sample - loss: 0.0088 - accuracy: 0.6046\n",
      "69393/69393 [==============================] - 4s 59us/sample - loss: 0.0088 - accuracy: 0.6041\n",
      "69393/69393 [==============================] - 4s 60us/sample - loss: 0.0089 - accuracy: 0.6037\n",
      "69393/69393 [==============================] - 4s 60us/sample - loss: 0.0089 - accuracy: 0.6033\n",
      "69393/69393 [==============================] - 5s 66us/sample - loss: 0.0089 - accuracy: 0.6029\n",
      "69393/69393 [==============================] - 4s 61us/sample - loss: 0.0089 - accuracy: 0.6025\n",
      "69393/69393 [==============================] - 4s 58us/sample - loss: 0.0089 - accuracy: 0.6021\n",
      "69393/69393 [==============================] - 4s 63us/sample - loss: 0.0089 - accuracy: 0.6010\n",
      "69393/69393 [==============================] - 5s 65us/sample - loss: 0.0089 - accuracy: 0.6014\n",
      "69393/69393 [==============================] - 4s 60us/sample - loss: 0.0089 - accuracy: 0.6004\n",
      "69393/69393 [==============================] - 4s 58us/sample - loss: 0.0090 - accuracy: 0.5994\n",
      "69393/69393 [==============================] - 4s 59us/sample - loss: 0.0090 - accuracy: 0.5975\n",
      "69393/69393 [==============================] - 4s 60us/sample - loss: 0.0090 - accuracy: 0.5956\n",
      "69393/69393 [==============================] - 4s 61us/sample - loss: 0.0091 - accuracy: 0.5928\n",
      "69393/69393 [==============================] - 4s 59us/sample - loss: 0.0091 - accuracy: 0.5898\n",
      "69393/69393 [==============================] - 4s 60us/sample - loss: 0.0092 - accuracy: 0.5860\n",
      "69393/69393 [==============================] - 4s 62us/sample - loss: 0.0092 - accuracy: 0.5818\n",
      "69393/69393 [==============================] - 5s 67us/sample - loss: 0.0093 - accuracy: 0.5766\n",
      "69393/69393 [==============================] - 4s 63us/sample - loss: 0.0094 - accuracy: 0.5711\n",
      "69393/69393 [==============================] - 6s 80us/sample - loss: 0.0095 - accuracy: 0.5661\n",
      "69393/69393 [==============================] - 5s 68us/sample - loss: 0.0095 - accuracy: 0.5617\n",
      "69393/69393 [==============================] - 4s 60us/sample - loss: 0.0096 - accuracy: 0.5569\n",
      "69393/69393 [==============================] - 5s 66us/sample - loss: 0.0097 - accuracy: 0.5528\n",
      "69393/69393 [==============================] - 4s 60us/sample - loss: 0.0098 - accuracy: 0.5488\n",
      "69393/69393 [==============================] - 4s 61us/sample - loss: 0.0098 - accuracy: 0.5451\n",
      "69393/69393 [==============================] - 4s 64us/sample - loss: 0.0099 - accuracy: 0.5411\n",
      "69393/69393 [==============================] - 4s 60us/sample - loss: 0.0100 - accuracy: 0.5378\n",
      "69393/69393 [==============================] - 4s 62us/sample - loss: 0.0101 - accuracy: 0.5345\n",
      "69393/69393 [==============================] - 4s 62us/sample - loss: 0.0089 - accuracy: 0.6010\n",
      "69393/69393 [==============================] - 4s 61us/sample - loss: 0.0089 - accuracy: 0.6015\n",
      "69393/69393 [==============================] - 4s 60us/sample - loss: 0.0089 - accuracy: 0.6020\n",
      "69393/69393 [==============================] - 4s 63us/sample - loss: 0.0089 - accuracy: 0.6019\n",
      "69393/69393 [==============================] - 4s 62us/sample - loss: 0.0089 - accuracy: 0.6024\n",
      "69393/69393 [==============================] - 4s 60us/sample - loss: 0.0089 - accuracy: 0.6025\n",
      "69393/69393 [==============================] - 4s 60us/sample - loss: 0.0089 - accuracy: 0.6024\n",
      "69393/69393 [==============================] - 4s 63us/sample - loss: 0.0089 - accuracy: 0.6023\n",
      "69393/69393 [==============================] - 4s 60us/sample - loss: 0.0089 - accuracy: 0.6020\n",
      "69393/69393 [==============================] - 4s 60us/sample - loss: 0.0089 - accuracy: 0.6020\n",
      "69393/69393 [==============================] - 4s 59us/sample - loss: 0.0089 - accuracy: 0.6018\n",
      "69393/69393 [==============================] - 4s 59us/sample - loss: 0.0089 - accuracy: 0.6015\n",
      "69393/69393 [==============================] - 4s 59us/sample - loss: 0.0089 - accuracy: 0.6010\n",
      "69393/69393 [==============================] - 4s 60us/sample - loss: 0.0089 - accuracy: 0.6002\n",
      "69393/69393 [==============================] - 4s 61us/sample - loss: 0.0089 - accuracy: 0.5993\n",
      "69393/69393 [==============================] - 4s 59us/sample - loss: 0.0089 - accuracy: 0.5988\n",
      "69393/69393 [==============================] - 4s 60us/sample - loss: 0.0089 - accuracy: 0.5978\n",
      "69393/69393 [==============================] - 4s 61us/sample - loss: 0.0089 - accuracy: 0.5969\n",
      "69393/69393 [==============================] - 4s 60us/sample - loss: 0.0090 - accuracy: 0.5957\n",
      "69393/69393 [==============================] - 4s 61us/sample - loss: 0.0090 - accuracy: 0.5944\n",
      "69393/69393 [==============================] - 4s 60us/sample - loss: 0.0090 - accuracy: 0.5934\n",
      "69393/69393 [==============================] - 4s 61us/sample - loss: 0.0089 - accuracy: 0.6010\n"
     ]
    },
    {
     "name": "stdout",
     "output_type": "stream",
     "text": [
      "69393/69393 [==============================] - 4s 60us/sample - loss: 0.0089 - accuracy: 0.6020\n",
      "69393/69393 [==============================] - 5s 67us/sample - loss: 0.0089 - accuracy: 0.6024\n",
      "69393/69393 [==============================] - 4s 61us/sample - loss: 0.0089 - accuracy: 0.6028\n",
      "69393/69393 [==============================] - 5s 68us/sample - loss: 0.0089 - accuracy: 0.6030\n",
      "69393/69393 [==============================] - 4s 62us/sample - loss: 0.0089 - accuracy: 0.6029\n",
      "69393/69393 [==============================] - 4s 61us/sample - loss: 0.0089 - accuracy: 0.6032\n",
      "69393/69393 [==============================] - 5s 69us/sample - loss: 0.0089 - accuracy: 0.6031\n",
      "69393/69393 [==============================] - 4s 60us/sample - loss: 0.0089 - accuracy: 0.6028\n",
      "69393/69393 [==============================] - 4s 60us/sample - loss: 0.0089 - accuracy: 0.6023\n",
      "69393/69393 [==============================] - 5s 66us/sample - loss: 0.0089 - accuracy: 0.6015\n",
      "69393/69393 [==============================] - 5s 70us/sample - loss: 0.0089 - accuracy: 0.6009\n",
      "69393/69393 [==============================] - 5s 65us/sample - loss: 0.0089 - accuracy: 0.5997\n",
      "69393/69393 [==============================] - 4s 64us/sample - loss: 0.0090 - accuracy: 0.5987\n",
      "69393/69393 [==============================] - 4s 60us/sample - loss: 0.0090 - accuracy: 0.5974\n",
      "69393/69393 [==============================] - 4s 62us/sample - loss: 0.0090 - accuracy: 0.5958\n",
      "69393/69393 [==============================] - 4s 59us/sample - loss: 0.0090 - accuracy: 0.5940\n",
      "69393/69393 [==============================] - 4s 59us/sample - loss: 0.0091 - accuracy: 0.5922\n",
      "69393/69393 [==============================] - 4s 61us/sample - loss: 0.0091 - accuracy: 0.5905\n",
      "69393/69393 [==============================] - 4s 60us/sample - loss: 0.0091 - accuracy: 0.5883\n",
      "69393/69393 [==============================] - 4s 61us/sample - loss: 0.0092 - accuracy: 0.5859\n",
      "69393/69393 [==============================] - 4s 62us/sample - loss: 0.0089 - accuracy: 0.6010\n",
      "69393/69393 [==============================] - 4s 60us/sample - loss: 0.0089 - accuracy: 0.6019\n",
      "69393/69393 [==============================] - 4s 59us/sample - loss: 0.0089 - accuracy: 0.6025\n",
      "69393/69393 [==============================] - 4s 62us/sample - loss: 0.0089 - accuracy: 0.6031\n",
      "69393/69393 [==============================] - 5s 70us/sample - loss: 0.0089 - accuracy: 0.6027\n",
      "69393/69393 [==============================] - 4s 61us/sample - loss: 0.0089 - accuracy: 0.6027\n",
      "69393/69393 [==============================] - 4s 62us/sample - loss: 0.0089 - accuracy: 0.6030\n",
      "69393/69393 [==============================] - 4s 60us/sample - loss: 0.0089 - accuracy: 0.6030\n",
      "69393/69393 [==============================] - 4s 60us/sample - loss: 0.0089 - accuracy: 0.6027\n",
      "69393/69393 [==============================] - 4s 60us/sample - loss: 0.0089 - accuracy: 0.6024\n",
      "69393/69393 [==============================] - 5s 66us/sample - loss: 0.0089 - accuracy: 0.6019\n",
      "69393/69393 [==============================] - 4s 60us/sample - loss: 0.0089 - accuracy: 0.6015\n",
      "69393/69393 [==============================] - 4s 61us/sample - loss: 0.0089 - accuracy: 0.6008\n",
      "69393/69393 [==============================] - 4s 60us/sample - loss: 0.0089 - accuracy: 0.5998\n",
      "69393/69393 [==============================] - 4s 61us/sample - loss: 0.0089 - accuracy: 0.5989\n",
      "69393/69393 [==============================] - 4s 64us/sample - loss: 0.0089 - accuracy: 0.5974\n",
      "69393/69393 [==============================] - 4s 60us/sample - loss: 0.0090 - accuracy: 0.5960\n",
      "69393/69393 [==============================] - 4s 61us/sample - loss: 0.0090 - accuracy: 0.5949\n",
      "69393/69393 [==============================] - 4s 60us/sample - loss: 0.0090 - accuracy: 0.5934\n",
      "69393/69393 [==============================] - 4s 60us/sample - loss: 0.0090 - accuracy: 0.5918\n",
      "69393/69393 [==============================] - 5s 67us/sample - loss: 0.0091 - accuracy: 0.5901\n",
      "69393/69393 [==============================] - 4s 60us/sample - loss: 0.0089 - accuracy: 0.6010\n",
      "69393/69393 [==============================] - 4s 61us/sample - loss: 0.0089 - accuracy: 0.6017\n",
      "69393/69393 [==============================] - 5s 68us/sample - loss: 0.0089 - accuracy: 0.6023\n",
      "69393/69393 [==============================] - 4s 62us/sample - loss: 0.0089 - accuracy: 0.6024\n",
      "69393/69393 [==============================] - 4s 60us/sample - loss: 0.0089 - accuracy: 0.6023\n",
      "69393/69393 [==============================] - 4s 59us/sample - loss: 0.0089 - accuracy: 0.6021\n",
      "69393/69393 [==============================] - 4s 59us/sample - loss: 0.0089 - accuracy: 0.6020\n",
      "69393/69393 [==============================] - 4s 64us/sample - loss: 0.0089 - accuracy: 0.6019\n",
      "69393/69393 [==============================] - 4s 60us/sample - loss: 0.0089 - accuracy: 0.6013\n",
      "69393/69393 [==============================] - 5s 77us/sample - loss: 0.0089 - accuracy: 0.6003\n",
      "69393/69393 [==============================] - 4s 59us/sample - loss: 0.0089 - accuracy: 0.5990\n",
      "69393/69393 [==============================] - 4s 62us/sample - loss: 0.0089 - accuracy: 0.5980\n",
      "69393/69393 [==============================] - 4s 62us/sample - loss: 0.0089 - accuracy: 0.5965\n",
      "69393/69393 [==============================] - 4s 60us/sample - loss: 0.0090 - accuracy: 0.5946\n",
      "69393/69393 [==============================] - 5s 66us/sample - loss: 0.0090 - accuracy: 0.5926\n",
      "69393/69393 [==============================] - 5s 66us/sample - loss: 0.0090 - accuracy: 0.5907\n",
      "69393/69393 [==============================] - 5s 67us/sample - loss: 0.0091 - accuracy: 0.5885\n",
      "69393/69393 [==============================] - 5s 67us/sample - loss: 0.0091 - accuracy: 0.5854\n",
      "69393/69393 [==============================] - 4s 61us/sample - loss: 0.0092 - accuracy: 0.5831\n",
      "69393/69393 [==============================] - 4s 63us/sample - loss: 0.0092 - accuracy: 0.5805\n",
      "69393/69393 [==============================] - 4s 60us/sample - loss: 0.0093 - accuracy: 0.5773\n",
      "69393/69393 [==============================] - 5s 69us/sample - loss: 0.0089 - accuracy: 0.6010\n",
      "69393/69393 [==============================] - 4s 60us/sample - loss: 0.0089 - accuracy: 0.6018\n",
      "69393/69393 [==============================] - 5s 66us/sample - loss: 0.0089 - accuracy: 0.6024\n",
      "69393/69393 [==============================] - 4s 59us/sample - loss: 0.0089 - accuracy: 0.6031\n",
      "69393/69393 [==============================] - 4s 60us/sample - loss: 0.0089 - accuracy: 0.6035\n",
      "69393/69393 [==============================] - 4s 62us/sample - loss: 0.0088 - accuracy: 0.6037\n",
      "69393/69393 [==============================] - 4s 61us/sample - loss: 0.0088 - accuracy: 0.6041\n",
      "69393/69393 [==============================] - 4s 60us/sample - loss: 0.0088 - accuracy: 0.6039\n",
      "69393/69393 [==============================] - 4s 61us/sample - loss: 0.0088 - accuracy: 0.6035\n",
      "69393/69393 [==============================] - 4s 60us/sample - loss: 0.0088 - accuracy: 0.6035\n",
      "69393/69393 [==============================] - 5s 65us/sample - loss: 0.0088 - accuracy: 0.6034\n",
      "69393/69393 [==============================] - 4s 61us/sample - loss: 0.0089 - accuracy: 0.6027\n",
      "69393/69393 [==============================] - 4s 60us/sample - loss: 0.0089 - accuracy: 0.6021\n",
      "69393/69393 [==============================] - 4s 59us/sample - loss: 0.0089 - accuracy: 0.6015\n",
      "69393/69393 [==============================] - 4s 61us/sample - loss: 0.0089 - accuracy: 0.6001\n",
      "69393/69393 [==============================] - 5s 65us/sample - loss: 0.0089 - accuracy: 0.5989\n",
      "69393/69393 [==============================] - 4s 62us/sample - loss: 0.0089 - accuracy: 0.5979\n",
      "69393/69393 [==============================] - 4s 59us/sample - loss: 0.0090 - accuracy: 0.5962\n",
      "69393/69393 [==============================] - 4s 62us/sample - loss: 0.0090 - accuracy: 0.5940\n",
      "69393/69393 [==============================] - 5s 66us/sample - loss: 0.0090 - accuracy: 0.5922\n",
      "69393/69393 [==============================] - 4s 64us/sample - loss: 0.0091 - accuracy: 0.5902\n",
      "69393/69393 [==============================] - 4s 60us/sample - loss: 0.0089 - accuracy: 0.6010\n",
      "69393/69393 [==============================] - 4s 59us/sample - loss: 0.0089 - accuracy: 0.6020\n"
     ]
    },
    {
     "name": "stdout",
     "output_type": "stream",
     "text": [
      "69393/69393 [==============================] - 4s 60us/sample - loss: 0.0089 - accuracy: 0.6027\n",
      "69393/69393 [==============================] - 4s 60us/sample - loss: 0.0089 - accuracy: 0.6032\n",
      "69393/69393 [==============================] - 4s 62us/sample - loss: 0.0088 - accuracy: 0.6038\n",
      "69393/69393 [==============================] - 4s 62us/sample - loss: 0.0088 - accuracy: 0.6041\n",
      "69393/69393 [==============================] - 4s 60us/sample - loss: 0.0088 - accuracy: 0.6044\n",
      "69393/69393 [==============================] - 5s 67us/sample - loss: 0.0088 - accuracy: 0.6043\n",
      "69393/69393 [==============================] - 5s 67us/sample - loss: 0.0088 - accuracy: 0.6045\n",
      "69393/69393 [==============================] - 4s 61us/sample - loss: 0.0088 - accuracy: 0.6047\n",
      "69393/69393 [==============================] - 4s 60us/sample - loss: 0.0088 - accuracy: 0.6044\n",
      "69393/69393 [==============================] - 4s 59us/sample - loss: 0.0088 - accuracy: 0.6039\n",
      "69393/69393 [==============================] - 4s 60us/sample - loss: 0.0088 - accuracy: 0.6035\n",
      "69393/69393 [==============================] - 4s 61us/sample - loss: 0.0088 - accuracy: 0.6030\n",
      "69393/69393 [==============================] - 4s 60us/sample - loss: 0.0088 - accuracy: 0.6024\n",
      "69393/69393 [==============================] - 5s 67us/sample - loss: 0.0088 - accuracy: 0.6018\n",
      "69393/69393 [==============================] - 4s 63us/sample - loss: 0.0088 - accuracy: 0.6012\n",
      "69393/69393 [==============================] - 4s 63us/sample - loss: 0.0088 - accuracy: 0.6002\n",
      "69393/69393 [==============================] - 4s 58us/sample - loss: 0.0089 - accuracy: 0.5994\n",
      "69393/69393 [==============================] - 4s 63us/sample - loss: 0.0089 - accuracy: 0.5982\n",
      "69393/69393 [==============================] - 4s 61us/sample - loss: 0.0089 - accuracy: 0.5966\n",
      "69393/69393 [==============================] - 5s 67us/sample - loss: 0.0089 - accuracy: 0.6010\n",
      "69393/69393 [==============================] - 4s 62us/sample - loss: 0.0089 - accuracy: 0.6022\n",
      "69393/69393 [==============================] - 4s 60us/sample - loss: 0.0089 - accuracy: 0.6028\n",
      "69393/69393 [==============================] - 4s 63us/sample - loss: 0.0089 - accuracy: 0.6033\n",
      "69393/69393 [==============================] - 4s 60us/sample - loss: 0.0088 - accuracy: 0.6033\n",
      "69393/69393 [==============================] - 4s 63us/sample - loss: 0.0088 - accuracy: 0.6037\n",
      "69393/69393 [==============================] - 4s 61us/sample - loss: 0.0088 - accuracy: 0.6036\n",
      "69393/69393 [==============================] - 4s 61us/sample - loss: 0.0088 - accuracy: 0.6034\n",
      "69393/69393 [==============================] - 5s 67us/sample - loss: 0.0088 - accuracy: 0.6027\n",
      "69393/69393 [==============================] - 5s 67us/sample - loss: 0.0089 - accuracy: 0.6023\n",
      "69393/69393 [==============================] - 4s 62us/sample - loss: 0.0089 - accuracy: 0.6014\n",
      "69393/69393 [==============================] - 4s 60us/sample - loss: 0.0089 - accuracy: 0.6005\n",
      "69393/69393 [==============================] - 4s 60us/sample - loss: 0.0089 - accuracy: 0.5989\n",
      "69393/69393 [==============================] - 4s 64us/sample - loss: 0.0089 - accuracy: 0.5972\n",
      "69393/69393 [==============================] - 4s 59us/sample - loss: 0.0090 - accuracy: 0.5953\n",
      "69393/69393 [==============================] - 4s 61us/sample - loss: 0.0090 - accuracy: 0.5929\n",
      "69393/69393 [==============================] - 5s 66us/sample - loss: 0.0090 - accuracy: 0.5913\n",
      "69393/69393 [==============================] - 4s 65us/sample - loss: 0.0091 - accuracy: 0.5892\n",
      "69393/69393 [==============================] - 4s 59us/sample - loss: 0.0091 - accuracy: 0.5864\n",
      "69393/69393 [==============================] - 4s 60us/sample - loss: 0.0092 - accuracy: 0.5837\n",
      "69393/69393 [==============================] - 4s 62us/sample - loss: 0.0092 - accuracy: 0.5810\n"
     ]
    }
   ],
   "source": [
    "i = 0\n",
    "for agg_weights_list in agg_weights_list_per_pi:\n",
    "    j = 0\n",
    "    for agg_weights in agg_weights_list:\n",
    "        aggr_model = keras.models.clone_model(model1)\n",
    "        aggr_model.set_weights(agg_weights)\n",
    "        compile_model(aggr_model)\n",
    "        score = aggr_model.evaluate(X_test, Y_test);\n",
    "        Z[i][j] = score[0]\n",
    "        j += 1\n",
    "    i += 1"
   ]
  },
  {
   "cell_type": "code",
   "execution_count": 46,
   "metadata": {},
   "outputs": [],
   "source": [
    "from mpl_toolkits.mplot3d import Axes3D\n",
    "import matplotlib.pyplot as plt\n",
    "from matplotlib import cm\n",
    "from matplotlib.ticker import LinearLocator, FormatStrFormatter"
   ]
  },
  {
   "cell_type": "code",
   "execution_count": 47,
   "metadata": {},
   "outputs": [
    {
     "data": {
      "image/png": "[encoded data removed]",
      "text/plain": [
       "<Figure size 432x288 with 2 Axes>"
      ]
     },
     "metadata": {},
     "output_type": "display_data"
    }
   ],
   "source": [
    "fig = plt.figure()\n",
    "ax = fig.gca(projection='3d')\n",
    "surf = ax.plot_surface(X, Y, Z, cmap=cm.rainbow,\n",
    "                       linewidth=0, antialiased=False)\n",
    "ax.set_xlabel('$theta$')\n",
    "ax.set_ylabel('$distance$')\n",
    "ax.set_zlabel('$loss$')\n",
    "# Customize the z axis.\n",
    "# ax.set_xlim(0.051, 0.054)\n",
    "# ax.zaxis.set_major_locator(LinearLocator(10))\n",
    "# ax.zaxis.set_major_formatter(FormatStrFormatter('%.02f'))\n",
    "# ax.view_init(0, 180)\n",
    "# ax.view_init(0, 0)\n",
    "# Add a color bar which maps values to colors.\n",
    "fig.colorbar(surf, shrink=0.5, aspect=5)\n",
    "plt.savefig('fig1.png')\n",
    "plt.show()"
   ]
  },
  {
   "cell_type": "code",
   "execution_count": null,
   "metadata": {},
   "outputs": [],
   "source": []
  }
 ],
 "metadata": {
  "colab": {
   "name": "personalized.ipynb",
   "provenance": [],
   "version": "0.3.2"
  },
  "kernelspec": {
   "display_name": "Environment (conda_tensorflow2_p36)",
   "language": "python",
   "name": "conda_tensorflow2_p36"
  },
  "language_info": {
   "codemirror_mode": {
    "name": "ipython",
    "version": 3
   },
   "file_extension": ".py",
   "mimetype": "text/x-python",
   "name": "python",
   "nbconvert_exporter": "python",
   "pygments_lexer": "ipython3",
   "version": "3.6.6"
  }
 },
 "nbformat": 4,
 "nbformat_minor": 1
}
